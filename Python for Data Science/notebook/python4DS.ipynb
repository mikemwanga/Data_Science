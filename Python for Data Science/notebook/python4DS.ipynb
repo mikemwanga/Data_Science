{
 "metadata": {
  "language_info": {
   "codemirror_mode": {
    "name": "ipython",
    "version": 3
   },
   "file_extension": ".py",
   "mimetype": "text/x-python",
   "name": "python",
   "nbconvert_exporter": "python",
   "pygments_lexer": "ipython3",
   "version": "3.7.10"
  },
  "orig_nbformat": 2,
  "kernelspec": {
   "name": "python3",
   "display_name": "Python 3.7.10 64-bit (conda)"
  },
  "interpreter": {
   "hash": "091598337d8b4ae3badc92ead58e4e9d45710a91681cde172c34347593357bba"
  }
 },
 "nbformat": 4,
 "nbformat_minor": 2,
 "cells": [
  {
   "cell_type": "markdown",
   "source": [
    "# Python for Data Science\n",
    "\n",
    "Exercise to analyse, visualize and present gapminde dataset.\n",
    "\n",
    "## Instructions\n",
    "To complete the miniproject, create an analysis in jupyter-notebook which does the following:\n",
    "\n",
    "Read in the gapminder_clean.csv data as a pandas DataFrame.\n",
    "\n",
    "Filter the data to include only rows where Year is 1962 and then make a scatter plot comparing `CO2 emissions (metric tons per capita)` and `gdpPercap for the filtered data`.\n",
    "\n",
    "On the filtered data, calculate the pearson correlation of 'CO2 emissions (metric tons per capita)' and gdpPercap. What is the Pearson R value and associated p value?\n",
    "\n",
    "On the unfiltered data, answer \"In what year is the correlation between 'CO2 emissions (metric tons per capita)' and gdpPercap the strongest?\" Filter the dataset to that year for the next step...\n",
    "\n",
    "Using plotly or bokeh, create an interactive scatter plot comparing 'CO2 emissions (metric tons per capita)' and gdpPercap, where the point size is determined by pop (population) and the color is determined by the continent.\n",
    "\n",
    "Now, without further guidance, use your Python Data Science skills (and the correct statistical tests) to answer the following:\n",
    "\n",
    "What is the relationship between continent and 'Energy use (kg of oil equivalent per capita)'? (Stats test needed)\n",
    "Is there a significant difference between Europe and Asia with respect to 'Imports of goods and services (% of GDP)' in the years after 1990? (Stats test needed)\n",
    "\n",
    "What is the country (or countries) that has the highest 'Population density (people per sq. km of land area)' across all years? (i.e., which country has the highest average ranking in this category across each time point in the dataset?)\n",
    "\n",
    "What country (or countries) has shown the greatest increase in 'Life expectancy at birth, total (years)' since 1962?\n",
    "\n",
    "\n",
    "For each question, you should generate summary visualizations (preferrably interactive ones) that demonstrate your answer to each question.\n",
    "\n",
    "Additionally, the analysis must be user-friendly for a non-programmer and should intuitively convey the insights you uncovered. Use markdown to ensure that the text is organized and readable. The notebook should also be friendly for a non-programmer to read.\n",
    "\n",
    "All code should be commited using git and pushed to your fork of the training repo on GitHub. Once you are done, let Henry know and he will check your notebook.\n",
    "\n"
   ],
   "metadata": {}
  },
  {
   "cell_type": "markdown",
   "source": [
    "## Load libraries"
   ],
   "metadata": {}
  },
  {
   "cell_type": "code",
   "execution_count": 2,
   "source": [
    "import pandas as pd\n",
    "import matplotlib.pyplot as plt\n",
    "import plotly.express as pltx\n",
    "import numpy as np\n",
    "from scipy.stats import pearsonr\n",
    "import seaborn as sbn\n",
    "import scipy.stats as stats\n"
   ],
   "outputs": [],
   "metadata": {}
  },
  {
   "cell_type": "code",
   "execution_count": 3,
   "source": [
    "pip install nbformat\n"
   ],
   "outputs": [
    {
     "output_type": "stream",
     "name": "stdout",
     "text": [
      "Requirement already satisfied: nbformat in /Users/mikemwanga/.pymod/pymod_envs/pymod_env/lib/python3.7/site-packages (5.1.3)\n",
      "Requirement already satisfied: jsonschema!=2.5.0,>=2.4 in /Users/mikemwanga/.pymod/pymod_envs/pymod_env/lib/python3.7/site-packages (from nbformat) (4.1.2)\n",
      "Requirement already satisfied: jupyter-core in /Users/mikemwanga/.pymod/pymod_envs/pymod_env/lib/python3.7/site-packages (from nbformat) (4.8.1)\n",
      "Requirement already satisfied: ipython-genutils in /Users/mikemwanga/.pymod/pymod_envs/pymod_env/lib/python3.7/site-packages (from nbformat) (0.2.0)\n",
      "Requirement already satisfied: traitlets>=4.1 in /Users/mikemwanga/.pymod/pymod_envs/pymod_env/lib/python3.7/site-packages (from nbformat) (5.1.0)\n",
      "Requirement already satisfied: pyrsistent!=0.17.0,!=0.17.1,!=0.17.2,>=0.14.0 in /Users/mikemwanga/.pymod/pymod_envs/pymod_env/lib/python3.7/site-packages (from jsonschema!=2.5.0,>=2.4->nbformat) (0.18.0)\n",
      "Requirement already satisfied: importlib-metadata in /Users/mikemwanga/.pymod/pymod_envs/pymod_env/lib/python3.7/site-packages (from jsonschema!=2.5.0,>=2.4->nbformat) (4.8.1)\n",
      "Requirement already satisfied: attrs>=17.4.0 in /Users/mikemwanga/.pymod/pymod_envs/pymod_env/lib/python3.7/site-packages (from jsonschema!=2.5.0,>=2.4->nbformat) (21.2.0)\n",
      "Requirement already satisfied: zipp>=0.5 in /Users/mikemwanga/.pymod/pymod_envs/pymod_env/lib/python3.7/site-packages (from importlib-metadata->jsonschema!=2.5.0,>=2.4->nbformat) (3.6.0)\n",
      "Requirement already satisfied: typing-extensions>=3.6.4 in /Users/mikemwanga/.pymod/pymod_envs/pymod_env/lib/python3.7/site-packages (from importlib-metadata->jsonschema!=2.5.0,>=2.4->nbformat) (3.10.0.2)\n",
      "Note: you may need to restart the kernel to use updated packages.\n"
     ]
    }
   ],
   "metadata": {}
  },
  {
   "cell_type": "markdown",
   "source": [
    "Load data and filter rows containing only `1962`"
   ],
   "metadata": {}
  },
  {
   "cell_type": "code",
   "execution_count": 4,
   "source": [
    "my_data = pd.read_csv(\"../data/gapminder_clean.csv\")\n",
    "\n",
    "my_data_1962 = my_data[my_data[\"Year\"] == 1962] \n",
    "\n",
    "my_data.head()"
   ],
   "outputs": [
    {
     "output_type": "execute_result",
     "data": {
      "text/html": [
       "<div>\n",
       "<style scoped>\n",
       "    .dataframe tbody tr th:only-of-type {\n",
       "        vertical-align: middle;\n",
       "    }\n",
       "\n",
       "    .dataframe tbody tr th {\n",
       "        vertical-align: top;\n",
       "    }\n",
       "\n",
       "    .dataframe thead th {\n",
       "        text-align: right;\n",
       "    }\n",
       "</style>\n",
       "<table border=\"1\" class=\"dataframe\">\n",
       "  <thead>\n",
       "    <tr style=\"text-align: right;\">\n",
       "      <th></th>\n",
       "      <th>Unnamed: 0</th>\n",
       "      <th>Country Name</th>\n",
       "      <th>Year</th>\n",
       "      <th>Agriculture, value added (% of GDP)</th>\n",
       "      <th>CO2 emissions (metric tons per capita)</th>\n",
       "      <th>Domestic credit provided by financial sector (% of GDP)</th>\n",
       "      <th>Electric power consumption (kWh per capita)</th>\n",
       "      <th>Energy use (kg of oil equivalent per capita)</th>\n",
       "      <th>Exports of goods and services (% of GDP)</th>\n",
       "      <th>Fertility rate, total (births per woman)</th>\n",
       "      <th>GDP growth (annual %)</th>\n",
       "      <th>Imports of goods and services (% of GDP)</th>\n",
       "      <th>Industry, value added (% of GDP)</th>\n",
       "      <th>Inflation, GDP deflator (annual %)</th>\n",
       "      <th>Life expectancy at birth, total (years)</th>\n",
       "      <th>Population density (people per sq. km of land area)</th>\n",
       "      <th>Services, etc., value added (% of GDP)</th>\n",
       "      <th>pop</th>\n",
       "      <th>continent</th>\n",
       "      <th>gdpPercap</th>\n",
       "    </tr>\n",
       "  </thead>\n",
       "  <tbody>\n",
       "    <tr>\n",
       "      <th>0</th>\n",
       "      <td>0</td>\n",
       "      <td>Afghanistan</td>\n",
       "      <td>1962</td>\n",
       "      <td>NaN</td>\n",
       "      <td>0.073781</td>\n",
       "      <td>21.276422</td>\n",
       "      <td>NaN</td>\n",
       "      <td>NaN</td>\n",
       "      <td>4.878051</td>\n",
       "      <td>7.450</td>\n",
       "      <td>NaN</td>\n",
       "      <td>9.349593</td>\n",
       "      <td>NaN</td>\n",
       "      <td>NaN</td>\n",
       "      <td>33.219902</td>\n",
       "      <td>14.312061</td>\n",
       "      <td>NaN</td>\n",
       "      <td>10267083.0</td>\n",
       "      <td>Asia</td>\n",
       "      <td>853.100710</td>\n",
       "    </tr>\n",
       "    <tr>\n",
       "      <th>1</th>\n",
       "      <td>1</td>\n",
       "      <td>Afghanistan</td>\n",
       "      <td>1967</td>\n",
       "      <td>NaN</td>\n",
       "      <td>0.123782</td>\n",
       "      <td>9.917662</td>\n",
       "      <td>NaN</td>\n",
       "      <td>NaN</td>\n",
       "      <td>6.772908</td>\n",
       "      <td>7.450</td>\n",
       "      <td>NaN</td>\n",
       "      <td>14.209827</td>\n",
       "      <td>NaN</td>\n",
       "      <td>NaN</td>\n",
       "      <td>35.389415</td>\n",
       "      <td>15.881812</td>\n",
       "      <td>NaN</td>\n",
       "      <td>11537966.0</td>\n",
       "      <td>Asia</td>\n",
       "      <td>836.197138</td>\n",
       "    </tr>\n",
       "    <tr>\n",
       "      <th>2</th>\n",
       "      <td>2</td>\n",
       "      <td>Afghanistan</td>\n",
       "      <td>1972</td>\n",
       "      <td>NaN</td>\n",
       "      <td>0.130820</td>\n",
       "      <td>18.880833</td>\n",
       "      <td>NaN</td>\n",
       "      <td>NaN</td>\n",
       "      <td>14.763231</td>\n",
       "      <td>7.450</td>\n",
       "      <td>NaN</td>\n",
       "      <td>18.105850</td>\n",
       "      <td>NaN</td>\n",
       "      <td>NaN</td>\n",
       "      <td>37.610146</td>\n",
       "      <td>17.947027</td>\n",
       "      <td>NaN</td>\n",
       "      <td>13079460.0</td>\n",
       "      <td>Asia</td>\n",
       "      <td>739.981106</td>\n",
       "    </tr>\n",
       "    <tr>\n",
       "      <th>3</th>\n",
       "      <td>3</td>\n",
       "      <td>Afghanistan</td>\n",
       "      <td>1977</td>\n",
       "      <td>NaN</td>\n",
       "      <td>0.183118</td>\n",
       "      <td>13.836822</td>\n",
       "      <td>NaN</td>\n",
       "      <td>NaN</td>\n",
       "      <td>11.662904</td>\n",
       "      <td>7.449</td>\n",
       "      <td>NaN</td>\n",
       "      <td>14.823175</td>\n",
       "      <td>NaN</td>\n",
       "      <td>NaN</td>\n",
       "      <td>40.110146</td>\n",
       "      <td>19.998926</td>\n",
       "      <td>NaN</td>\n",
       "      <td>14880372.0</td>\n",
       "      <td>Asia</td>\n",
       "      <td>786.113360</td>\n",
       "    </tr>\n",
       "    <tr>\n",
       "      <th>4</th>\n",
       "      <td>4</td>\n",
       "      <td>Afghanistan</td>\n",
       "      <td>1982</td>\n",
       "      <td>NaN</td>\n",
       "      <td>0.165879</td>\n",
       "      <td>NaN</td>\n",
       "      <td>NaN</td>\n",
       "      <td>NaN</td>\n",
       "      <td>NaN</td>\n",
       "      <td>7.450</td>\n",
       "      <td>NaN</td>\n",
       "      <td>NaN</td>\n",
       "      <td>NaN</td>\n",
       "      <td>NaN</td>\n",
       "      <td>43.230732</td>\n",
       "      <td>19.402324</td>\n",
       "      <td>NaN</td>\n",
       "      <td>12881816.0</td>\n",
       "      <td>Asia</td>\n",
       "      <td>978.011439</td>\n",
       "    </tr>\n",
       "  </tbody>\n",
       "</table>\n",
       "</div>"
      ],
      "text/plain": [
       "   Unnamed: 0 Country Name  Year  Agriculture, value added (% of GDP)  \\\n",
       "0           0  Afghanistan  1962                                  NaN   \n",
       "1           1  Afghanistan  1967                                  NaN   \n",
       "2           2  Afghanistan  1972                                  NaN   \n",
       "3           3  Afghanistan  1977                                  NaN   \n",
       "4           4  Afghanistan  1982                                  NaN   \n",
       "\n",
       "   CO2 emissions (metric tons per capita)  \\\n",
       "0                                0.073781   \n",
       "1                                0.123782   \n",
       "2                                0.130820   \n",
       "3                                0.183118   \n",
       "4                                0.165879   \n",
       "\n",
       "   Domestic credit provided by financial sector (% of GDP)  \\\n",
       "0                                          21.276422         \n",
       "1                                           9.917662         \n",
       "2                                          18.880833         \n",
       "3                                          13.836822         \n",
       "4                                                NaN         \n",
       "\n",
       "   Electric power consumption (kWh per capita)  \\\n",
       "0                                          NaN   \n",
       "1                                          NaN   \n",
       "2                                          NaN   \n",
       "3                                          NaN   \n",
       "4                                          NaN   \n",
       "\n",
       "   Energy use (kg of oil equivalent per capita)  \\\n",
       "0                                           NaN   \n",
       "1                                           NaN   \n",
       "2                                           NaN   \n",
       "3                                           NaN   \n",
       "4                                           NaN   \n",
       "\n",
       "   Exports of goods and services (% of GDP)  \\\n",
       "0                                  4.878051   \n",
       "1                                  6.772908   \n",
       "2                                 14.763231   \n",
       "3                                 11.662904   \n",
       "4                                       NaN   \n",
       "\n",
       "   Fertility rate, total (births per woman)  GDP growth (annual %)  \\\n",
       "0                                     7.450                    NaN   \n",
       "1                                     7.450                    NaN   \n",
       "2                                     7.450                    NaN   \n",
       "3                                     7.449                    NaN   \n",
       "4                                     7.450                    NaN   \n",
       "\n",
       "   Imports of goods and services (% of GDP)  Industry, value added (% of GDP)  \\\n",
       "0                                  9.349593                               NaN   \n",
       "1                                 14.209827                               NaN   \n",
       "2                                 18.105850                               NaN   \n",
       "3                                 14.823175                               NaN   \n",
       "4                                       NaN                               NaN   \n",
       "\n",
       "   Inflation, GDP deflator (annual %)  \\\n",
       "0                                 NaN   \n",
       "1                                 NaN   \n",
       "2                                 NaN   \n",
       "3                                 NaN   \n",
       "4                                 NaN   \n",
       "\n",
       "   Life expectancy at birth, total (years)  \\\n",
       "0                                33.219902   \n",
       "1                                35.389415   \n",
       "2                                37.610146   \n",
       "3                                40.110146   \n",
       "4                                43.230732   \n",
       "\n",
       "   Population density (people per sq. km of land area)  \\\n",
       "0                                          14.312061     \n",
       "1                                          15.881812     \n",
       "2                                          17.947027     \n",
       "3                                          19.998926     \n",
       "4                                          19.402324     \n",
       "\n",
       "   Services, etc., value added (% of GDP)         pop continent   gdpPercap  \n",
       "0                                     NaN  10267083.0      Asia  853.100710  \n",
       "1                                     NaN  11537966.0      Asia  836.197138  \n",
       "2                                     NaN  13079460.0      Asia  739.981106  \n",
       "3                                     NaN  14880372.0      Asia  786.113360  \n",
       "4                                     NaN  12881816.0      Asia  978.011439  "
      ]
     },
     "metadata": {},
     "execution_count": 4
    }
   ],
   "metadata": {}
  },
  {
   "cell_type": "markdown",
   "source": [
    "## Scatter plot of the global `CO2 emissions` and `GDPperCap` in 1962.\n"
   ],
   "metadata": {}
  },
  {
   "cell_type": "code",
   "execution_count": 5,
   "source": [
    "#Extract the columns\n",
    "\n",
    "data_1962 = my_data[[\"CO2 emissions (metric tons per capita)\", \"gdpPercap\"]]\n",
    "\n",
    "#drop rows with NaNs\n",
    "#pd.isna(data_1962).sum() # 64/259 nas\n",
    "data_1962 = data_1962.dropna()"
   ],
   "outputs": [],
   "metadata": {}
  },
  {
   "cell_type": "code",
   "execution_count": 6,
   "source": [
    "#Plt function from matplotlib\n",
    "x = data_1962[\"CO2 emissions (metric tons per capita)\"]\n",
    "y = data_1962[\"gdpPercap\"]\n",
    "\n",
    "plt.figure(figsize=(8,4))\n",
    "plt.scatter(x,y, alpha=0.8)\n",
    "plt.xlabel(\"CO2 emissions (metric tons per capita)\")\n",
    "plt.ylabel(\"gdpPercap\")\n",
    "plt.title(\"Global CO2 emission vs GDPperCap in 1962\")\n",
    "plt.show()\n"
   ],
   "outputs": [
    {
     "output_type": "display_data",
     "data": {
      "image/png": "[encoded data removed]",
      "text/plain": [
       "<Figure size 576x288 with 1 Axes>"
      ]
     },
     "metadata": {
      "needs_background": "light"
     }
    }
   ],
   "metadata": {}
  },
  {
   "cell_type": "markdown",
   "source": [
    "## Pearson Correlation of `CO2 emissions and GDP per capita.\n",
    "Detemining the pearson R and P values!\n",
    "\n",
    "Pearson correlation is the measure of strength of linear association between two variables and is denotated by *r*. \n",
    "When:\n",
    "    *r=0* - no correlation\n",
    "    *r>0* - positive correlation\n",
    "    *r<0* - negative correlatio\n",
    "\n",
    "The `pearsonr()` from `scipy` library will be used in here. \n",
    "`x` is the `CO2 emissions` and `y` is `GDP per capita`\n",
    "\n",
    "links\n",
    "[correlations](https://machinelearningmastery.com/how-to-use-correlation-to-understand-the-relationship-between-variables/)\n"
   ],
   "metadata": {}
  },
  {
   "cell_type": "code",
   "execution_count": 7,
   "source": [
    "#Correlation by dropping all rows with NANs\n",
    "\n",
    "data = my_data_1962[[\"CO2 emissions (metric tons per capita)\", \"gdpPercap\"]]\n",
    "data = data.dropna()\n",
    "corr, pvalue = pearsonr(\n",
    "    data[\"CO2 emissions (metric tons per capita)\"], data[\"gdpPercap\"])\n",
    "print(\"The pearson's correlation is\", round(corr,3), \"and a p-value of\", round(pvalue, 3))\n"
   ],
   "outputs": [
    {
     "output_type": "stream",
     "name": "stdout",
     "text": [
      "The pearson's correlation is 0.926 and a p-value of 0.0\n"
     ]
    }
   ],
   "metadata": {}
  },
  {
   "cell_type": "markdown",
   "source": [
    "The pearson's correlation is `0.926` and a p-value of pretty much `0`. There exists a moderate correlation between `C02 emissions` and `GDP per capita` "
   ],
   "metadata": {}
  },
  {
   "cell_type": "markdown",
   "source": [
    "## Comparing correlation between years `CO2 emissions vs gdppacap`"
   ],
   "metadata": {}
  },
  {
   "cell_type": "code",
   "execution_count": 8,
   "source": [
    "#drop rows with# nans\n",
    "data_all = my_data[[\"continent\", \"Year\", \"pop\",\n",
    "                    \"CO2 emissions (metric tons per capita)\", \"gdpPercap\"]]\n",
    "#data_all.head()\n",
    "df = pd.DataFrame(data_all.isna().sum())\n",
    "df\n"
   ],
   "outputs": [
    {
     "output_type": "execute_result",
     "data": {
      "text/html": [
       "<div>\n",
       "<style scoped>\n",
       "    .dataframe tbody tr th:only-of-type {\n",
       "        vertical-align: middle;\n",
       "    }\n",
       "\n",
       "    .dataframe tbody tr th {\n",
       "        vertical-align: top;\n",
       "    }\n",
       "\n",
       "    .dataframe thead th {\n",
       "        text-align: right;\n",
       "    }\n",
       "</style>\n",
       "<table border=\"1\" class=\"dataframe\">\n",
       "  <thead>\n",
       "    <tr style=\"text-align: right;\">\n",
       "      <th></th>\n",
       "      <th>0</th>\n",
       "    </tr>\n",
       "  </thead>\n",
       "  <tbody>\n",
       "    <tr>\n",
       "      <th>continent</th>\n",
       "      <td>1323</td>\n",
       "    </tr>\n",
       "    <tr>\n",
       "      <th>Year</th>\n",
       "      <td>0</td>\n",
       "    </tr>\n",
       "    <tr>\n",
       "      <th>pop</th>\n",
       "      <td>1323</td>\n",
       "    </tr>\n",
       "    <tr>\n",
       "      <th>CO2 emissions (metric tons per capita)</th>\n",
       "      <td>414</td>\n",
       "    </tr>\n",
       "    <tr>\n",
       "      <th>gdpPercap</th>\n",
       "      <td>1323</td>\n",
       "    </tr>\n",
       "  </tbody>\n",
       "</table>\n",
       "</div>"
      ],
      "text/plain": [
       "                                           0\n",
       "continent                               1323\n",
       "Year                                       0\n",
       "pop                                     1323\n",
       "CO2 emissions (metric tons per capita)   414\n",
       "gdpPercap                               1323"
      ]
     },
     "metadata": {},
     "execution_count": 8
    }
   ],
   "metadata": {}
  },
  {
   "cell_type": "code",
   "execution_count": 9,
   "source": [
    "\n",
    "data_all = data_all.dropna()\n",
    "period = data_all[\"Year\"].unique() #Get a list of the periods\n",
    "\n",
    "#create a dict of each year and respective observations#for year in period:\n",
    "df_dict = {}\n",
    "for year in period:\n",
    "    df_dict[year] = data_all[data_all[\"Year\"] == year]\n",
    "df_dict\n",
    "xy_dict = {} #create a dict of year and necessary columns\n",
    "for year in period:\n",
    "   xy_dict[year] = df_dict[year][\"CO2 emissions (metric tons per capita)\"], df_dict[year][\"gdpPercap\"]\n",
    "\n",
    "correlation_data = {} #dictionary of the correlation values and years\n",
    "for year in xy_dict:\n",
    "    #print(len(xy_dict[year][1]), len(xy_dict[year][0]))\n",
    "    corr,_ = pearsonr(xy_dict[year][0], xy_dict[year][1])\n",
    "    correlation_data[year] = corr\n",
    "\n",
    "correlation_data_df = pd.DataFrame(list(correlation_data.items()))\n",
    "\n",
    "\n",
    "correlation_data_df.columns = [\"Year\",\"pearsonr_correlation\"]\n",
    "print(correlation_data_df)\n",
    "\n",
    "#determine year with maximum correlation.\n",
    "year_max_corre = max(correlation_data,key=correlation_data.get)\n",
    "max_corre = max(correlation_data.values())\n",
    "print(\" Year with maximum correlation is\", year_max_corre, \"with a maximum correlation of ~\", \"{:.2f}\".format(max_corre))\n"
   ],
   "outputs": [
    {
     "output_type": "stream",
     "name": "stdout",
     "text": [
      "   Year  pearsonr_correlation\n",
      "0  1962              0.926082\n",
      "1  1967              0.938792\n",
      "2  1972              0.842899\n",
      "3  1977              0.792834\n",
      "4  1982              0.816638\n",
      "5  1987              0.809553\n",
      "6  1992              0.809432\n",
      "7  1997              0.808140\n",
      "8  2002              0.800642\n",
      "9  2007              0.720417\n",
      " Year with maximum correlation is 1967 with a maximum correlation of ~ 0.94\n"
     ]
    }
   ],
   "metadata": {}
  },
  {
   "cell_type": "markdown",
   "source": [
    "Filter Dataset to the year with highest correlation and create a scatter plot between `CO2 emission` and `gdpPaCap`\n",
    "\n",
    "Using plotly or bokeh, create an interactive scatter plot comparing 'CO2 emissions (metric tons per capita)' and gdpPercap, where the point size is determined by pop (population) and the color is determined by the continent."
   ],
   "metadata": {}
  },
  {
   "cell_type": "code",
   "execution_count": 10,
   "source": [
    "data_1967 = my_data[my_data[\"Year\"] == 1967]\n",
    "corr_data = data_1967[[\n",
    "    \"pop\", \"continent\", \"CO2 emissions (metric tons per capita)\", \"gdpPercap\"]]\n",
    "\n",
    "corr_data = corr_data.dropna()  # the data has missing data which we drop here\n",
    "\n",
    "#Since the population values are extremely large, we get their log10 forms\n",
    "\n",
    "corr_data[\"pop_log\"] = np.log10(corr_data[[\"pop\"]])\n",
    "\n",
    "corr_data.head()\n"
   ],
   "outputs": [
    {
     "output_type": "execute_result",
     "data": {
      "text/html": [
       "<div>\n",
       "<style scoped>\n",
       "    .dataframe tbody tr th:only-of-type {\n",
       "        vertical-align: middle;\n",
       "    }\n",
       "\n",
       "    .dataframe tbody tr th {\n",
       "        vertical-align: top;\n",
       "    }\n",
       "\n",
       "    .dataframe thead th {\n",
       "        text-align: right;\n",
       "    }\n",
       "</style>\n",
       "<table border=\"1\" class=\"dataframe\">\n",
       "  <thead>\n",
       "    <tr style=\"text-align: right;\">\n",
       "      <th></th>\n",
       "      <th>pop</th>\n",
       "      <th>continent</th>\n",
       "      <th>CO2 emissions (metric tons per capita)</th>\n",
       "      <th>gdpPercap</th>\n",
       "      <th>pop_log</th>\n",
       "    </tr>\n",
       "  </thead>\n",
       "  <tbody>\n",
       "    <tr>\n",
       "      <th>1</th>\n",
       "      <td>11537966.0</td>\n",
       "      <td>Asia</td>\n",
       "      <td>0.123782</td>\n",
       "      <td>836.197138</td>\n",
       "      <td>7.062129</td>\n",
       "    </tr>\n",
       "    <tr>\n",
       "      <th>11</th>\n",
       "      <td>1984060.0</td>\n",
       "      <td>Europe</td>\n",
       "      <td>1.363746</td>\n",
       "      <td>2760.196931</td>\n",
       "      <td>6.297555</td>\n",
       "    </tr>\n",
       "    <tr>\n",
       "      <th>21</th>\n",
       "      <td>12760499.0</td>\n",
       "      <td>Africa</td>\n",
       "      <td>0.632118</td>\n",
       "      <td>3246.991771</td>\n",
       "      <td>7.105868</td>\n",
       "    </tr>\n",
       "    <tr>\n",
       "      <th>51</th>\n",
       "      <td>5247469.0</td>\n",
       "      <td>Africa</td>\n",
       "      <td>0.166659</td>\n",
       "      <td>5522.776375</td>\n",
       "      <td>6.719950</td>\n",
       "    </tr>\n",
       "    <tr>\n",
       "      <th>81</th>\n",
       "      <td>22934225.0</td>\n",
       "      <td>Americas</td>\n",
       "      <td>2.858163</td>\n",
       "      <td>8052.953021</td>\n",
       "      <td>7.360484</td>\n",
       "    </tr>\n",
       "  </tbody>\n",
       "</table>\n",
       "</div>"
      ],
      "text/plain": [
       "           pop continent  CO2 emissions (metric tons per capita)    gdpPercap  \\\n",
       "1   11537966.0      Asia                                0.123782   836.197138   \n",
       "11   1984060.0    Europe                                1.363746  2760.196931   \n",
       "21  12760499.0    Africa                                0.632118  3246.991771   \n",
       "51   5247469.0    Africa                                0.166659  5522.776375   \n",
       "81  22934225.0  Americas                                2.858163  8052.953021   \n",
       "\n",
       "     pop_log  \n",
       "1   7.062129  \n",
       "11  6.297555  \n",
       "21  7.105868  \n",
       "51  6.719950  \n",
       "81  7.360484  "
      ]
     },
     "metadata": {},
     "execution_count": 10
    }
   ],
   "metadata": {}
  },
  {
   "cell_type": "code",
   "execution_count": 11,
   "source": [
    "import plotly.express as px\n",
    "\n",
    "fig = px.scatter(corr_data, \n",
    "                 x=\"CO2 emissions (metric tons per capita)\", \n",
    "                 y=\"gdpPercap\", \n",
    "                 color=\"continent\",\n",
    "                 size=\"pop_log\")\n",
    "fig.show()\n"
   ],
   "outputs": [
    {
     "output_type": "display_data",
     "data": {
      "application/vnd.plotly.v1+json": {
       "config": {
        "plotlyServerURL": "https://plot.ly"
       },
       "data": [
        {
         "hovertemplate": "continent=Asia<br>CO2 emissions (metric tons per capita)=%{x}<br>gdpPercap=%{y}<br>pop_log=%{marker.size}<extra></extra>",
         "legendgroup": "Asia",
         "marker": {
          "color": "#636efa",
          "size": [
           7.0621292548479735,
           5.305742488304211,
           6.8426134202988145,
           8.877688023441788,
           8.7041505168398,
           8.038790985282374,
           6.930402994229402,
           6.430330684893484,
           8.00356943244502,
           6.0986637963333195,
           5.759670110567973,
           6.339827733046444,
           6.060508975605297,
           7.412800978124666,
           7.051603568366172,
           5.854169354197458,
           7.782772792761,
           7.54847049524846,
           6.749597040809336,
           6.296138453408722,
           7.0695717571952565,
           7.531788548019225,
           7.5962001120185505
          ],
          "sizemode": "area",
          "sizeref": 0.02219422005860447,
          "symbol": "circle"
         },
         "mode": "markers",
         "name": "Asia",
         "orientation": "v",
         "showlegend": true,
         "type": "scatter",
         "x": [
          0.123782381421,
          5.12101242081,
          0.0624360387486,
          0.574162146975,
          0.331763432432,
          0.23191547809,
          2.05575631533,
          4.93341748634,
          4.86355784562,
          1.0719834839700002,
          43.4283027016,
          1.64225486815,
          1.83477215037,
          0.143519517019,
          0.0188098863912,
          0.205537806177,
          0.402522332305,
          0.555413076261,
          4.90876421118,
          1.54645934466,
          0.25192412202,
          0.360202673298,
          0.574906353177
         ],
         "xaxis": "x",
         "y": [
          836.1971382,
          14804.6727,
          523.4323142,
          612.7056934,
          700.7706107000001,
          762.4317721,
          8931.459811,
          8393.741404,
          9847.788607,
          2741.796252,
          80894.88326,
          6006.983042,
          1226.04113,
          349,
          676.4422254,
          4720.942687,
          942.4082588,
          1814.12743,
          16903.04886,
          4977.41854,
          1135.514326,
          1295.46066,
          637.1232887
         ],
         "yaxis": "y"
        },
        {
         "hovertemplate": "continent=Europe<br>CO2 emissions (metric tons per capita)=%{x}<br>gdpPercap=%{y}<br>pop_log=%{marker.size}<extra></extra>",
         "legendgroup": "Europe",
         "marker": {
          "color": "#EF553B",
          "size": [
           6.297554801525269,
           6.867879665715519,
           6.980298864137723,
           6.91961283476104,
           6.684737671976075,
           6.6632997950096415,
           7.695210157580507,
           6.940339194844233,
           7.009596287869645,
           5.2981454076377865,
           6.46241297331255,
           7.7215394055290885,
           7.100260992581865,
           6.5781827891244635,
           7.502227380540363,
           6.959184542731191,
           7.285215454497721,
           7.516539009526929,
           6.895860542598259,
           6.782687568234967,
           7.523893594900619,
           7.740038821969381
          ],
          "sizemode": "area",
          "sizeref": 0.02219422005860447,
          "symbol": "circle"
         },
         "mode": "markers",
         "name": "Europe",
         "orientation": "v",
         "showlegend": true,
         "type": "scatter",
         "x": [
          1.36374630011,
          5.41773672705,
          11.2172567535,
          6.63836916108,
          10.1493005476,
          6.21338658857,
          7.3064221599,
          2.24941398567,
          5.758242269149999,
          7.269387323839999,
          5.65504728764,
          4.43148255688,
          8.47605463669,
          5.1072949704,
          8.105834013680001,
          1.39828723131,
          4.71631855487,
          2.64722755876,
          8.770023402589999,
          5.43460087436,
          1.03313907211,
          10.7841045545
         ],
         "xaxis": "x",
         "y": [
          2760.196931,
          12834.6024,
          13149.04119,
          5577.0028,
          15937.21123,
          10921.63626,
          12999.91766,
          8513.097016,
          9326.64467,
          13319.89568,
          7655.568963,
          10022.40131,
          15363.25136,
          16361.87647,
          6557.152776,
          6361.517993,
          6470.866545,
          7993.512294,
          15258.29697,
          22966.14432,
          2826.3563870000003,
          14142.85089
         ],
         "yaxis": "y"
        },
        {
         "hovertemplate": "continent=Africa<br>CO2 emissions (metric tons per capita)=%{x}<br>gdpPercap=%{y}<br>pop_log=%{marker.size}<extra></extra>",
         "legendgroup": "Africa",
         "marker": {
          "color": "#00cc96",
          "size": [
           7.105867657826297,
           6.719949881619621,
           6.385129539157148,
           6.709942511573118,
           6.522573198513095,
           6.80178130654891,
           6.238958417814208,
           6.543567324481375,
           5.337215588682788,
           6.676224318121359,
           5.105908531081235,
           5.4147461191152475,
           7.444985741835741,
           5.68931241162019,
           6.928918585834562,
           6.5379975597261915,
           5.7790818143738605,
           7.008238620173659,
           6.10700838308686,
           6.245321141202932,
           6.80171617983389,
           6.617760425256554,
           6.717039069222979,
           6.09009644132769,
           5.897247054823676,
           7.169389198756671,
           6.938565203634378,
           6.656487454492258,
           7.674748668695044,
           6.537954901010227,
           4.849953507030731,
           6.598335298319397,
           6.425239047760338,
           6.535147093440075,
           7.322163887632185,
           7.104354925007441,
           5.62396218875473,
           7.100622500688291,
           6.239437129912529,
           6.680062157347911,
           6.949404352765004,
           6.5910646070264995,
           6.698573051541692
          ],
          "sizemode": "area",
          "sizeref": 0.02219422005860447,
          "symbol": "circle"
         },
         "mode": "markers",
         "name": "Africa",
         "orientation": "v",
         "showlegend": true,
         "type": "scatter",
         "x": [
          0.632118426889,
          0.166658588848,
          0.0523195961148,
          0.0192168474009,
          0.0147354429891,
          0.0729810151442,
          0.0533441408437,
          0.0341490827003,
          0.0856623590204,
          0.324270273072,
          0.669756398256,
          0.0908814105401,
          0.0408827807982,
          1.82744493336,
          0.185683744295,
          0.180529006335,
          0.0707397168393,
          0.266146233454,
          0.465652918101,
          9.94130993774,
          0.138895338975,
          0.086039155676,
          0.0392007077217,
          0.188179057955,
          0.6361795955439999,
          0.3615857767970001,
          0.216165510896,
          0.0318543481335,
          0.244682890582,
          0.0118002652184999,
          0.1620797359809999,
          0.181319271624,
          0.105440879922,
          0.0704483235701,
          6.46564779364,
          0.250771072594,
          0.55253014742,
          0.141879278158,
          0.10672264605,
          0.638870927594,
          0.0944460734361,
          1.2636279603,
          1.12296052314
         ],
         "xaxis": "x",
         "y": [
          3246.991771,
          5522.776375,
          1035.831411,
          794.8265597,
          412.97751360000007,
          1508.453148,
          1136.056615,
          1196.810565,
          1876.029643,
          2052.050473,
          3020.050513,
          915.5960025,
          516.1186438,
          8358.761987,
          1125.69716,
          708.7595409,
          715.5806402000001,
          1056.736457,
          713.6036482999999,
          18772.75169,
          1634.047282,
          495.5147806,
          545.0098873,
          1421.145193,
          2475.387562,
          1711.04477,
          566.6691539,
          1054.384891,
          1014.514104,
          510.9637142,
          1384.840593,
          1612.404632,
          1206.043465,
          1284.7331800000002,
          7114.477970999999,
          1687.997641,
          2613.101665,
          848.2186575,
          1477.59676,
          1932.3601670000005,
          908.9185217,
          1777.077318,
          569.7950712
         ],
         "yaxis": "y"
        },
        {
         "hovertemplate": "continent=Americas<br>CO2 emissions (metric tons per capita)=%{x}<br>gdpPercap=%{y}<br>pop_log=%{marker.size}<extra></extra>",
         "legendgroup": "Americas",
         "marker": {
          "color": "#ab63fa",
          "size": [
           7.3604840689105435,
           6.606452845819462,
           7.944728487274329,
           7.318475864887269,
           6.947380191548179,
           7.295875438515447,
           6.201046542717535,
           6.910588763535603,
           6.60736343640072,
           6.734993659224223,
           6.509595898284581,
           6.671244416696305,
           6.63529641692368,
           6.398059683740783,
           6.269768775707311,
           7.681201054229292,
           6.270792925338006,
           6.147826523971899,
           6.359453172901326,
           7.083939561066622,
           5.9823413478426355,
           8.298224094469756,
           6.439108224027238
          ],
          "sizemode": "area",
          "sizeref": 0.02219422005860447,
          "symbol": "circle"
         },
         "mode": "markers",
         "name": "Americas",
         "orientation": "v",
         "showlegend": true,
         "type": "scatter",
         "x": [
          2.85816254619,
          0.446569679542,
          0.744966530874,
          13.8103545953,
          2.1409901271900003,
          1.21683476874,
          0.517145991263,
          1.90593276713,
          0.380469161164,
          0.465781970972,
          0.342459705043,
          0.397317380131,
          0.0585660070754,
          0.352498584235,
          2.14463346178,
          1.8996986330400003,
          0.493983688604,
          1.21812383412,
          0.213013396786,
          1.1118562074299998,
          5.00989828473,
          18.5983178822,
          1.77610139003
         ],
         "xaxis": "x",
         "y": [
          8052.953020999999,
          2586.886053,
          3429.864357,
          16076.58803,
          5106.654313,
          2678.729839,
          4161.727834,
          5690.268015,
          1653.7230029999998,
          4579.074215,
          4358.595393,
          3242.531147,
          1452.057666,
          2538.269358,
          6124.703450999999,
          5754.733883,
          4643.393534000001,
          4421.009084,
          2299.376311,
          5788.09333,
          5621.368472,
          19530.36557,
          5444.61962
         ],
         "yaxis": "y"
        },
        {
         "hovertemplate": "continent=Oceania<br>CO2 emissions (metric tons per capita)=%{x}<br>gdpPercap=%{y}<br>pop_log=%{marker.size}<extra></extra>",
         "legendgroup": "Oceania",
         "marker": {
          "color": "#FFA15A",
          "size": [
           7.074533545319424,
           6.435868245156495
          ],
          "sizemode": "area",
          "sizeref": 0.02219422005860447,
          "symbol": "circle"
         },
         "mode": "markers",
         "name": "Oceania",
         "orientation": "v",
         "showlegend": true,
         "type": "scatter",
         "x": [
          10.9556247987,
          5.00761352373
         ],
         "xaxis": "x",
         "y": [
          14526.12465,
          14463.918930000002
         ],
         "yaxis": "y"
        }
       ],
       "layout": {
        "legend": {
         "itemsizing": "constant",
         "title": {
          "text": "continent"
         },
         "tracegroupgap": 0
        },
        "margin": {
         "t": 60
        },
        "template": {
         "data": {
          "bar": [
           {
            "error_x": {
             "color": "#2a3f5f"
            },
            "error_y": {
             "color": "#2a3f5f"
            },
            "marker": {
             "line": {
              "color": "#E5ECF6",
              "width": 0.5
             },
             "pattern": {
              "fillmode": "overlay",
              "size": 10,
              "solidity": 0.2
             }
            },
            "type": "bar"
           }
          ],
          "barpolar": [
           {
            "marker": {
             "line": {
              "color": "#E5ECF6",
              "width": 0.5
             },
             "pattern": {
              "fillmode": "overlay",
              "size": 10,
              "solidity": 0.2
             }
            },
            "type": "barpolar"
           }
          ],
          "carpet": [
           {
            "aaxis": {
             "endlinecolor": "#2a3f5f",
             "gridcolor": "white",
             "linecolor": "white",
             "minorgridcolor": "white",
             "startlinecolor": "#2a3f5f"
            },
            "baxis": {
             "endlinecolor": "#2a3f5f",
             "gridcolor": "white",
             "linecolor": "white",
             "minorgridcolor": "white",
             "startlinecolor": "#2a3f5f"
            },
            "type": "carpet"
           }
          ],
          "choropleth": [
           {
            "colorbar": {
             "outlinewidth": 0,
             "ticks": ""
            },
            "type": "choropleth"
           }
          ],
          "contour": [
           {
            "colorbar": {
             "outlinewidth": 0,
             "ticks": ""
            },
            "colorscale": [
             [
              0,
              "#0d0887"
             ],
             [
              0.1111111111111111,
              "#46039f"
             ],
             [
              0.2222222222222222,
              "#7201a8"
             ],
             [
              0.3333333333333333,
              "#9c179e"
             ],
             [
              0.4444444444444444,
              "#bd3786"
             ],
             [
              0.5555555555555556,
              "#d8576b"
             ],
             [
              0.6666666666666666,
              "#ed7953"
             ],
             [
              0.7777777777777778,
              "#fb9f3a"
             ],
             [
              0.8888888888888888,
              "#fdca26"
             ],
             [
              1,
              "#f0f921"
             ]
            ],
            "type": "contour"
           }
          ],
          "contourcarpet": [
           {
            "colorbar": {
             "outlinewidth": 0,
             "ticks": ""
            },
            "type": "contourcarpet"
           }
          ],
          "heatmap": [
           {
            "colorbar": {
             "outlinewidth": 0,
             "ticks": ""
            },
            "colorscale": [
             [
              0,
              "#0d0887"
             ],
             [
              0.1111111111111111,
              "#46039f"
             ],
             [
              0.2222222222222222,
              "#7201a8"
             ],
             [
              0.3333333333333333,
              "#9c179e"
             ],
             [
              0.4444444444444444,
              "#bd3786"
             ],
             [
              0.5555555555555556,
              "#d8576b"
             ],
             [
              0.6666666666666666,
              "#ed7953"
             ],
             [
              0.7777777777777778,
              "#fb9f3a"
             ],
             [
              0.8888888888888888,
              "#fdca26"
             ],
             [
              1,
              "#f0f921"
             ]
            ],
            "type": "heatmap"
           }
          ],
          "heatmapgl": [
           {
            "colorbar": {
             "outlinewidth": 0,
             "ticks": ""
            },
            "colorscale": [
             [
              0,
              "#0d0887"
             ],
             [
              0.1111111111111111,
              "#46039f"
             ],
             [
              0.2222222222222222,
              "#7201a8"
             ],
             [
              0.3333333333333333,
              "#9c179e"
             ],
             [
              0.4444444444444444,
              "#bd3786"
             ],
             [
              0.5555555555555556,
              "#d8576b"
             ],
             [
              0.6666666666666666,
              "#ed7953"
             ],
             [
              0.7777777777777778,
              "#fb9f3a"
             ],
             [
              0.8888888888888888,
              "#fdca26"
             ],
             [
              1,
              "#f0f921"
             ]
            ],
            "type": "heatmapgl"
           }
          ],
          "histogram": [
           {
            "marker": {
             "pattern": {
              "fillmode": "overlay",
              "size": 10,
              "solidity": 0.2
             }
            },
            "type": "histogram"
           }
          ],
          "histogram2d": [
           {
            "colorbar": {
             "outlinewidth": 0,
             "ticks": ""
            },
            "colorscale": [
             [
              0,
              "#0d0887"
             ],
             [
              0.1111111111111111,
              "#46039f"
             ],
             [
              0.2222222222222222,
              "#7201a8"
             ],
             [
              0.3333333333333333,
              "#9c179e"
             ],
             [
              0.4444444444444444,
              "#bd3786"
             ],
             [
              0.5555555555555556,
              "#d8576b"
             ],
             [
              0.6666666666666666,
              "#ed7953"
             ],
             [
              0.7777777777777778,
              "#fb9f3a"
             ],
             [
              0.8888888888888888,
              "#fdca26"
             ],
             [
              1,
              "#f0f921"
             ]
            ],
            "type": "histogram2d"
           }
          ],
          "histogram2dcontour": [
           {
            "colorbar": {
             "outlinewidth": 0,
             "ticks": ""
            },
            "colorscale": [
             [
              0,
              "#0d0887"
             ],
             [
              0.1111111111111111,
              "#46039f"
             ],
             [
              0.2222222222222222,
              "#7201a8"
             ],
             [
              0.3333333333333333,
              "#9c179e"
             ],
             [
              0.4444444444444444,
              "#bd3786"
             ],
             [
              0.5555555555555556,
              "#d8576b"
             ],
             [
              0.6666666666666666,
              "#ed7953"
             ],
             [
              0.7777777777777778,
              "#fb9f3a"
             ],
             [
              0.8888888888888888,
              "#fdca26"
             ],
             [
              1,
              "#f0f921"
             ]
            ],
            "type": "histogram2dcontour"
           }
          ],
          "mesh3d": [
           {
            "colorbar": {
             "outlinewidth": 0,
             "ticks": ""
            },
            "type": "mesh3d"
           }
          ],
          "parcoords": [
           {
            "line": {
             "colorbar": {
              "outlinewidth": 0,
              "ticks": ""
             }
            },
            "type": "parcoords"
           }
          ],
          "pie": [
           {
            "automargin": true,
            "type": "pie"
           }
          ],
          "scatter": [
           {
            "marker": {
             "colorbar": {
              "outlinewidth": 0,
              "ticks": ""
             }
            },
            "type": "scatter"
           }
          ],
          "scatter3d": [
           {
            "line": {
             "colorbar": {
              "outlinewidth": 0,
              "ticks": ""
             }
            },
            "marker": {
             "colorbar": {
              "outlinewidth": 0,
              "ticks": ""
             }
            },
            "type": "scatter3d"
           }
          ],
          "scattercarpet": [
           {
            "marker": {
             "colorbar": {
              "outlinewidth": 0,
              "ticks": ""
             }
            },
            "type": "scattercarpet"
           }
          ],
          "scattergeo": [
           {
            "marker": {
             "colorbar": {
              "outlinewidth": 0,
              "ticks": ""
             }
            },
            "type": "scattergeo"
           }
          ],
          "scattergl": [
           {
            "marker": {
             "colorbar": {
              "outlinewidth": 0,
              "ticks": ""
             }
            },
            "type": "scattergl"
           }
          ],
          "scattermapbox": [
           {
            "marker": {
             "colorbar": {
              "outlinewidth": 0,
              "ticks": ""
             }
            },
            "type": "scattermapbox"
           }
          ],
          "scatterpolar": [
           {
            "marker": {
             "colorbar": {
              "outlinewidth": 0,
              "ticks": ""
             }
            },
            "type": "scatterpolar"
           }
          ],
          "scatterpolargl": [
           {
            "marker": {
             "colorbar": {
              "outlinewidth": 0,
              "ticks": ""
             }
            },
            "type": "scatterpolargl"
           }
          ],
          "scatterternary": [
           {
            "marker": {
             "colorbar": {
              "outlinewidth": 0,
              "ticks": ""
             }
            },
            "type": "scatterternary"
           }
          ],
          "surface": [
           {
            "colorbar": {
             "outlinewidth": 0,
             "ticks": ""
            },
            "colorscale": [
             [
              0,
              "#0d0887"
             ],
             [
              0.1111111111111111,
              "#46039f"
             ],
             [
              0.2222222222222222,
              "#7201a8"
             ],
             [
              0.3333333333333333,
              "#9c179e"
             ],
             [
              0.4444444444444444,
              "#bd3786"
             ],
             [
              0.5555555555555556,
              "#d8576b"
             ],
             [
              0.6666666666666666,
              "#ed7953"
             ],
             [
              0.7777777777777778,
              "#fb9f3a"
             ],
             [
              0.8888888888888888,
              "#fdca26"
             ],
             [
              1,
              "#f0f921"
             ]
            ],
            "type": "surface"
           }
          ],
          "table": [
           {
            "cells": {
             "fill": {
              "color": "#EBF0F8"
             },
             "line": {
              "color": "white"
             }
            },
            "header": {
             "fill": {
              "color": "#C8D4E3"
             },
             "line": {
              "color": "white"
             }
            },
            "type": "table"
           }
          ]
         },
         "layout": {
          "annotationdefaults": {
           "arrowcolor": "#2a3f5f",
           "arrowhead": 0,
           "arrowwidth": 1
          },
          "autotypenumbers": "strict",
          "coloraxis": {
           "colorbar": {
            "outlinewidth": 0,
            "ticks": ""
           }
          },
          "colorscale": {
           "diverging": [
            [
             0,
             "#8e0152"
            ],
            [
             0.1,
             "#c51b7d"
            ],
            [
             0.2,
             "#de77ae"
            ],
            [
             0.3,
             "#f1b6da"
            ],
            [
             0.4,
             "#fde0ef"
            ],
            [
             0.5,
             "#f7f7f7"
            ],
            [
             0.6,
             "#e6f5d0"
            ],
            [
             0.7,
             "#b8e186"
            ],
            [
             0.8,
             "#7fbc41"
            ],
            [
             0.9,
             "#4d9221"
            ],
            [
             1,
             "#276419"
            ]
           ],
           "sequential": [
            [
             0,
             "#0d0887"
            ],
            [
             0.1111111111111111,
             "#46039f"
            ],
            [
             0.2222222222222222,
             "#7201a8"
            ],
            [
             0.3333333333333333,
             "#9c179e"
            ],
            [
             0.4444444444444444,
             "#bd3786"
            ],
            [
             0.5555555555555556,
             "#d8576b"
            ],
            [
             0.6666666666666666,
             "#ed7953"
            ],
            [
             0.7777777777777778,
             "#fb9f3a"
            ],
            [
             0.8888888888888888,
             "#fdca26"
            ],
            [
             1,
             "#f0f921"
            ]
           ],
           "sequentialminus": [
            [
             0,
             "#0d0887"
            ],
            [
             0.1111111111111111,
             "#46039f"
            ],
            [
             0.2222222222222222,
             "#7201a8"
            ],
            [
             0.3333333333333333,
             "#9c179e"
            ],
            [
             0.4444444444444444,
             "#bd3786"
            ],
            [
             0.5555555555555556,
             "#d8576b"
            ],
            [
             0.6666666666666666,
             "#ed7953"
            ],
            [
             0.7777777777777778,
             "#fb9f3a"
            ],
            [
             0.8888888888888888,
             "#fdca26"
            ],
            [
             1,
             "#f0f921"
            ]
           ]
          },
          "colorway": [
           "#636efa",
           "#EF553B",
           "#00cc96",
           "#ab63fa",
           "#FFA15A",
           "#19d3f3",
           "#FF6692",
           "#B6E880",
           "#FF97FF",
           "#FECB52"
          ],
          "font": {
           "color": "#2a3f5f"
          },
          "geo": {
           "bgcolor": "white",
           "lakecolor": "white",
           "landcolor": "#E5ECF6",
           "showlakes": true,
           "showland": true,
           "subunitcolor": "white"
          },
          "hoverlabel": {
           "align": "left"
          },
          "hovermode": "closest",
          "mapbox": {
           "style": "light"
          },
          "paper_bgcolor": "white",
          "plot_bgcolor": "#E5ECF6",
          "polar": {
           "angularaxis": {
            "gridcolor": "white",
            "linecolor": "white",
            "ticks": ""
           },
           "bgcolor": "#E5ECF6",
           "radialaxis": {
            "gridcolor": "white",
            "linecolor": "white",
            "ticks": ""
           }
          },
          "scene": {
           "xaxis": {
            "backgroundcolor": "#E5ECF6",
            "gridcolor": "white",
            "gridwidth": 2,
            "linecolor": "white",
            "showbackground": true,
            "ticks": "",
            "zerolinecolor": "white"
           },
           "yaxis": {
            "backgroundcolor": "#E5ECF6",
            "gridcolor": "white",
            "gridwidth": 2,
            "linecolor": "white",
            "showbackground": true,
            "ticks": "",
            "zerolinecolor": "white"
           },
           "zaxis": {
            "backgroundcolor": "#E5ECF6",
            "gridcolor": "white",
            "gridwidth": 2,
            "linecolor": "white",
            "showbackground": true,
            "ticks": "",
            "zerolinecolor": "white"
           }
          },
          "shapedefaults": {
           "line": {
            "color": "#2a3f5f"
           }
          },
          "ternary": {
           "aaxis": {
            "gridcolor": "white",
            "linecolor": "white",
            "ticks": ""
           },
           "baxis": {
            "gridcolor": "white",
            "linecolor": "white",
            "ticks": ""
           },
           "bgcolor": "#E5ECF6",
           "caxis": {
            "gridcolor": "white",
            "linecolor": "white",
            "ticks": ""
           }
          },
          "title": {
           "x": 0.05
          },
          "xaxis": {
           "automargin": true,
           "gridcolor": "white",
           "linecolor": "white",
           "ticks": "",
           "title": {
            "standoff": 15
           },
           "zerolinecolor": "white",
           "zerolinewidth": 2
          },
          "yaxis": {
           "automargin": true,
           "gridcolor": "white",
           "linecolor": "white",
           "ticks": "",
           "title": {
            "standoff": 15
           },
           "zerolinecolor": "white",
           "zerolinewidth": 2
          }
         }
        },
        "xaxis": {
         "anchor": "y",
         "domain": [
          0,
          1
         ],
         "title": {
          "text": "CO2 emissions (metric tons per capita)"
         }
        },
        "yaxis": {
         "anchor": "x",
         "domain": [
          0,
          1
         ],
         "title": {
          "text": "gdpPercap"
         }
        }
       }
      }
     },
     "metadata": {}
    }
   ],
   "metadata": {}
  },
  {
   "cell_type": "markdown",
   "source": [
    "Now, without further guidance, use your Python Data Science skills (and the correct statistical tests) to answer the following:\n",
    "\n",
    "What is the relationship between continent and 'Energy use (kg of oil equivalent per capita)'? (Stats test needed)\n"
   ],
   "metadata": {}
  },
  {
   "cell_type": "code",
   "execution_count": 12,
   "source": [
    "#Relationship between continent vs Energy used.\n",
    "#Calculate mean consumption for each continent\n",
    "energy_data = my_data[[\"continent\", \"Year\",\n",
    "                       \"Energy use (kg of oil equivalent per capita)\"]]\n",
    "#remove missing data\n",
    "energy_data = energy_data.dropna()\n",
    "\n",
    "#Calculate mean consumption for each column\n",
    "mean_dictionary = {}\n",
    "\n",
    "for i in energy_data[\"continent\"].unique():\n",
    "    mean = energy_data[energy_data[\"continent\"] == i][\"Energy use (kg of oil equivalent per capita)\"].mean()\n",
    "    mean_dictionary[i] = mean\n",
    "\n",
    "mean_dictionary_df = pd.DataFrame(list(mean_dictionary.items()))\n",
    "mean_dictionary_df.columns = [\"continent\",\"Average energy consumption (Kg)\"]\n",
    "#energy_data.to_csv(\"average.csv\")"
   ],
   "outputs": [],
   "metadata": {}
  },
  {
   "cell_type": "code",
   "execution_count": 13,
   "source": [
    "\n",
    "fig = pltx.bar(mean_dictionary_df,\n",
    "               y=\"Average energy consumption (Kg)\",\n",
    "               x=\"continent\",\n",
    "               orientation=\"v\",\n",
    "               color=\"continent\",\n",
    "               width=600,\n",
    "               height=700,\n",
    "               title=\"Average Energy consumption by Continent (Kg)\"\n",
    "               )\n",
    "\n",
    "fig.show()\n"
   ],
   "outputs": [
    {
     "output_type": "display_data",
     "data": {
      "application/vnd.plotly.v1+json": {
       "config": {
        "plotlyServerURL": "https://plot.ly"
       },
       "data": [
        {
         "alignmentgroup": "True",
         "hovertemplate": "continent=%{x}<br>Average energy consumption (Kg)=%{y}<extra></extra>",
         "legendgroup": "Europe",
         "marker": {
          "color": "#636efa",
          "pattern": {
           "shape": ""
          }
         },
         "name": "Europe",
         "offsetgroup": "Europe",
         "orientation": "v",
         "showlegend": true,
         "textposition": "auto",
         "type": "bar",
         "x": [
          "Europe"
         ],
         "xaxis": "x",
         "y": [
          3146.062066444523
         ],
         "yaxis": "y"
        },
        {
         "alignmentgroup": "True",
         "hovertemplate": "continent=%{x}<br>Average energy consumption (Kg)=%{y}<extra></extra>",
         "legendgroup": "Africa",
         "marker": {
          "color": "#EF553B",
          "pattern": {
           "shape": ""
          }
         },
         "name": "Africa",
         "offsetgroup": "Africa",
         "orientation": "v",
         "showlegend": true,
         "textposition": "auto",
         "type": "bar",
         "x": [
          "Africa"
         ],
         "xaxis": "x",
         "y": [
          698.5167827038744
         ],
         "yaxis": "y"
        },
        {
         "alignmentgroup": "True",
         "hovertemplate": "continent=%{x}<br>Average energy consumption (Kg)=%{y}<extra></extra>",
         "legendgroup": "Americas",
         "marker": {
          "color": "#00cc96",
          "pattern": {
           "shape": ""
          }
         },
         "name": "Americas",
         "offsetgroup": "Americas",
         "orientation": "v",
         "showlegend": true,
         "textposition": "auto",
         "type": "bar",
         "x": [
          "Americas"
         ],
         "xaxis": "x",
         "y": [
          1703.6204531918995
         ],
         "yaxis": "y"
        },
        {
         "alignmentgroup": "True",
         "hovertemplate": "continent=%{x}<br>Average energy consumption (Kg)=%{y}<extra></extra>",
         "legendgroup": "Oceania",
         "marker": {
          "color": "#ab63fa",
          "pattern": {
           "shape": ""
          }
         },
         "name": "Oceania",
         "offsetgroup": "Oceania",
         "orientation": "v",
         "showlegend": true,
         "textposition": "auto",
         "type": "bar",
         "x": [
          "Oceania"
         ],
         "xaxis": "x",
         "y": [
          3980.3144196509993
         ],
         "yaxis": "y"
        },
        {
         "alignmentgroup": "True",
         "hovertemplate": "continent=%{x}<br>Average energy consumption (Kg)=%{y}<extra></extra>",
         "legendgroup": "Asia",
         "marker": {
          "color": "#FFA15A",
          "pattern": {
           "shape": ""
          }
         },
         "name": "Asia",
         "offsetgroup": "Asia",
         "orientation": "v",
         "showlegend": true,
         "textposition": "auto",
         "type": "bar",
         "x": [
          "Asia"
         ],
         "xaxis": "x",
         "y": [
          1867.2803362149673
         ],
         "yaxis": "y"
        }
       ],
       "layout": {
        "barmode": "relative",
        "height": 700,
        "legend": {
         "title": {
          "text": "continent"
         },
         "tracegroupgap": 0
        },
        "template": {
         "data": {
          "bar": [
           {
            "error_x": {
             "color": "#2a3f5f"
            },
            "error_y": {
             "color": "#2a3f5f"
            },
            "marker": {
             "line": {
              "color": "#E5ECF6",
              "width": 0.5
             },
             "pattern": {
              "fillmode": "overlay",
              "size": 10,
              "solidity": 0.2
             }
            },
            "type": "bar"
           }
          ],
          "barpolar": [
           {
            "marker": {
             "line": {
              "color": "#E5ECF6",
              "width": 0.5
             },
             "pattern": {
              "fillmode": "overlay",
              "size": 10,
              "solidity": 0.2
             }
            },
            "type": "barpolar"
           }
          ],
          "carpet": [
           {
            "aaxis": {
             "endlinecolor": "#2a3f5f",
             "gridcolor": "white",
             "linecolor": "white",
             "minorgridcolor": "white",
             "startlinecolor": "#2a3f5f"
            },
            "baxis": {
             "endlinecolor": "#2a3f5f",
             "gridcolor": "white",
             "linecolor": "white",
             "minorgridcolor": "white",
             "startlinecolor": "#2a3f5f"
            },
            "type": "carpet"
           }
          ],
          "choropleth": [
           {
            "colorbar": {
             "outlinewidth": 0,
             "ticks": ""
            },
            "type": "choropleth"
           }
          ],
          "contour": [
           {
            "colorbar": {
             "outlinewidth": 0,
             "ticks": ""
            },
            "colorscale": [
             [
              0,
              "#0d0887"
             ],
             [
              0.1111111111111111,
              "#46039f"
             ],
             [
              0.2222222222222222,
              "#7201a8"
             ],
             [
              0.3333333333333333,
              "#9c179e"
             ],
             [
              0.4444444444444444,
              "#bd3786"
             ],
             [
              0.5555555555555556,
              "#d8576b"
             ],
             [
              0.6666666666666666,
              "#ed7953"
             ],
             [
              0.7777777777777778,
              "#fb9f3a"
             ],
             [
              0.8888888888888888,
              "#fdca26"
             ],
             [
              1,
              "#f0f921"
             ]
            ],
            "type": "contour"
           }
          ],
          "contourcarpet": [
           {
            "colorbar": {
             "outlinewidth": 0,
             "ticks": ""
            },
            "type": "contourcarpet"
           }
          ],
          "heatmap": [
           {
            "colorbar": {
             "outlinewidth": 0,
             "ticks": ""
            },
            "colorscale": [
             [
              0,
              "#0d0887"
             ],
             [
              0.1111111111111111,
              "#46039f"
             ],
             [
              0.2222222222222222,
              "#7201a8"
             ],
             [
              0.3333333333333333,
              "#9c179e"
             ],
             [
              0.4444444444444444,
              "#bd3786"
             ],
             [
              0.5555555555555556,
              "#d8576b"
             ],
             [
              0.6666666666666666,
              "#ed7953"
             ],
             [
              0.7777777777777778,
              "#fb9f3a"
             ],
             [
              0.8888888888888888,
              "#fdca26"
             ],
             [
              1,
              "#f0f921"
             ]
            ],
            "type": "heatmap"
           }
          ],
          "heatmapgl": [
           {
            "colorbar": {
             "outlinewidth": 0,
             "ticks": ""
            },
            "colorscale": [
             [
              0,
              "#0d0887"
             ],
             [
              0.1111111111111111,
              "#46039f"
             ],
             [
              0.2222222222222222,
              "#7201a8"
             ],
             [
              0.3333333333333333,
              "#9c179e"
             ],
             [
              0.4444444444444444,
              "#bd3786"
             ],
             [
              0.5555555555555556,
              "#d8576b"
             ],
             [
              0.6666666666666666,
              "#ed7953"
             ],
             [
              0.7777777777777778,
              "#fb9f3a"
             ],
             [
              0.8888888888888888,
              "#fdca26"
             ],
             [
              1,
              "#f0f921"
             ]
            ],
            "type": "heatmapgl"
           }
          ],
          "histogram": [
           {
            "marker": {
             "pattern": {
              "fillmode": "overlay",
              "size": 10,
              "solidity": 0.2
             }
            },
            "type": "histogram"
           }
          ],
          "histogram2d": [
           {
            "colorbar": {
             "outlinewidth": 0,
             "ticks": ""
            },
            "colorscale": [
             [
              0,
              "#0d0887"
             ],
             [
              0.1111111111111111,
              "#46039f"
             ],
             [
              0.2222222222222222,
              "#7201a8"
             ],
             [
              0.3333333333333333,
              "#9c179e"
             ],
             [
              0.4444444444444444,
              "#bd3786"
             ],
             [
              0.5555555555555556,
              "#d8576b"
             ],
             [
              0.6666666666666666,
              "#ed7953"
             ],
             [
              0.7777777777777778,
              "#fb9f3a"
             ],
             [
              0.8888888888888888,
              "#fdca26"
             ],
             [
              1,
              "#f0f921"
             ]
            ],
            "type": "histogram2d"
           }
          ],
          "histogram2dcontour": [
           {
            "colorbar": {
             "outlinewidth": 0,
             "ticks": ""
            },
            "colorscale": [
             [
              0,
              "#0d0887"
             ],
             [
              0.1111111111111111,
              "#46039f"
             ],
             [
              0.2222222222222222,
              "#7201a8"
             ],
             [
              0.3333333333333333,
              "#9c179e"
             ],
             [
              0.4444444444444444,
              "#bd3786"
             ],
             [
              0.5555555555555556,
              "#d8576b"
             ],
             [
              0.6666666666666666,
              "#ed7953"
             ],
             [
              0.7777777777777778,
              "#fb9f3a"
             ],
             [
              0.8888888888888888,
              "#fdca26"
             ],
             [
              1,
              "#f0f921"
             ]
            ],
            "type": "histogram2dcontour"
           }
          ],
          "mesh3d": [
           {
            "colorbar": {
             "outlinewidth": 0,
             "ticks": ""
            },
            "type": "mesh3d"
           }
          ],
          "parcoords": [
           {
            "line": {
             "colorbar": {
              "outlinewidth": 0,
              "ticks": ""
             }
            },
            "type": "parcoords"
           }
          ],
          "pie": [
           {
            "automargin": true,
            "type": "pie"
           }
          ],
          "scatter": [
           {
            "marker": {
             "colorbar": {
              "outlinewidth": 0,
              "ticks": ""
             }
            },
            "type": "scatter"
           }
          ],
          "scatter3d": [
           {
            "line": {
             "colorbar": {
              "outlinewidth": 0,
              "ticks": ""
             }
            },
            "marker": {
             "colorbar": {
              "outlinewidth": 0,
              "ticks": ""
             }
            },
            "type": "scatter3d"
           }
          ],
          "scattercarpet": [
           {
            "marker": {
             "colorbar": {
              "outlinewidth": 0,
              "ticks": ""
             }
            },
            "type": "scattercarpet"
           }
          ],
          "scattergeo": [
           {
            "marker": {
             "colorbar": {
              "outlinewidth": 0,
              "ticks": ""
             }
            },
            "type": "scattergeo"
           }
          ],
          "scattergl": [
           {
            "marker": {
             "colorbar": {
              "outlinewidth": 0,
              "ticks": ""
             }
            },
            "type": "scattergl"
           }
          ],
          "scattermapbox": [
           {
            "marker": {
             "colorbar": {
              "outlinewidth": 0,
              "ticks": ""
             }
            },
            "type": "scattermapbox"
           }
          ],
          "scatterpolar": [
           {
            "marker": {
             "colorbar": {
              "outlinewidth": 0,
              "ticks": ""
             }
            },
            "type": "scatterpolar"
           }
          ],
          "scatterpolargl": [
           {
            "marker": {
             "colorbar": {
              "outlinewidth": 0,
              "ticks": ""
             }
            },
            "type": "scatterpolargl"
           }
          ],
          "scatterternary": [
           {
            "marker": {
             "colorbar": {
              "outlinewidth": 0,
              "ticks": ""
             }
            },
            "type": "scatterternary"
           }
          ],
          "surface": [
           {
            "colorbar": {
             "outlinewidth": 0,
             "ticks": ""
            },
            "colorscale": [
             [
              0,
              "#0d0887"
             ],
             [
              0.1111111111111111,
              "#46039f"
             ],
             [
              0.2222222222222222,
              "#7201a8"
             ],
             [
              0.3333333333333333,
              "#9c179e"
             ],
             [
              0.4444444444444444,
              "#bd3786"
             ],
             [
              0.5555555555555556,
              "#d8576b"
             ],
             [
              0.6666666666666666,
              "#ed7953"
             ],
             [
              0.7777777777777778,
              "#fb9f3a"
             ],
             [
              0.8888888888888888,
              "#fdca26"
             ],
             [
              1,
              "#f0f921"
             ]
            ],
            "type": "surface"
           }
          ],
          "table": [
           {
            "cells": {
             "fill": {
              "color": "#EBF0F8"
             },
             "line": {
              "color": "white"
             }
            },
            "header": {
             "fill": {
              "color": "#C8D4E3"
             },
             "line": {
              "color": "white"
             }
            },
            "type": "table"
           }
          ]
         },
         "layout": {
          "annotationdefaults": {
           "arrowcolor": "#2a3f5f",
           "arrowhead": 0,
           "arrowwidth": 1
          },
          "autotypenumbers": "strict",
          "coloraxis": {
           "colorbar": {
            "outlinewidth": 0,
            "ticks": ""
           }
          },
          "colorscale": {
           "diverging": [
            [
             0,
             "#8e0152"
            ],
            [
             0.1,
             "#c51b7d"
            ],
            [
             0.2,
             "#de77ae"
            ],
            [
             0.3,
             "#f1b6da"
            ],
            [
             0.4,
             "#fde0ef"
            ],
            [
             0.5,
             "#f7f7f7"
            ],
            [
             0.6,
             "#e6f5d0"
            ],
            [
             0.7,
             "#b8e186"
            ],
            [
             0.8,
             "#7fbc41"
            ],
            [
             0.9,
             "#4d9221"
            ],
            [
             1,
             "#276419"
            ]
           ],
           "sequential": [
            [
             0,
             "#0d0887"
            ],
            [
             0.1111111111111111,
             "#46039f"
            ],
            [
             0.2222222222222222,
             "#7201a8"
            ],
            [
             0.3333333333333333,
             "#9c179e"
            ],
            [
             0.4444444444444444,
             "#bd3786"
            ],
            [
             0.5555555555555556,
             "#d8576b"
            ],
            [
             0.6666666666666666,
             "#ed7953"
            ],
            [
             0.7777777777777778,
             "#fb9f3a"
            ],
            [
             0.8888888888888888,
             "#fdca26"
            ],
            [
             1,
             "#f0f921"
            ]
           ],
           "sequentialminus": [
            [
             0,
             "#0d0887"
            ],
            [
             0.1111111111111111,
             "#46039f"
            ],
            [
             0.2222222222222222,
             "#7201a8"
            ],
            [
             0.3333333333333333,
             "#9c179e"
            ],
            [
             0.4444444444444444,
             "#bd3786"
            ],
            [
             0.5555555555555556,
             "#d8576b"
            ],
            [
             0.6666666666666666,
             "#ed7953"
            ],
            [
             0.7777777777777778,
             "#fb9f3a"
            ],
            [
             0.8888888888888888,
             "#fdca26"
            ],
            [
             1,
             "#f0f921"
            ]
           ]
          },
          "colorway": [
           "#636efa",
           "#EF553B",
           "#00cc96",
           "#ab63fa",
           "#FFA15A",
           "#19d3f3",
           "#FF6692",
           "#B6E880",
           "#FF97FF",
           "#FECB52"
          ],
          "font": {
           "color": "#2a3f5f"
          },
          "geo": {
           "bgcolor": "white",
           "lakecolor": "white",
           "landcolor": "#E5ECF6",
           "showlakes": true,
           "showland": true,
           "subunitcolor": "white"
          },
          "hoverlabel": {
           "align": "left"
          },
          "hovermode": "closest",
          "mapbox": {
           "style": "light"
          },
          "paper_bgcolor": "white",
          "plot_bgcolor": "#E5ECF6",
          "polar": {
           "angularaxis": {
            "gridcolor": "white",
            "linecolor": "white",
            "ticks": ""
           },
           "bgcolor": "#E5ECF6",
           "radialaxis": {
            "gridcolor": "white",
            "linecolor": "white",
            "ticks": ""
           }
          },
          "scene": {
           "xaxis": {
            "backgroundcolor": "#E5ECF6",
            "gridcolor": "white",
            "gridwidth": 2,
            "linecolor": "white",
            "showbackground": true,
            "ticks": "",
            "zerolinecolor": "white"
           },
           "yaxis": {
            "backgroundcolor": "#E5ECF6",
            "gridcolor": "white",
            "gridwidth": 2,
            "linecolor": "white",
            "showbackground": true,
            "ticks": "",
            "zerolinecolor": "white"
           },
           "zaxis": {
            "backgroundcolor": "#E5ECF6",
            "gridcolor": "white",
            "gridwidth": 2,
            "linecolor": "white",
            "showbackground": true,
            "ticks": "",
            "zerolinecolor": "white"
           }
          },
          "shapedefaults": {
           "line": {
            "color": "#2a3f5f"
           }
          },
          "ternary": {
           "aaxis": {
            "gridcolor": "white",
            "linecolor": "white",
            "ticks": ""
           },
           "baxis": {
            "gridcolor": "white",
            "linecolor": "white",
            "ticks": ""
           },
           "bgcolor": "#E5ECF6",
           "caxis": {
            "gridcolor": "white",
            "linecolor": "white",
            "ticks": ""
           }
          },
          "title": {
           "x": 0.05
          },
          "xaxis": {
           "automargin": true,
           "gridcolor": "white",
           "linecolor": "white",
           "ticks": "",
           "title": {
            "standoff": 15
           },
           "zerolinecolor": "white",
           "zerolinewidth": 2
          },
          "yaxis": {
           "automargin": true,
           "gridcolor": "white",
           "linecolor": "white",
           "ticks": "",
           "title": {
            "standoff": 15
           },
           "zerolinecolor": "white",
           "zerolinewidth": 2
          }
         }
        },
        "title": {
         "text": "Average Energy consumption by Continent (Kg)"
        },
        "width": 600,
        "xaxis": {
         "anchor": "y",
         "categoryarray": [
          "Europe",
          "Africa",
          "Americas",
          "Oceania",
          "Asia"
         ],
         "categoryorder": "array",
         "domain": [
          0,
          1
         ],
         "title": {
          "text": "continent"
         }
        },
        "yaxis": {
         "anchor": "x",
         "domain": [
          0,
          1
         ],
         "title": {
          "text": "Average energy consumption (Kg)"
         }
        }
       }
      }
     },
     "metadata": {}
    }
   ],
   "metadata": {}
  },
  {
   "cell_type": "markdown",
   "source": [
    "How about we transpose the dataset"
   ],
   "metadata": {}
  },
  {
   "cell_type": "code",
   "execution_count": 14,
   "source": [
    "energy_data_t = energy_data.pivot_table(index=[\"Year\"], columns=\"continent\").droplevel(0,axis=1)\n",
    "energy_data_t = energy_data_t.reset_index(drop=False, inplace=False)\n",
    "energy_data_t"
   ],
   "outputs": [
    {
     "output_type": "execute_result",
     "data": {
      "text/html": [
       "<div>\n",
       "<style scoped>\n",
       "    .dataframe tbody tr th:only-of-type {\n",
       "        vertical-align: middle;\n",
       "    }\n",
       "\n",
       "    .dataframe tbody tr th {\n",
       "        vertical-align: top;\n",
       "    }\n",
       "\n",
       "    .dataframe thead th {\n",
       "        text-align: right;\n",
       "    }\n",
       "</style>\n",
       "<table border=\"1\" class=\"dataframe\">\n",
       "  <thead>\n",
       "    <tr style=\"text-align: right;\">\n",
       "      <th>continent</th>\n",
       "      <th>Year</th>\n",
       "      <th>Africa</th>\n",
       "      <th>Americas</th>\n",
       "      <th>Asia</th>\n",
       "      <th>Europe</th>\n",
       "      <th>Oceania</th>\n",
       "    </tr>\n",
       "  </thead>\n",
       "  <tbody>\n",
       "    <tr>\n",
       "      <th>0</th>\n",
       "      <td>1962</td>\n",
       "      <td>NaN</td>\n",
       "      <td>5113.073215</td>\n",
       "      <td>1003.752254</td>\n",
       "      <td>1786.923933</td>\n",
       "      <td>2482.218093</td>\n",
       "    </tr>\n",
       "    <tr>\n",
       "      <th>1</th>\n",
       "      <td>1967</td>\n",
       "      <td>NaN</td>\n",
       "      <td>6183.556112</td>\n",
       "      <td>1720.549744</td>\n",
       "      <td>2178.226794</td>\n",
       "      <td>2940.750732</td>\n",
       "    </tr>\n",
       "    <tr>\n",
       "      <th>2</th>\n",
       "      <td>1972</td>\n",
       "      <td>624.271781</td>\n",
       "      <td>1379.249574</td>\n",
       "      <td>1193.863297</td>\n",
       "      <td>2852.799023</td>\n",
       "      <td>3326.183702</td>\n",
       "    </tr>\n",
       "    <tr>\n",
       "      <th>3</th>\n",
       "      <td>1977</td>\n",
       "      <td>669.655049</td>\n",
       "      <td>1458.864502</td>\n",
       "      <td>1330.101303</td>\n",
       "      <td>3161.455380</td>\n",
       "      <td>3863.138379</td>\n",
       "    </tr>\n",
       "    <tr>\n",
       "      <th>4</th>\n",
       "      <td>1982</td>\n",
       "      <td>740.649440</td>\n",
       "      <td>1441.674520</td>\n",
       "      <td>1624.675685</td>\n",
       "      <td>3219.131342</td>\n",
       "      <td>3915.230457</td>\n",
       "    </tr>\n",
       "    <tr>\n",
       "      <th>5</th>\n",
       "      <td>1987</td>\n",
       "      <td>736.564835</td>\n",
       "      <td>1480.153739</td>\n",
       "      <td>1793.860708</td>\n",
       "      <td>3593.080919</td>\n",
       "      <td>4112.666572</td>\n",
       "    </tr>\n",
       "    <tr>\n",
       "      <th>6</th>\n",
       "      <td>1992</td>\n",
       "      <td>692.362311</td>\n",
       "      <td>1558.675537</td>\n",
       "      <td>1808.378056</td>\n",
       "      <td>3202.796260</td>\n",
       "      <td>4383.846070</td>\n",
       "    </tr>\n",
       "    <tr>\n",
       "      <th>7</th>\n",
       "      <td>1997</td>\n",
       "      <td>720.895102</td>\n",
       "      <td>1657.638067</td>\n",
       "      <td>2264.899455</td>\n",
       "      <td>3414.196077</td>\n",
       "      <td>4864.178383</td>\n",
       "    </tr>\n",
       "    <tr>\n",
       "      <th>8</th>\n",
       "      <td>2002</td>\n",
       "      <td>709.606764</td>\n",
       "      <td>1825.013654</td>\n",
       "      <td>2322.226805</td>\n",
       "      <td>3575.239271</td>\n",
       "      <td>4953.510758</td>\n",
       "    </tr>\n",
       "    <tr>\n",
       "      <th>9</th>\n",
       "      <td>2007</td>\n",
       "      <td>690.342727</td>\n",
       "      <td>2141.660257</td>\n",
       "      <td>2513.263757</td>\n",
       "      <td>3721.313840</td>\n",
       "      <td>4961.421051</td>\n",
       "    </tr>\n",
       "  </tbody>\n",
       "</table>\n",
       "</div>"
      ],
      "text/plain": [
       "continent  Year      Africa     Americas         Asia       Europe  \\\n",
       "0          1962         NaN  5113.073215  1003.752254  1786.923933   \n",
       "1          1967         NaN  6183.556112  1720.549744  2178.226794   \n",
       "2          1972  624.271781  1379.249574  1193.863297  2852.799023   \n",
       "3          1977  669.655049  1458.864502  1330.101303  3161.455380   \n",
       "4          1982  740.649440  1441.674520  1624.675685  3219.131342   \n",
       "5          1987  736.564835  1480.153739  1793.860708  3593.080919   \n",
       "6          1992  692.362311  1558.675537  1808.378056  3202.796260   \n",
       "7          1997  720.895102  1657.638067  2264.899455  3414.196077   \n",
       "8          2002  709.606764  1825.013654  2322.226805  3575.239271   \n",
       "9          2007  690.342727  2141.660257  2513.263757  3721.313840   \n",
       "\n",
       "continent      Oceania  \n",
       "0          2482.218093  \n",
       "1          2940.750732  \n",
       "2          3326.183702  \n",
       "3          3863.138379  \n",
       "4          3915.230457  \n",
       "5          4112.666572  \n",
       "6          4383.846070  \n",
       "7          4864.178383  \n",
       "8          4953.510758  \n",
       "9          4961.421051  "
      ]
     },
     "metadata": {},
     "execution_count": 14
    }
   ],
   "metadata": {}
  },
  {
   "cell_type": "code",
   "execution_count": 15,
   "source": [
    "fig = pltx.line(energy_data_t, x=\"Year\", y=energy_data_t.columns)\n",
    "fig.update_yaxes(title=\"Energy consumption (Kg)\")\n",
    "fig.show()"
   ],
   "outputs": [
    {
     "output_type": "display_data",
     "data": {
      "application/vnd.plotly.v1+json": {
       "config": {
        "plotlyServerURL": "https://plot.ly"
       },
       "data": [
        {
         "hovertemplate": "continent=Africa<br>Year=%{x}<br>value=%{y}<extra></extra>",
         "legendgroup": "Africa",
         "line": {
          "color": "#636efa",
          "dash": "solid"
         },
         "marker": {
          "symbol": "circle"
         },
         "mode": "lines",
         "name": "Africa",
         "orientation": "v",
         "showlegend": true,
         "type": "scatter",
         "x": [
          1962,
          1967,
          1972,
          1977,
          1982,
          1987,
          1992,
          1997,
          2002,
          2007
         ],
         "xaxis": "x",
         "y": [
          null,
          null,
          624.2717806831364,
          669.6550494370455,
          740.6494397515652,
          736.5648354214783,
          692.3623108444401,
          720.89510229372,
          709.6067636306154,
          690.3427267756673
         ],
         "yaxis": "y"
        },
        {
         "hovertemplate": "continent=Americas<br>Year=%{x}<br>value=%{y}<extra></extra>",
         "legendgroup": "Americas",
         "line": {
          "color": "#EF553B",
          "dash": "solid"
         },
         "marker": {
          "symbol": "circle"
         },
         "mode": "lines",
         "name": "Americas",
         "orientation": "v",
         "showlegend": true,
         "type": "scatter",
         "x": [
          1962,
          1967,
          1972,
          1977,
          1982,
          1987,
          1992,
          1997,
          2002,
          2007
         ],
         "xaxis": "x",
         "y": [
          5113.073215445,
          6183.556112034999,
          1379.2495737454783,
          1458.864501732087,
          1441.6745201405654,
          1480.1537394216089,
          1558.675537292826,
          1657.6380667851304,
          1825.013653925087,
          2141.660256744913
         ],
         "yaxis": "y"
        },
        {
         "hovertemplate": "continent=Asia<br>Year=%{x}<br>value=%{y}<extra></extra>",
         "legendgroup": "Asia",
         "line": {
          "color": "#00cc96",
          "dash": "solid"
         },
         "marker": {
          "symbol": "circle"
         },
         "mode": "lines",
         "name": "Asia",
         "orientation": "v",
         "showlegend": true,
         "type": "scatter",
         "x": [
          1962,
          1967,
          1972,
          1977,
          1982,
          1987,
          1992,
          1997,
          2002,
          2007
         ],
         "xaxis": "x",
         "y": [
          1003.75225394,
          1720.54974435,
          1193.8632974688182,
          1330.1013028227273,
          1624.6756853214545,
          1793.8607078355217,
          1808.3780559127727,
          2264.8994550481666,
          2322.2268045251667,
          2513.2637574139585
         ],
         "yaxis": "y"
        },
        {
         "hovertemplate": "continent=Europe<br>Year=%{x}<br>value=%{y}<extra></extra>",
         "legendgroup": "Europe",
         "line": {
          "color": "#ab63fa",
          "dash": "solid"
         },
         "marker": {
          "symbol": "circle"
         },
         "mode": "lines",
         "name": "Europe",
         "orientation": "v",
         "showlegend": true,
         "type": "scatter",
         "x": [
          1962,
          1967,
          1972,
          1977,
          1982,
          1987,
          1992,
          1997,
          2002,
          2007
         ],
         "xaxis": "x",
         "y": [
          1786.9239327613159,
          2178.2267940056,
          2852.79902284964,
          3161.45537957768,
          3219.13134207596,
          3593.0809185870803,
          3202.7962603431724,
          3414.196077144966,
          3575.239270757069,
          3721.313839695033
         ],
         "yaxis": "y"
        },
        {
         "hovertemplate": "continent=Oceania<br>Year=%{x}<br>value=%{y}<extra></extra>",
         "legendgroup": "Oceania",
         "line": {
          "color": "#FFA15A",
          "dash": "solid"
         },
         "marker": {
          "symbol": "circle"
         },
         "mode": "lines",
         "name": "Oceania",
         "orientation": "v",
         "showlegend": true,
         "type": "scatter",
         "x": [
          1962,
          1967,
          1972,
          1977,
          1982,
          1987,
          1992,
          1997,
          2002,
          2007
         ],
         "xaxis": "x",
         "y": [
          2482.218093265,
          2940.7507316399997,
          3326.1837018300002,
          3863.138379085,
          3915.2304565249997,
          4112.66657242,
          4383.846069575,
          4864.178382985,
          4953.510758375,
          4961.42105081
         ],
         "yaxis": "y"
        }
       ],
       "layout": {
        "legend": {
         "title": {
          "text": "continent"
         },
         "tracegroupgap": 0
        },
        "margin": {
         "t": 60
        },
        "template": {
         "data": {
          "bar": [
           {
            "error_x": {
             "color": "#2a3f5f"
            },
            "error_y": {
             "color": "#2a3f5f"
            },
            "marker": {
             "line": {
              "color": "#E5ECF6",
              "width": 0.5
             },
             "pattern": {
              "fillmode": "overlay",
              "size": 10,
              "solidity": 0.2
             }
            },
            "type": "bar"
           }
          ],
          "barpolar": [
           {
            "marker": {
             "line": {
              "color": "#E5ECF6",
              "width": 0.5
             },
             "pattern": {
              "fillmode": "overlay",
              "size": 10,
              "solidity": 0.2
             }
            },
            "type": "barpolar"
           }
          ],
          "carpet": [
           {
            "aaxis": {
             "endlinecolor": "#2a3f5f",
             "gridcolor": "white",
             "linecolor": "white",
             "minorgridcolor": "white",
             "startlinecolor": "#2a3f5f"
            },
            "baxis": {
             "endlinecolor": "#2a3f5f",
             "gridcolor": "white",
             "linecolor": "white",
             "minorgridcolor": "white",
             "startlinecolor": "#2a3f5f"
            },
            "type": "carpet"
           }
          ],
          "choropleth": [
           {
            "colorbar": {
             "outlinewidth": 0,
             "ticks": ""
            },
            "type": "choropleth"
           }
          ],
          "contour": [
           {
            "colorbar": {
             "outlinewidth": 0,
             "ticks": ""
            },
            "colorscale": [
             [
              0,
              "#0d0887"
             ],
             [
              0.1111111111111111,
              "#46039f"
             ],
             [
              0.2222222222222222,
              "#7201a8"
             ],
             [
              0.3333333333333333,
              "#9c179e"
             ],
             [
              0.4444444444444444,
              "#bd3786"
             ],
             [
              0.5555555555555556,
              "#d8576b"
             ],
             [
              0.6666666666666666,
              "#ed7953"
             ],
             [
              0.7777777777777778,
              "#fb9f3a"
             ],
             [
              0.8888888888888888,
              "#fdca26"
             ],
             [
              1,
              "#f0f921"
             ]
            ],
            "type": "contour"
           }
          ],
          "contourcarpet": [
           {
            "colorbar": {
             "outlinewidth": 0,
             "ticks": ""
            },
            "type": "contourcarpet"
           }
          ],
          "heatmap": [
           {
            "colorbar": {
             "outlinewidth": 0,
             "ticks": ""
            },
            "colorscale": [
             [
              0,
              "#0d0887"
             ],
             [
              0.1111111111111111,
              "#46039f"
             ],
             [
              0.2222222222222222,
              "#7201a8"
             ],
             [
              0.3333333333333333,
              "#9c179e"
             ],
             [
              0.4444444444444444,
              "#bd3786"
             ],
             [
              0.5555555555555556,
              "#d8576b"
             ],
             [
              0.6666666666666666,
              "#ed7953"
             ],
             [
              0.7777777777777778,
              "#fb9f3a"
             ],
             [
              0.8888888888888888,
              "#fdca26"
             ],
             [
              1,
              "#f0f921"
             ]
            ],
            "type": "heatmap"
           }
          ],
          "heatmapgl": [
           {
            "colorbar": {
             "outlinewidth": 0,
             "ticks": ""
            },
            "colorscale": [
             [
              0,
              "#0d0887"
             ],
             [
              0.1111111111111111,
              "#46039f"
             ],
             [
              0.2222222222222222,
              "#7201a8"
             ],
             [
              0.3333333333333333,
              "#9c179e"
             ],
             [
              0.4444444444444444,
              "#bd3786"
             ],
             [
              0.5555555555555556,
              "#d8576b"
             ],
             [
              0.6666666666666666,
              "#ed7953"
             ],
             [
              0.7777777777777778,
              "#fb9f3a"
             ],
             [
              0.8888888888888888,
              "#fdca26"
             ],
             [
              1,
              "#f0f921"
             ]
            ],
            "type": "heatmapgl"
           }
          ],
          "histogram": [
           {
            "marker": {
             "pattern": {
              "fillmode": "overlay",
              "size": 10,
              "solidity": 0.2
             }
            },
            "type": "histogram"
           }
          ],
          "histogram2d": [
           {
            "colorbar": {
             "outlinewidth": 0,
             "ticks": ""
            },
            "colorscale": [
             [
              0,
              "#0d0887"
             ],
             [
              0.1111111111111111,
              "#46039f"
             ],
             [
              0.2222222222222222,
              "#7201a8"
             ],
             [
              0.3333333333333333,
              "#9c179e"
             ],
             [
              0.4444444444444444,
              "#bd3786"
             ],
             [
              0.5555555555555556,
              "#d8576b"
             ],
             [
              0.6666666666666666,
              "#ed7953"
             ],
             [
              0.7777777777777778,
              "#fb9f3a"
             ],
             [
              0.8888888888888888,
              "#fdca26"
             ],
             [
              1,
              "#f0f921"
             ]
            ],
            "type": "histogram2d"
           }
          ],
          "histogram2dcontour": [
           {
            "colorbar": {
             "outlinewidth": 0,
             "ticks": ""
            },
            "colorscale": [
             [
              0,
              "#0d0887"
             ],
             [
              0.1111111111111111,
              "#46039f"
             ],
             [
              0.2222222222222222,
              "#7201a8"
             ],
             [
              0.3333333333333333,
              "#9c179e"
             ],
             [
              0.4444444444444444,
              "#bd3786"
             ],
             [
              0.5555555555555556,
              "#d8576b"
             ],
             [
              0.6666666666666666,
              "#ed7953"
             ],
             [
              0.7777777777777778,
              "#fb9f3a"
             ],
             [
              0.8888888888888888,
              "#fdca26"
             ],
             [
              1,
              "#f0f921"
             ]
            ],
            "type": "histogram2dcontour"
           }
          ],
          "mesh3d": [
           {
            "colorbar": {
             "outlinewidth": 0,
             "ticks": ""
            },
            "type": "mesh3d"
           }
          ],
          "parcoords": [
           {
            "line": {
             "colorbar": {
              "outlinewidth": 0,
              "ticks": ""
             }
            },
            "type": "parcoords"
           }
          ],
          "pie": [
           {
            "automargin": true,
            "type": "pie"
           }
          ],
          "scatter": [
           {
            "marker": {
             "colorbar": {
              "outlinewidth": 0,
              "ticks": ""
             }
            },
            "type": "scatter"
           }
          ],
          "scatter3d": [
           {
            "line": {
             "colorbar": {
              "outlinewidth": 0,
              "ticks": ""
             }
            },
            "marker": {
             "colorbar": {
              "outlinewidth": 0,
              "ticks": ""
             }
            },
            "type": "scatter3d"
           }
          ],
          "scattercarpet": [
           {
            "marker": {
             "colorbar": {
              "outlinewidth": 0,
              "ticks": ""
             }
            },
            "type": "scattercarpet"
           }
          ],
          "scattergeo": [
           {
            "marker": {
             "colorbar": {
              "outlinewidth": 0,
              "ticks": ""
             }
            },
            "type": "scattergeo"
           }
          ],
          "scattergl": [
           {
            "marker": {
             "colorbar": {
              "outlinewidth": 0,
              "ticks": ""
             }
            },
            "type": "scattergl"
           }
          ],
          "scattermapbox": [
           {
            "marker": {
             "colorbar": {
              "outlinewidth": 0,
              "ticks": ""
             }
            },
            "type": "scattermapbox"
           }
          ],
          "scatterpolar": [
           {
            "marker": {
             "colorbar": {
              "outlinewidth": 0,
              "ticks": ""
             }
            },
            "type": "scatterpolar"
           }
          ],
          "scatterpolargl": [
           {
            "marker": {
             "colorbar": {
              "outlinewidth": 0,
              "ticks": ""
             }
            },
            "type": "scatterpolargl"
           }
          ],
          "scatterternary": [
           {
            "marker": {
             "colorbar": {
              "outlinewidth": 0,
              "ticks": ""
             }
            },
            "type": "scatterternary"
           }
          ],
          "surface": [
           {
            "colorbar": {
             "outlinewidth": 0,
             "ticks": ""
            },
            "colorscale": [
             [
              0,
              "#0d0887"
             ],
             [
              0.1111111111111111,
              "#46039f"
             ],
             [
              0.2222222222222222,
              "#7201a8"
             ],
             [
              0.3333333333333333,
              "#9c179e"
             ],
             [
              0.4444444444444444,
              "#bd3786"
             ],
             [
              0.5555555555555556,
              "#d8576b"
             ],
             [
              0.6666666666666666,
              "#ed7953"
             ],
             [
              0.7777777777777778,
              "#fb9f3a"
             ],
             [
              0.8888888888888888,
              "#fdca26"
             ],
             [
              1,
              "#f0f921"
             ]
            ],
            "type": "surface"
           }
          ],
          "table": [
           {
            "cells": {
             "fill": {
              "color": "#EBF0F8"
             },
             "line": {
              "color": "white"
             }
            },
            "header": {
             "fill": {
              "color": "#C8D4E3"
             },
             "line": {
              "color": "white"
             }
            },
            "type": "table"
           }
          ]
         },
         "layout": {
          "annotationdefaults": {
           "arrowcolor": "#2a3f5f",
           "arrowhead": 0,
           "arrowwidth": 1
          },
          "autotypenumbers": "strict",
          "coloraxis": {
           "colorbar": {
            "outlinewidth": 0,
            "ticks": ""
           }
          },
          "colorscale": {
           "diverging": [
            [
             0,
             "#8e0152"
            ],
            [
             0.1,
             "#c51b7d"
            ],
            [
             0.2,
             "#de77ae"
            ],
            [
             0.3,
             "#f1b6da"
            ],
            [
             0.4,
             "#fde0ef"
            ],
            [
             0.5,
             "#f7f7f7"
            ],
            [
             0.6,
             "#e6f5d0"
            ],
            [
             0.7,
             "#b8e186"
            ],
            [
             0.8,
             "#7fbc41"
            ],
            [
             0.9,
             "#4d9221"
            ],
            [
             1,
             "#276419"
            ]
           ],
           "sequential": [
            [
             0,
             "#0d0887"
            ],
            [
             0.1111111111111111,
             "#46039f"
            ],
            [
             0.2222222222222222,
             "#7201a8"
            ],
            [
             0.3333333333333333,
             "#9c179e"
            ],
            [
             0.4444444444444444,
             "#bd3786"
            ],
            [
             0.5555555555555556,
             "#d8576b"
            ],
            [
             0.6666666666666666,
             "#ed7953"
            ],
            [
             0.7777777777777778,
             "#fb9f3a"
            ],
            [
             0.8888888888888888,
             "#fdca26"
            ],
            [
             1,
             "#f0f921"
            ]
           ],
           "sequentialminus": [
            [
             0,
             "#0d0887"
            ],
            [
             0.1111111111111111,
             "#46039f"
            ],
            [
             0.2222222222222222,
             "#7201a8"
            ],
            [
             0.3333333333333333,
             "#9c179e"
            ],
            [
             0.4444444444444444,
             "#bd3786"
            ],
            [
             0.5555555555555556,
             "#d8576b"
            ],
            [
             0.6666666666666666,
             "#ed7953"
            ],
            [
             0.7777777777777778,
             "#fb9f3a"
            ],
            [
             0.8888888888888888,
             "#fdca26"
            ],
            [
             1,
             "#f0f921"
            ]
           ]
          },
          "colorway": [
           "#636efa",
           "#EF553B",
           "#00cc96",
           "#ab63fa",
           "#FFA15A",
           "#19d3f3",
           "#FF6692",
           "#B6E880",
           "#FF97FF",
           "#FECB52"
          ],
          "font": {
           "color": "#2a3f5f"
          },
          "geo": {
           "bgcolor": "white",
           "lakecolor": "white",
           "landcolor": "#E5ECF6",
           "showlakes": true,
           "showland": true,
           "subunitcolor": "white"
          },
          "hoverlabel": {
           "align": "left"
          },
          "hovermode": "closest",
          "mapbox": {
           "style": "light"
          },
          "paper_bgcolor": "white",
          "plot_bgcolor": "#E5ECF6",
          "polar": {
           "angularaxis": {
            "gridcolor": "white",
            "linecolor": "white",
            "ticks": ""
           },
           "bgcolor": "#E5ECF6",
           "radialaxis": {
            "gridcolor": "white",
            "linecolor": "white",
            "ticks": ""
           }
          },
          "scene": {
           "xaxis": {
            "backgroundcolor": "#E5ECF6",
            "gridcolor": "white",
            "gridwidth": 2,
            "linecolor": "white",
            "showbackground": true,
            "ticks": "",
            "zerolinecolor": "white"
           },
           "yaxis": {
            "backgroundcolor": "#E5ECF6",
            "gridcolor": "white",
            "gridwidth": 2,
            "linecolor": "white",
            "showbackground": true,
            "ticks": "",
            "zerolinecolor": "white"
           },
           "zaxis": {
            "backgroundcolor": "#E5ECF6",
            "gridcolor": "white",
            "gridwidth": 2,
            "linecolor": "white",
            "showbackground": true,
            "ticks": "",
            "zerolinecolor": "white"
           }
          },
          "shapedefaults": {
           "line": {
            "color": "#2a3f5f"
           }
          },
          "ternary": {
           "aaxis": {
            "gridcolor": "white",
            "linecolor": "white",
            "ticks": ""
           },
           "baxis": {
            "gridcolor": "white",
            "linecolor": "white",
            "ticks": ""
           },
           "bgcolor": "#E5ECF6",
           "caxis": {
            "gridcolor": "white",
            "linecolor": "white",
            "ticks": ""
           }
          },
          "title": {
           "x": 0.05
          },
          "xaxis": {
           "automargin": true,
           "gridcolor": "white",
           "linecolor": "white",
           "ticks": "",
           "title": {
            "standoff": 15
           },
           "zerolinecolor": "white",
           "zerolinewidth": 2
          },
          "yaxis": {
           "automargin": true,
           "gridcolor": "white",
           "linecolor": "white",
           "ticks": "",
           "title": {
            "standoff": 15
           },
           "zerolinecolor": "white",
           "zerolinewidth": 2
          }
         }
        },
        "xaxis": {
         "anchor": "y",
         "domain": [
          0,
          1
         ],
         "title": {
          "text": "Year"
         }
        },
        "yaxis": {
         "anchor": "x",
         "domain": [
          0,
          1
         ],
         "title": {
          "text": "Energy consumption (Kg)"
         }
        }
       }
      }
     },
     "metadata": {}
    }
   ],
   "metadata": {}
  },
  {
   "cell_type": "markdown",
   "source": [
    "Is there a significant difference between Europe and Asia with respect to 'Imports of goods and services (% of GDP)' in the years after 1990? (Stats test needed)\n",
    "\n",
    "Approach\n",
    "\n",
    "Determine the difference of means of imported goods (t-test). T-test inferes significant difference between the two means\n",
    "\n",
    "[reading from here](https://www.investopedia.com/terms/t/t-test.asp)[here](https://www.statology.org/paired-vs-unpaired-t-test/) and [here](https://www.youtube.com/watch?v=CIbJSX-biu0)\n",
    "\n",
    "Perform a two sample hypothesis testing. Null Hypothesis will be *There is no significant difference on goods and services imported between Asia and Europe* i.e means of both groups are the same, (m1=m2).\n",
    "\n",
    "Since these samples are unpaired, an independent t-test will suffice. Check for homogeinity of variance between the samples using [levene](https://www.scalestatistics.com/levenes-test.html) t-test. Many statistical tools make assumptions that groups do have equal variances, and levenes test allows you to determine whether this assumptoin is true. If p-value is >.05,homogeinity in variance exists (equal variances), else different variances\n"
   ],
   "metadata": {}
  },
  {
   "cell_type": "markdown",
   "source": [],
   "metadata": {}
  },
  {
   "cell_type": "code",
   "execution_count": 16,
   "source": [
    "#my_data.head()\n",
    "imports_data = my_data[[\"continent\",\"Year\",\n",
    "                        \"Imports of goods and services (% of GDP)\"]]\n",
    "continent = [\"Asia\",\"Europe\"]\n",
    "imports_data = imports_data.loc[imports_data[\"continent\"].isin(continent)].loc[imports_data[\"Year\"] > 1990] # select data past 1990\n",
    "imports_data = imports_data.dropna()\n",
    "\n",
    "#Get data for each continent\n",
    "Europe = imports_data[imports_data[\"continent\"] == \"Europe\"][\"Imports of goods and services (% of GDP)\"]\n",
    "Asia = imports_data[imports_data[\"continent\"] == \"Asia\"][\"Imports of goods and services (% of GDP)\"]\n",
    "\n",
    "#We comparing differences between two independendt groups making this suitable for unpaired t-test\n",
    "#Check whether there exists variation between the samples using leven test (homogeinity of variance)\n",
    "\n",
    "variance = stats.levene(Asia, Europe)\n",
    "print(variance) #gives a p-value of < .05. No variance exists\n",
    "\n",
    "#Run the t-test\n",
    "res = stats.ttest_ind(a=Europe,b=Asia,equal_var=False) \n",
    "res"
   ],
   "outputs": [
    {
     "output_type": "stream",
     "name": "stdout",
     "text": [
      "LeveneResult(statistic=14.492912922394103, pvalue=0.00018461387781129707)\n"
     ]
    },
    {
     "output_type": "execute_result",
     "data": {
      "text/plain": [
       "Ttest_indResult(statistic=-1.3552198505869248, pvalue=0.1775691189807683)"
      ]
     },
     "metadata": {},
     "execution_count": 16
    }
   ],
   "metadata": {}
  },
  {
   "cell_type": "markdown",
   "source": [
    "Levene's Test gives a p-value of < .05 (0.00018), hence no variance homogeinity between the groups. The independent T-test results to a p-value of > 0.05 (0.1775).\n",
    "There exists significant difference in goods and services imported between Europe and Asia."
   ],
   "metadata": {}
  },
  {
   "cell_type": "code",
   "execution_count": 17,
   "source": [
    "\n",
    "euro = [Europe.min(), Europe.mean(), Europe.max()]\n",
    "asia = [Asia.min(), Asia.mean(), Asia.max()]\n",
    "rowlabs = [\"min\",\"mean\",\"max\"]\n",
    "data = pd.DataFrame({\"Asia\": asia, \"Euro\": euro}, index=rowlabs)\n",
    "\n",
    "fig = plt.figure(figsize=(8,6))\n",
    "data.boxplot(grid=False)\n",
    "plt.show()"
   ],
   "outputs": [
    {
     "output_type": "display_data",
     "data": {
      "image/png": "[encoded data removed]",
      "text/plain": [
       "<Figure size 576x432 with 1 Axes>"
      ]
     },
     "metadata": {
      "needs_background": "light"
     }
    }
   ],
   "metadata": {}
  },
  {
   "cell_type": "markdown",
   "source": [
    "What is the country (or countries) that has the highest 'Population density (people per sq. km of land area)' across all years? (i.e., which country has the highest average ranking in this category across each time point in the dataset?)\n"
   ],
   "metadata": {}
  },
  {
   "cell_type": "code",
   "execution_count": 386,
   "source": [
    "#my_data.head()\n",
    "pop_dns = my_data[[\"Year\",\"Country Name\",\n",
    "                   \"Population density (people per sq. km of land area)\"]]\n",
    "\n",
    "pop_dns = pop_dns.pivot_table(index=\"Country Name\", columns=\"Year\").droplevel(\n",
    "    0, 1).reset_index(drop=False, inplace=False)\n",
    "pop_dns = pop_dns.dropna() #drop countries with missing data\n",
    "pop_dns.set_index(\"Country Name\",inplace=True)\n",
    "pop_dns"
   ],
   "outputs": [
    {
     "output_type": "execute_result",
     "data": {
      "text/html": [
       "<div>\n",
       "<style scoped>\n",
       "    .dataframe tbody tr th:only-of-type {\n",
       "        vertical-align: middle;\n",
       "    }\n",
       "\n",
       "    .dataframe tbody tr th {\n",
       "        vertical-align: top;\n",
       "    }\n",
       "\n",
       "    .dataframe thead th {\n",
       "        text-align: right;\n",
       "    }\n",
       "</style>\n",
       "<table border=\"1\" class=\"dataframe\">\n",
       "  <thead>\n",
       "    <tr style=\"text-align: right;\">\n",
       "      <th>Year</th>\n",
       "      <th>1962</th>\n",
       "      <th>1967</th>\n",
       "      <th>1972</th>\n",
       "      <th>1977</th>\n",
       "      <th>1982</th>\n",
       "      <th>1987</th>\n",
       "      <th>1992</th>\n",
       "      <th>1997</th>\n",
       "      <th>2002</th>\n",
       "      <th>2007</th>\n",
       "    </tr>\n",
       "    <tr>\n",
       "      <th>Country Name</th>\n",
       "      <th></th>\n",
       "      <th></th>\n",
       "      <th></th>\n",
       "      <th></th>\n",
       "      <th></th>\n",
       "      <th></th>\n",
       "      <th></th>\n",
       "      <th></th>\n",
       "      <th></th>\n",
       "      <th></th>\n",
       "    </tr>\n",
       "  </thead>\n",
       "  <tbody>\n",
       "    <tr>\n",
       "      <th>Afghanistan</th>\n",
       "      <td>14.312061</td>\n",
       "      <td>15.881812</td>\n",
       "      <td>17.947027</td>\n",
       "      <td>19.998926</td>\n",
       "      <td>19.402324</td>\n",
       "      <td>17.366559</td>\n",
       "      <td>21.054483</td>\n",
       "      <td>27.623273</td>\n",
       "      <td>32.912231</td>\n",
       "      <td>39.637202</td>\n",
       "    </tr>\n",
       "    <tr>\n",
       "      <th>Albania</th>\n",
       "      <td>62.456898</td>\n",
       "      <td>71.737153</td>\n",
       "      <td>81.865912</td>\n",
       "      <td>91.735255</td>\n",
       "      <td>101.615985</td>\n",
       "      <td>112.540328</td>\n",
       "      <td>118.505073</td>\n",
       "      <td>114.900766</td>\n",
       "      <td>111.350730</td>\n",
       "      <td>108.394781</td>\n",
       "    </tr>\n",
       "    <tr>\n",
       "      <th>Algeria</th>\n",
       "      <td>4.908240</td>\n",
       "      <td>5.606908</td>\n",
       "      <td>6.456244</td>\n",
       "      <td>7.427420</td>\n",
       "      <td>8.638937</td>\n",
       "      <td>10.042191</td>\n",
       "      <td>11.412212</td>\n",
       "      <td>12.548690</td>\n",
       "      <td>13.431519</td>\n",
       "      <td>14.385269</td>\n",
       "    </tr>\n",
       "    <tr>\n",
       "      <th>American Samoa</th>\n",
       "      <td>105.590000</td>\n",
       "      <td>125.580000</td>\n",
       "      <td>142.450000</td>\n",
       "      <td>153.450000</td>\n",
       "      <td>173.700000</td>\n",
       "      <td>212.240000</td>\n",
       "      <td>247.985000</td>\n",
       "      <td>274.710000</td>\n",
       "      <td>293.645000</td>\n",
       "      <td>289.520000</td>\n",
       "    </tr>\n",
       "    <tr>\n",
       "      <th>Andorra</th>\n",
       "      <td>32.714894</td>\n",
       "      <td>44.159574</td>\n",
       "      <td>57.217021</td>\n",
       "      <td>69.721277</td>\n",
       "      <td>83.217021</td>\n",
       "      <td>103.102128</td>\n",
       "      <td>125.327660</td>\n",
       "      <td>136.482979</td>\n",
       "      <td>151.161702</td>\n",
       "      <td>180.591489</td>\n",
       "    </tr>\n",
       "    <tr>\n",
       "      <th>...</th>\n",
       "      <td>...</td>\n",
       "      <td>...</td>\n",
       "      <td>...</td>\n",
       "      <td>...</td>\n",
       "      <td>...</td>\n",
       "      <td>...</td>\n",
       "      <td>...</td>\n",
       "      <td>...</td>\n",
       "      <td>...</td>\n",
       "      <td>...</td>\n",
       "    </tr>\n",
       "    <tr>\n",
       "      <th>Virgin Islands</th>\n",
       "      <td>103.714286</td>\n",
       "      <td>145.142857</td>\n",
       "      <td>217.142857</td>\n",
       "      <td>265.714286</td>\n",
       "      <td>291.428571</td>\n",
       "      <td>302.857143</td>\n",
       "      <td>302.031429</td>\n",
       "      <td>309.585714</td>\n",
       "      <td>309.165714</td>\n",
       "      <td>306.922857</td>\n",
       "    </tr>\n",
       "    <tr>\n",
       "      <th>World</th>\n",
       "      <td>24.120006</td>\n",
       "      <td>26.713726</td>\n",
       "      <td>29.599809</td>\n",
       "      <td>32.474875</td>\n",
       "      <td>35.439447</td>\n",
       "      <td>38.675155</td>\n",
       "      <td>42.057352</td>\n",
       "      <td>45.266395</td>\n",
       "      <td>48.360071</td>\n",
       "      <td>51.452805</td>\n",
       "    </tr>\n",
       "    <tr>\n",
       "      <th>Yemen, Rep.</th>\n",
       "      <td>10.112857</td>\n",
       "      <td>11.037034</td>\n",
       "      <td>12.066214</td>\n",
       "      <td>13.688060</td>\n",
       "      <td>16.474997</td>\n",
       "      <td>19.968182</td>\n",
       "      <td>25.086658</td>\n",
       "      <td>30.967307</td>\n",
       "      <td>35.668877</td>\n",
       "      <td>41.102913</td>\n",
       "    </tr>\n",
       "    <tr>\n",
       "      <th>Zambia</th>\n",
       "      <td>4.359305</td>\n",
       "      <td>5.102119</td>\n",
       "      <td>6.032017</td>\n",
       "      <td>7.188084</td>\n",
       "      <td>8.545395</td>\n",
       "      <td>10.047579</td>\n",
       "      <td>11.537668</td>\n",
       "      <td>13.134078</td>\n",
       "      <td>14.985375</td>\n",
       "      <td>17.135926</td>\n",
       "    </tr>\n",
       "    <tr>\n",
       "      <th>Zimbabwe</th>\n",
       "      <td>10.356112</td>\n",
       "      <td>12.197524</td>\n",
       "      <td>14.406907</td>\n",
       "      <td>17.011087</td>\n",
       "      <td>20.360383</td>\n",
       "      <td>24.649495</td>\n",
       "      <td>28.485762</td>\n",
       "      <td>31.174507</td>\n",
       "      <td>32.807111</td>\n",
       "      <td>34.374559</td>\n",
       "    </tr>\n",
       "  </tbody>\n",
       "</table>\n",
       "<p>252 rows × 10 columns</p>\n",
       "</div>"
      ],
      "text/plain": [
       "Year                  1962        1967        1972        1977        1982  \\\n",
       "Country Name                                                                 \n",
       "Afghanistan      14.312061   15.881812   17.947027   19.998926   19.402324   \n",
       "Albania          62.456898   71.737153   81.865912   91.735255  101.615985   \n",
       "Algeria           4.908240    5.606908    6.456244    7.427420    8.638937   \n",
       "American Samoa  105.590000  125.580000  142.450000  153.450000  173.700000   \n",
       "Andorra          32.714894   44.159574   57.217021   69.721277   83.217021   \n",
       "...                    ...         ...         ...         ...         ...   \n",
       "Virgin Islands  103.714286  145.142857  217.142857  265.714286  291.428571   \n",
       "World            24.120006   26.713726   29.599809   32.474875   35.439447   \n",
       "Yemen, Rep.      10.112857   11.037034   12.066214   13.688060   16.474997   \n",
       "Zambia            4.359305    5.102119    6.032017    7.188084    8.545395   \n",
       "Zimbabwe         10.356112   12.197524   14.406907   17.011087   20.360383   \n",
       "\n",
       "Year                  1987        1992        1997        2002        2007  \n",
       "Country Name                                                                \n",
       "Afghanistan      17.366559   21.054483   27.623273   32.912231   39.637202  \n",
       "Albania         112.540328  118.505073  114.900766  111.350730  108.394781  \n",
       "Algeria          10.042191   11.412212   12.548690   13.431519   14.385269  \n",
       "American Samoa  212.240000  247.985000  274.710000  293.645000  289.520000  \n",
       "Andorra         103.102128  125.327660  136.482979  151.161702  180.591489  \n",
       "...                    ...         ...         ...         ...         ...  \n",
       "Virgin Islands  302.857143  302.031429  309.585714  309.165714  306.922857  \n",
       "World            38.675155   42.057352   45.266395   48.360071   51.452805  \n",
       "Yemen, Rep.      19.968182   25.086658   30.967307   35.668877   41.102913  \n",
       "Zambia           10.047579   11.537668   13.134078   14.985375   17.135926  \n",
       "Zimbabwe         24.649495   28.485762   31.174507   32.807111   34.374559  \n",
       "\n",
       "[252 rows x 10 columns]"
      ]
     },
     "metadata": {},
     "execution_count": 386
    }
   ],
   "metadata": {}
  },
  {
   "cell_type": "code",
   "execution_count": 435,
   "source": [
    "pop_dns = pop_dns.round(decimals=6) #format float decimals for readability\n",
    "\n",
    "Years = pop_dns.columns\n",
    "density = []\n",
    "for i in Years:\n",
    "  density.append([i, pop_dns[i].max(), pop_dns.index[pop_dns[i] == pop_dns[i].max()].astype('string')]) #select maximum population density from each year and the associated countries\n",
    "\n",
    "density = pd.DataFrame(country, columns=(\"year\", \"pop density\",\"country\")) #make a dataframe from the list\n",
    "density[\"country\"].astype('string')"
   ],
   "outputs": [
    {
     "output_type": "execute_result",
     "data": {
      "text/html": [
       "<div>\n",
       "<style scoped>\n",
       "    .dataframe tbody tr th:only-of-type {\n",
       "        vertical-align: middle;\n",
       "    }\n",
       "\n",
       "    .dataframe tbody tr th {\n",
       "        vertical-align: top;\n",
       "    }\n",
       "\n",
       "    .dataframe thead th {\n",
       "        text-align: right;\n",
       "    }\n",
       "</style>\n",
       "<table border=\"1\" class=\"dataframe\">\n",
       "  <thead>\n",
       "    <tr style=\"text-align: right;\">\n",
       "      <th></th>\n",
       "      <th>year</th>\n",
       "      <th>pop density</th>\n",
       "      <th>country</th>\n",
       "    </tr>\n",
       "  </thead>\n",
       "  <tbody>\n",
       "    <tr>\n",
       "      <th>0</th>\n",
       "      <td>1962</td>\n",
       "      <td>11521.000000</td>\n",
       "      <td>[Monaco]</td>\n",
       "    </tr>\n",
       "    <tr>\n",
       "      <th>1</th>\n",
       "      <td>1967</td>\n",
       "      <td>11648.500000</td>\n",
       "      <td>[Monaco]</td>\n",
       "    </tr>\n",
       "    <tr>\n",
       "      <th>2</th>\n",
       "      <td>1972</td>\n",
       "      <td>12714.100000</td>\n",
       "      <td>[Macao SAR, China]</td>\n",
       "    </tr>\n",
       "    <tr>\n",
       "      <th>3</th>\n",
       "      <td>1977</td>\n",
       "      <td>12904.500000</td>\n",
       "      <td>[Monaco]</td>\n",
       "    </tr>\n",
       "    <tr>\n",
       "      <th>4</th>\n",
       "      <td>1982</td>\n",
       "      <td>13814.500000</td>\n",
       "      <td>[Monaco]</td>\n",
       "    </tr>\n",
       "    <tr>\n",
       "      <th>5</th>\n",
       "      <td>1987</td>\n",
       "      <td>16132.750000</td>\n",
       "      <td>[Macao SAR, China]</td>\n",
       "    </tr>\n",
       "    <tr>\n",
       "      <th>6</th>\n",
       "      <td>1992</td>\n",
       "      <td>18889.950000</td>\n",
       "      <td>[Macao SAR, China]</td>\n",
       "    </tr>\n",
       "    <tr>\n",
       "      <th>7</th>\n",
       "      <td>1997</td>\n",
       "      <td>20601.550000</td>\n",
       "      <td>[Macao SAR, China]</td>\n",
       "    </tr>\n",
       "    <tr>\n",
       "      <th>8</th>\n",
       "      <td>2002</td>\n",
       "      <td>16451.037037</td>\n",
       "      <td>[Macao SAR, China]</td>\n",
       "    </tr>\n",
       "    <tr>\n",
       "      <th>9</th>\n",
       "      <td>2007</td>\n",
       "      <td>17523.000000</td>\n",
       "      <td>[Monaco]</td>\n",
       "    </tr>\n",
       "  </tbody>\n",
       "</table>\n",
       "</div>"
      ],
      "text/plain": [
       "   year   pop density             country\n",
       "0  1962  11521.000000            [Monaco]\n",
       "1  1967  11648.500000            [Monaco]\n",
       "2  1972  12714.100000  [Macao SAR, China]\n",
       "3  1977  12904.500000            [Monaco]\n",
       "4  1982  13814.500000            [Monaco]\n",
       "5  1987  16132.750000  [Macao SAR, China]\n",
       "6  1992  18889.950000  [Macao SAR, China]\n",
       "7  1997  20601.550000  [Macao SAR, China]\n",
       "8  2002  16451.037037  [Macao SAR, China]\n",
       "9  2007  17523.000000            [Monaco]"
      ]
     },
     "metadata": {},
     "execution_count": 435
    }
   ],
   "metadata": {}
  },
  {
   "cell_type": "code",
   "execution_count": 455,
   "source": [
    "fig = pltx.bar(density,\n",
    "               y=\"pop density\",x=\"year\", color=density[\"country\"].astype('string'), width=800, height=700,\n",
    "               title=\"Country with highest Population density across years\"\n",
    "               )\n",
    "fig.update_xaxes(categoryorder = \"total ascending\") #linear, category, multicategory,date,log\n",
    "fig.show()"
   ],
   "outputs": [
    {
     "output_type": "display_data",
     "data": {
      "application/vnd.plotly.v1+json": {
       "config": {
        "plotlyServerURL": "https://plot.ly"
       },
       "data": [
        {
         "alignmentgroup": "True",
         "hovertemplate": "color=['Monaco']<br>year=%{x}<br>pop density=%{y}<extra></extra>",
         "legendgroup": "['Monaco']",
         "marker": {
          "color": "#636efa",
          "pattern": {
           "shape": ""
          }
         },
         "name": "['Monaco']",
         "offsetgroup": "['Monaco']",
         "orientation": "v",
         "showlegend": true,
         "textposition": "auto",
         "type": "bar",
         "x": [
          1962,
          1967,
          1977,
          1982,
          2007
         ],
         "xaxis": "x",
         "y": [
          11521,
          11648.5,
          12904.5,
          13814.5,
          17523
         ],
         "yaxis": "y"
        },
        {
         "alignmentgroup": "True",
         "hovertemplate": "color=['Macao SAR, China']<br>year=%{x}<br>pop density=%{y}<extra></extra>",
         "legendgroup": "['Macao SAR, China']",
         "marker": {
          "color": "#EF553B",
          "pattern": {
           "shape": ""
          }
         },
         "name": "['Macao SAR, China']",
         "offsetgroup": "['Macao SAR, China']",
         "orientation": "v",
         "showlegend": true,
         "textposition": "auto",
         "type": "bar",
         "x": [
          1972,
          1987,
          1992,
          1997,
          2002
         ],
         "xaxis": "x",
         "y": [
          12714.1,
          16132.75,
          18889.95,
          20601.55,
          16451.037037
         ],
         "yaxis": "y"
        }
       ],
       "layout": {
        "barmode": "relative",
        "height": 700,
        "legend": {
         "title": {
          "text": "color"
         },
         "tracegroupgap": 0
        },
        "template": {
         "data": {
          "bar": [
           {
            "error_x": {
             "color": "#2a3f5f"
            },
            "error_y": {
             "color": "#2a3f5f"
            },
            "marker": {
             "line": {
              "color": "#E5ECF6",
              "width": 0.5
             },
             "pattern": {
              "fillmode": "overlay",
              "size": 10,
              "solidity": 0.2
             }
            },
            "type": "bar"
           }
          ],
          "barpolar": [
           {
            "marker": {
             "line": {
              "color": "#E5ECF6",
              "width": 0.5
             },
             "pattern": {
              "fillmode": "overlay",
              "size": 10,
              "solidity": 0.2
             }
            },
            "type": "barpolar"
           }
          ],
          "carpet": [
           {
            "aaxis": {
             "endlinecolor": "#2a3f5f",
             "gridcolor": "white",
             "linecolor": "white",
             "minorgridcolor": "white",
             "startlinecolor": "#2a3f5f"
            },
            "baxis": {
             "endlinecolor": "#2a3f5f",
             "gridcolor": "white",
             "linecolor": "white",
             "minorgridcolor": "white",
             "startlinecolor": "#2a3f5f"
            },
            "type": "carpet"
           }
          ],
          "choropleth": [
           {
            "colorbar": {
             "outlinewidth": 0,
             "ticks": ""
            },
            "type": "choropleth"
           }
          ],
          "contour": [
           {
            "colorbar": {
             "outlinewidth": 0,
             "ticks": ""
            },
            "colorscale": [
             [
              0,
              "#0d0887"
             ],
             [
              0.1111111111111111,
              "#46039f"
             ],
             [
              0.2222222222222222,
              "#7201a8"
             ],
             [
              0.3333333333333333,
              "#9c179e"
             ],
             [
              0.4444444444444444,
              "#bd3786"
             ],
             [
              0.5555555555555556,
              "#d8576b"
             ],
             [
              0.6666666666666666,
              "#ed7953"
             ],
             [
              0.7777777777777778,
              "#fb9f3a"
             ],
             [
              0.8888888888888888,
              "#fdca26"
             ],
             [
              1,
              "#f0f921"
             ]
            ],
            "type": "contour"
           }
          ],
          "contourcarpet": [
           {
            "colorbar": {
             "outlinewidth": 0,
             "ticks": ""
            },
            "type": "contourcarpet"
           }
          ],
          "heatmap": [
           {
            "colorbar": {
             "outlinewidth": 0,
             "ticks": ""
            },
            "colorscale": [
             [
              0,
              "#0d0887"
             ],
             [
              0.1111111111111111,
              "#46039f"
             ],
             [
              0.2222222222222222,
              "#7201a8"
             ],
             [
              0.3333333333333333,
              "#9c179e"
             ],
             [
              0.4444444444444444,
              "#bd3786"
             ],
             [
              0.5555555555555556,
              "#d8576b"
             ],
             [
              0.6666666666666666,
              "#ed7953"
             ],
             [
              0.7777777777777778,
              "#fb9f3a"
             ],
             [
              0.8888888888888888,
              "#fdca26"
             ],
             [
              1,
              "#f0f921"
             ]
            ],
            "type": "heatmap"
           }
          ],
          "heatmapgl": [
           {
            "colorbar": {
             "outlinewidth": 0,
             "ticks": ""
            },
            "colorscale": [
             [
              0,
              "#0d0887"
             ],
             [
              0.1111111111111111,
              "#46039f"
             ],
             [
              0.2222222222222222,
              "#7201a8"
             ],
             [
              0.3333333333333333,
              "#9c179e"
             ],
             [
              0.4444444444444444,
              "#bd3786"
             ],
             [
              0.5555555555555556,
              "#d8576b"
             ],
             [
              0.6666666666666666,
              "#ed7953"
             ],
             [
              0.7777777777777778,
              "#fb9f3a"
             ],
             [
              0.8888888888888888,
              "#fdca26"
             ],
             [
              1,
              "#f0f921"
             ]
            ],
            "type": "heatmapgl"
           }
          ],
          "histogram": [
           {
            "marker": {
             "pattern": {
              "fillmode": "overlay",
              "size": 10,
              "solidity": 0.2
             }
            },
            "type": "histogram"
           }
          ],
          "histogram2d": [
           {
            "colorbar": {
             "outlinewidth": 0,
             "ticks": ""
            },
            "colorscale": [
             [
              0,
              "#0d0887"
             ],
             [
              0.1111111111111111,
              "#46039f"
             ],
             [
              0.2222222222222222,
              "#7201a8"
             ],
             [
              0.3333333333333333,
              "#9c179e"
             ],
             [
              0.4444444444444444,
              "#bd3786"
             ],
             [
              0.5555555555555556,
              "#d8576b"
             ],
             [
              0.6666666666666666,
              "#ed7953"
             ],
             [
              0.7777777777777778,
              "#fb9f3a"
             ],
             [
              0.8888888888888888,
              "#fdca26"
             ],
             [
              1,
              "#f0f921"
             ]
            ],
            "type": "histogram2d"
           }
          ],
          "histogram2dcontour": [
           {
            "colorbar": {
             "outlinewidth": 0,
             "ticks": ""
            },
            "colorscale": [
             [
              0,
              "#0d0887"
             ],
             [
              0.1111111111111111,
              "#46039f"
             ],
             [
              0.2222222222222222,
              "#7201a8"
             ],
             [
              0.3333333333333333,
              "#9c179e"
             ],
             [
              0.4444444444444444,
              "#bd3786"
             ],
             [
              0.5555555555555556,
              "#d8576b"
             ],
             [
              0.6666666666666666,
              "#ed7953"
             ],
             [
              0.7777777777777778,
              "#fb9f3a"
             ],
             [
              0.8888888888888888,
              "#fdca26"
             ],
             [
              1,
              "#f0f921"
             ]
            ],
            "type": "histogram2dcontour"
           }
          ],
          "mesh3d": [
           {
            "colorbar": {
             "outlinewidth": 0,
             "ticks": ""
            },
            "type": "mesh3d"
           }
          ],
          "parcoords": [
           {
            "line": {
             "colorbar": {
              "outlinewidth": 0,
              "ticks": ""
             }
            },
            "type": "parcoords"
           }
          ],
          "pie": [
           {
            "automargin": true,
            "type": "pie"
           }
          ],
          "scatter": [
           {
            "marker": {
             "colorbar": {
              "outlinewidth": 0,
              "ticks": ""
             }
            },
            "type": "scatter"
           }
          ],
          "scatter3d": [
           {
            "line": {
             "colorbar": {
              "outlinewidth": 0,
              "ticks": ""
             }
            },
            "marker": {
             "colorbar": {
              "outlinewidth": 0,
              "ticks": ""
             }
            },
            "type": "scatter3d"
           }
          ],
          "scattercarpet": [
           {
            "marker": {
             "colorbar": {
              "outlinewidth": 0,
              "ticks": ""
             }
            },
            "type": "scattercarpet"
           }
          ],
          "scattergeo": [
           {
            "marker": {
             "colorbar": {
              "outlinewidth": 0,
              "ticks": ""
             }
            },
            "type": "scattergeo"
           }
          ],
          "scattergl": [
           {
            "marker": {
             "colorbar": {
              "outlinewidth": 0,
              "ticks": ""
             }
            },
            "type": "scattergl"
           }
          ],
          "scattermapbox": [
           {
            "marker": {
             "colorbar": {
              "outlinewidth": 0,
              "ticks": ""
             }
            },
            "type": "scattermapbox"
           }
          ],
          "scatterpolar": [
           {
            "marker": {
             "colorbar": {
              "outlinewidth": 0,
              "ticks": ""
             }
            },
            "type": "scatterpolar"
           }
          ],
          "scatterpolargl": [
           {
            "marker": {
             "colorbar": {
              "outlinewidth": 0,
              "ticks": ""
             }
            },
            "type": "scatterpolargl"
           }
          ],
          "scatterternary": [
           {
            "marker": {
             "colorbar": {
              "outlinewidth": 0,
              "ticks": ""
             }
            },
            "type": "scatterternary"
           }
          ],
          "surface": [
           {
            "colorbar": {
             "outlinewidth": 0,
             "ticks": ""
            },
            "colorscale": [
             [
              0,
              "#0d0887"
             ],
             [
              0.1111111111111111,
              "#46039f"
             ],
             [
              0.2222222222222222,
              "#7201a8"
             ],
             [
              0.3333333333333333,
              "#9c179e"
             ],
             [
              0.4444444444444444,
              "#bd3786"
             ],
             [
              0.5555555555555556,
              "#d8576b"
             ],
             [
              0.6666666666666666,
              "#ed7953"
             ],
             [
              0.7777777777777778,
              "#fb9f3a"
             ],
             [
              0.8888888888888888,
              "#fdca26"
             ],
             [
              1,
              "#f0f921"
             ]
            ],
            "type": "surface"
           }
          ],
          "table": [
           {
            "cells": {
             "fill": {
              "color": "#EBF0F8"
             },
             "line": {
              "color": "white"
             }
            },
            "header": {
             "fill": {
              "color": "#C8D4E3"
             },
             "line": {
              "color": "white"
             }
            },
            "type": "table"
           }
          ]
         },
         "layout": {
          "annotationdefaults": {
           "arrowcolor": "#2a3f5f",
           "arrowhead": 0,
           "arrowwidth": 1
          },
          "autotypenumbers": "strict",
          "coloraxis": {
           "colorbar": {
            "outlinewidth": 0,
            "ticks": ""
           }
          },
          "colorscale": {
           "diverging": [
            [
             0,
             "#8e0152"
            ],
            [
             0.1,
             "#c51b7d"
            ],
            [
             0.2,
             "#de77ae"
            ],
            [
             0.3,
             "#f1b6da"
            ],
            [
             0.4,
             "#fde0ef"
            ],
            [
             0.5,
             "#f7f7f7"
            ],
            [
             0.6,
             "#e6f5d0"
            ],
            [
             0.7,
             "#b8e186"
            ],
            [
             0.8,
             "#7fbc41"
            ],
            [
             0.9,
             "#4d9221"
            ],
            [
             1,
             "#276419"
            ]
           ],
           "sequential": [
            [
             0,
             "#0d0887"
            ],
            [
             0.1111111111111111,
             "#46039f"
            ],
            [
             0.2222222222222222,
             "#7201a8"
            ],
            [
             0.3333333333333333,
             "#9c179e"
            ],
            [
             0.4444444444444444,
             "#bd3786"
            ],
            [
             0.5555555555555556,
             "#d8576b"
            ],
            [
             0.6666666666666666,
             "#ed7953"
            ],
            [
             0.7777777777777778,
             "#fb9f3a"
            ],
            [
             0.8888888888888888,
             "#fdca26"
            ],
            [
             1,
             "#f0f921"
            ]
           ],
           "sequentialminus": [
            [
             0,
             "#0d0887"
            ],
            [
             0.1111111111111111,
             "#46039f"
            ],
            [
             0.2222222222222222,
             "#7201a8"
            ],
            [
             0.3333333333333333,
             "#9c179e"
            ],
            [
             0.4444444444444444,
             "#bd3786"
            ],
            [
             0.5555555555555556,
             "#d8576b"
            ],
            [
             0.6666666666666666,
             "#ed7953"
            ],
            [
             0.7777777777777778,
             "#fb9f3a"
            ],
            [
             0.8888888888888888,
             "#fdca26"
            ],
            [
             1,
             "#f0f921"
            ]
           ]
          },
          "colorway": [
           "#636efa",
           "#EF553B",
           "#00cc96",
           "#ab63fa",
           "#FFA15A",
           "#19d3f3",
           "#FF6692",
           "#B6E880",
           "#FF97FF",
           "#FECB52"
          ],
          "font": {
           "color": "#2a3f5f"
          },
          "geo": {
           "bgcolor": "white",
           "lakecolor": "white",
           "landcolor": "#E5ECF6",
           "showlakes": true,
           "showland": true,
           "subunitcolor": "white"
          },
          "hoverlabel": {
           "align": "left"
          },
          "hovermode": "closest",
          "mapbox": {
           "style": "light"
          },
          "paper_bgcolor": "white",
          "plot_bgcolor": "#E5ECF6",
          "polar": {
           "angularaxis": {
            "gridcolor": "white",
            "linecolor": "white",
            "ticks": ""
           },
           "bgcolor": "#E5ECF6",
           "radialaxis": {
            "gridcolor": "white",
            "linecolor": "white",
            "ticks": ""
           }
          },
          "scene": {
           "xaxis": {
            "backgroundcolor": "#E5ECF6",
            "gridcolor": "white",
            "gridwidth": 2,
            "linecolor": "white",
            "showbackground": true,
            "ticks": "",
            "zerolinecolor": "white"
           },
           "yaxis": {
            "backgroundcolor": "#E5ECF6",
            "gridcolor": "white",
            "gridwidth": 2,
            "linecolor": "white",
            "showbackground": true,
            "ticks": "",
            "zerolinecolor": "white"
           },
           "zaxis": {
            "backgroundcolor": "#E5ECF6",
            "gridcolor": "white",
            "gridwidth": 2,
            "linecolor": "white",
            "showbackground": true,
            "ticks": "",
            "zerolinecolor": "white"
           }
          },
          "shapedefaults": {
           "line": {
            "color": "#2a3f5f"
           }
          },
          "ternary": {
           "aaxis": {
            "gridcolor": "white",
            "linecolor": "white",
            "ticks": ""
           },
           "baxis": {
            "gridcolor": "white",
            "linecolor": "white",
            "ticks": ""
           },
           "bgcolor": "#E5ECF6",
           "caxis": {
            "gridcolor": "white",
            "linecolor": "white",
            "ticks": ""
           }
          },
          "title": {
           "x": 0.05
          },
          "xaxis": {
           "automargin": true,
           "gridcolor": "white",
           "linecolor": "white",
           "ticks": "",
           "title": {
            "standoff": 15
           },
           "zerolinecolor": "white",
           "zerolinewidth": 2
          },
          "yaxis": {
           "automargin": true,
           "gridcolor": "white",
           "linecolor": "white",
           "ticks": "",
           "title": {
            "standoff": 15
           },
           "zerolinecolor": "white",
           "zerolinewidth": 2
          }
         }
        },
        "title": {
         "text": "Country with highest Population density across years"
        },
        "width": 800,
        "xaxis": {
         "anchor": "y",
         "categoryorder": "total ascending",
         "domain": [
          0,
          1
         ],
         "title": {
          "text": "year"
         }
        },
        "yaxis": {
         "anchor": "x",
         "domain": [
          0,
          1
         ],
         "title": {
          "text": "pop density"
         }
        }
       }
      }
     },
     "metadata": {}
    }
   ],
   "metadata": {}
  },
  {
   "cell_type": "markdown",
   "source": [],
   "metadata": {}
  },
  {
   "cell_type": "markdown",
   "source": [
    "What country (or countries) has shown the greatest increase in 'Life expectancy at birth, total (years)' since 1962?\n"
   ],
   "metadata": {}
  },
  {
   "cell_type": "code",
   "execution_count": 483,
   "source": [
    "expectancy_data = my_data[[\"Country Name\",\"Year\", \"Life expectancy at birth, total (years)\"]]\n",
    "\n",
    "expectancy_data = expectancy_data.pivot_table(index=\"Year\", columns=\"Country Name\").droplevel(\n",
    "    0, 1).reset_index(drop=False, inplace=False)\n",
    "\n",
    "expectancy_data = expectancy_data.dropna(axis=1) #remove countries with missing data\n",
    "\n",
    "expectancy_data"
   ],
   "outputs": [
    {
     "output_type": "execute_result",
     "data": {
      "text/html": [
       "<div>\n",
       "<style scoped>\n",
       "    .dataframe tbody tr th:only-of-type {\n",
       "        vertical-align: middle;\n",
       "    }\n",
       "\n",
       "    .dataframe tbody tr th {\n",
       "        vertical-align: top;\n",
       "    }\n",
       "\n",
       "    .dataframe thead th {\n",
       "        text-align: right;\n",
       "    }\n",
       "</style>\n",
       "<table border=\"1\" class=\"dataframe\">\n",
       "  <thead>\n",
       "    <tr style=\"text-align: right;\">\n",
       "      <th>Country Name</th>\n",
       "      <th>Year</th>\n",
       "      <th>Afghanistan</th>\n",
       "      <th>Albania</th>\n",
       "      <th>Algeria</th>\n",
       "      <th>Angola</th>\n",
       "      <th>Antigua and Barbuda</th>\n",
       "      <th>Arab World</th>\n",
       "      <th>Argentina</th>\n",
       "      <th>Armenia</th>\n",
       "      <th>Aruba</th>\n",
       "      <th>...</th>\n",
       "      <th>Uruguay</th>\n",
       "      <th>Uzbekistan</th>\n",
       "      <th>Vanuatu</th>\n",
       "      <th>Venezuela, RB</th>\n",
       "      <th>Vietnam</th>\n",
       "      <th>Virgin Islands</th>\n",
       "      <th>World</th>\n",
       "      <th>Yemen, Rep.</th>\n",
       "      <th>Zambia</th>\n",
       "      <th>Zimbabwe</th>\n",
       "    </tr>\n",
       "  </thead>\n",
       "  <tbody>\n",
       "    <tr>\n",
       "      <th>0</th>\n",
       "      <td>1962</td>\n",
       "      <td>33.219902</td>\n",
       "      <td>64.162854</td>\n",
       "      <td>47.045000</td>\n",
       "      <td>33.787585</td>\n",
       "      <td>62.598537</td>\n",
       "      <td>48.008603</td>\n",
       "      <td>65.432610</td>\n",
       "      <td>66.709854</td>\n",
       "      <td>66.365537</td>\n",
       "      <td>...</td>\n",
       "      <td>68.296634</td>\n",
       "      <td>59.713024</td>\n",
       "      <td>47.688195</td>\n",
       "      <td>60.430317</td>\n",
       "      <td>60.410537</td>\n",
       "      <td>64.462561</td>\n",
       "      <td>53.404890</td>\n",
       "      <td>34.739561</td>\n",
       "      <td>45.853659</td>\n",
       "      <td>52.277902</td>\n",
       "    </tr>\n",
       "    <tr>\n",
       "      <th>1</th>\n",
       "      <td>1967</td>\n",
       "      <td>35.389415</td>\n",
       "      <td>66.287220</td>\n",
       "      <td>49.187512</td>\n",
       "      <td>35.799976</td>\n",
       "      <td>64.488073</td>\n",
       "      <td>50.885697</td>\n",
       "      <td>65.930024</td>\n",
       "      <td>68.830488</td>\n",
       "      <td>68.034683</td>\n",
       "      <td>...</td>\n",
       "      <td>68.645512</td>\n",
       "      <td>61.744122</td>\n",
       "      <td>50.681829</td>\n",
       "      <td>63.111829</td>\n",
       "      <td>61.842049</td>\n",
       "      <td>66.462463</td>\n",
       "      <td>56.734565</td>\n",
       "      <td>38.420195</td>\n",
       "      <td>47.681463</td>\n",
       "      <td>53.945439</td>\n",
       "    </tr>\n",
       "    <tr>\n",
       "      <th>2</th>\n",
       "      <td>1972</td>\n",
       "      <td>37.610146</td>\n",
       "      <td>67.585951</td>\n",
       "      <td>51.171805</td>\n",
       "      <td>37.826927</td>\n",
       "      <td>66.188268</td>\n",
       "      <td>53.587021</td>\n",
       "      <td>67.167951</td>\n",
       "      <td>70.367341</td>\n",
       "      <td>69.798659</td>\n",
       "      <td>...</td>\n",
       "      <td>68.795902</td>\n",
       "      <td>63.320341</td>\n",
       "      <td>53.679439</td>\n",
       "      <td>65.562146</td>\n",
       "      <td>59.021610</td>\n",
       "      <td>68.580561</td>\n",
       "      <td>59.567739</td>\n",
       "      <td>42.854829</td>\n",
       "      <td>49.955341</td>\n",
       "      <td>55.563098</td>\n",
       "    </tr>\n",
       "    <tr>\n",
       "      <th>3</th>\n",
       "      <td>1977</td>\n",
       "      <td>40.110146</td>\n",
       "      <td>69.456171</td>\n",
       "      <td>54.578268</td>\n",
       "      <td>39.581366</td>\n",
       "      <td>67.730756</td>\n",
       "      <td>56.661192</td>\n",
       "      <td>68.629439</td>\n",
       "      <td>70.542902</td>\n",
       "      <td>71.377707</td>\n",
       "      <td>...</td>\n",
       "      <td>69.529854</td>\n",
       "      <td>64.442683</td>\n",
       "      <td>56.703098</td>\n",
       "      <td>67.336195</td>\n",
       "      <td>64.526707</td>\n",
       "      <td>70.490927</td>\n",
       "      <td>61.797069</td>\n",
       "      <td>47.540463</td>\n",
       "      <td>51.548146</td>\n",
       "      <td>57.651366</td>\n",
       "    </tr>\n",
       "    <tr>\n",
       "      <th>4</th>\n",
       "      <td>1982</td>\n",
       "      <td>43.230732</td>\n",
       "      <td>70.685122</td>\n",
       "      <td>60.786341</td>\n",
       "      <td>40.408000</td>\n",
       "      <td>69.140927</td>\n",
       "      <td>59.799532</td>\n",
       "      <td>70.035317</td>\n",
       "      <td>70.535512</td>\n",
       "      <td>72.673195</td>\n",
       "      <td>...</td>\n",
       "      <td>70.831610</td>\n",
       "      <td>65.922122</td>\n",
       "      <td>59.664878</td>\n",
       "      <td>68.644537</td>\n",
       "      <td>68.093878</td>\n",
       "      <td>72.036463</td>\n",
       "      <td>63.461229</td>\n",
       "      <td>52.492707</td>\n",
       "      <td>50.786000</td>\n",
       "      <td>60.605512</td>\n",
       "    </tr>\n",
       "    <tr>\n",
       "      <th>5</th>\n",
       "      <td>1987</td>\n",
       "      <td>47.296341</td>\n",
       "      <td>71.861951</td>\n",
       "      <td>65.487146</td>\n",
       "      <td>40.973878</td>\n",
       "      <td>70.432634</td>\n",
       "      <td>63.009285</td>\n",
       "      <td>70.967756</td>\n",
       "      <td>68.567561</td>\n",
       "      <td>73.242707</td>\n",
       "      <td>...</td>\n",
       "      <td>71.997561</td>\n",
       "      <td>67.002512</td>\n",
       "      <td>61.914634</td>\n",
       "      <td>69.438220</td>\n",
       "      <td>69.509585</td>\n",
       "      <td>73.775951</td>\n",
       "      <td>64.766854</td>\n",
       "      <td>56.356732</td>\n",
       "      <td>46.936366</td>\n",
       "      <td>61.753805</td>\n",
       "    </tr>\n",
       "    <tr>\n",
       "      <th>6</th>\n",
       "      <td>1992</td>\n",
       "      <td>51.362927</td>\n",
       "      <td>71.900805</td>\n",
       "      <td>67.209683</td>\n",
       "      <td>41.313024</td>\n",
       "      <td>71.634707</td>\n",
       "      <td>65.069810</td>\n",
       "      <td>71.988951</td>\n",
       "      <td>67.853341</td>\n",
       "      <td>73.471756</td>\n",
       "      <td>...</td>\n",
       "      <td>72.906805</td>\n",
       "      <td>66.359268</td>\n",
       "      <td>64.103415</td>\n",
       "      <td>70.188024</td>\n",
       "      <td>70.995463</td>\n",
       "      <td>75.400512</td>\n",
       "      <td>65.738976</td>\n",
       "      <td>58.418634</td>\n",
       "      <td>43.004610</td>\n",
       "      <td>56.491976</td>\n",
       "    </tr>\n",
       "    <tr>\n",
       "      <th>7</th>\n",
       "      <td>1997</td>\n",
       "      <td>54.017829</td>\n",
       "      <td>72.898098</td>\n",
       "      <td>68.921220</td>\n",
       "      <td>43.062122</td>\n",
       "      <td>72.757561</td>\n",
       "      <td>66.817944</td>\n",
       "      <td>73.108049</td>\n",
       "      <td>69.716415</td>\n",
       "      <td>73.614805</td>\n",
       "      <td>...</td>\n",
       "      <td>74.005000</td>\n",
       "      <td>66.571122</td>\n",
       "      <td>66.330098</td>\n",
       "      <td>71.512268</td>\n",
       "      <td>72.403512</td>\n",
       "      <td>76.802561</td>\n",
       "      <td>66.857422</td>\n",
       "      <td>59.747976</td>\n",
       "      <td>42.158195</td>\n",
       "      <td>46.065902</td>\n",
       "    </tr>\n",
       "    <tr>\n",
       "      <th>8</th>\n",
       "      <td>2002</td>\n",
       "      <td>55.857195</td>\n",
       "      <td>75.154610</td>\n",
       "      <td>71.014854</td>\n",
       "      <td>46.711732</td>\n",
       "      <td>73.815439</td>\n",
       "      <td>68.102625</td>\n",
       "      <td>74.155780</td>\n",
       "      <td>72.201610</td>\n",
       "      <td>73.865244</td>\n",
       "      <td>...</td>\n",
       "      <td>75.095561</td>\n",
       "      <td>67.108366</td>\n",
       "      <td>68.299951</td>\n",
       "      <td>72.775268</td>\n",
       "      <td>73.576561</td>\n",
       "      <td>78.024390</td>\n",
       "      <td>68.158441</td>\n",
       "      <td>60.888000</td>\n",
       "      <td>45.306659</td>\n",
       "      <td>40.679146</td>\n",
       "    </tr>\n",
       "    <tr>\n",
       "      <th>9</th>\n",
       "      <td>2007</td>\n",
       "      <td>57.833829</td>\n",
       "      <td>76.470293</td>\n",
       "      <td>72.898366</td>\n",
       "      <td>49.435732</td>\n",
       "      <td>74.803220</td>\n",
       "      <td>69.207008</td>\n",
       "      <td>75.009049</td>\n",
       "      <td>73.764659</td>\n",
       "      <td>74.526756</td>\n",
       "      <td>...</td>\n",
       "      <td>75.951024</td>\n",
       "      <td>67.531220</td>\n",
       "      <td>69.948732</td>\n",
       "      <td>73.388902</td>\n",
       "      <td>74.483854</td>\n",
       "      <td>78.824390</td>\n",
       "      <td>69.641854</td>\n",
       "      <td>61.954805</td>\n",
       "      <td>52.477146</td>\n",
       "      <td>44.177756</td>\n",
       "    </tr>\n",
       "  </tbody>\n",
       "</table>\n",
       "<p>10 rows × 237 columns</p>\n",
       "</div>"
      ],
      "text/plain": [
       "Country Name  Year  Afghanistan    Albania    Algeria     Angola  \\\n",
       "0             1962    33.219902  64.162854  47.045000  33.787585   \n",
       "1             1967    35.389415  66.287220  49.187512  35.799976   \n",
       "2             1972    37.610146  67.585951  51.171805  37.826927   \n",
       "3             1977    40.110146  69.456171  54.578268  39.581366   \n",
       "4             1982    43.230732  70.685122  60.786341  40.408000   \n",
       "5             1987    47.296341  71.861951  65.487146  40.973878   \n",
       "6             1992    51.362927  71.900805  67.209683  41.313024   \n",
       "7             1997    54.017829  72.898098  68.921220  43.062122   \n",
       "8             2002    55.857195  75.154610  71.014854  46.711732   \n",
       "9             2007    57.833829  76.470293  72.898366  49.435732   \n",
       "\n",
       "Country Name  Antigua and Barbuda  Arab World  Argentina    Armenia  \\\n",
       "0                       62.598537   48.008603  65.432610  66.709854   \n",
       "1                       64.488073   50.885697  65.930024  68.830488   \n",
       "2                       66.188268   53.587021  67.167951  70.367341   \n",
       "3                       67.730756   56.661192  68.629439  70.542902   \n",
       "4                       69.140927   59.799532  70.035317  70.535512   \n",
       "5                       70.432634   63.009285  70.967756  68.567561   \n",
       "6                       71.634707   65.069810  71.988951  67.853341   \n",
       "7                       72.757561   66.817944  73.108049  69.716415   \n",
       "8                       73.815439   68.102625  74.155780  72.201610   \n",
       "9                       74.803220   69.207008  75.009049  73.764659   \n",
       "\n",
       "Country Name      Aruba  ...    Uruguay  Uzbekistan    Vanuatu  Venezuela, RB  \\\n",
       "0             66.365537  ...  68.296634   59.713024  47.688195      60.430317   \n",
       "1             68.034683  ...  68.645512   61.744122  50.681829      63.111829   \n",
       "2             69.798659  ...  68.795902   63.320341  53.679439      65.562146   \n",
       "3             71.377707  ...  69.529854   64.442683  56.703098      67.336195   \n",
       "4             72.673195  ...  70.831610   65.922122  59.664878      68.644537   \n",
       "5             73.242707  ...  71.997561   67.002512  61.914634      69.438220   \n",
       "6             73.471756  ...  72.906805   66.359268  64.103415      70.188024   \n",
       "7             73.614805  ...  74.005000   66.571122  66.330098      71.512268   \n",
       "8             73.865244  ...  75.095561   67.108366  68.299951      72.775268   \n",
       "9             74.526756  ...  75.951024   67.531220  69.948732      73.388902   \n",
       "\n",
       "Country Name    Vietnam  Virgin Islands      World  Yemen, Rep.     Zambia  \\\n",
       "0             60.410537       64.462561  53.404890    34.739561  45.853659   \n",
       "1             61.842049       66.462463  56.734565    38.420195  47.681463   \n",
       "2             59.021610       68.580561  59.567739    42.854829  49.955341   \n",
       "3             64.526707       70.490927  61.797069    47.540463  51.548146   \n",
       "4             68.093878       72.036463  63.461229    52.492707  50.786000   \n",
       "5             69.509585       73.775951  64.766854    56.356732  46.936366   \n",
       "6             70.995463       75.400512  65.738976    58.418634  43.004610   \n",
       "7             72.403512       76.802561  66.857422    59.747976  42.158195   \n",
       "8             73.576561       78.024390  68.158441    60.888000  45.306659   \n",
       "9             74.483854       78.824390  69.641854    61.954805  52.477146   \n",
       "\n",
       "Country Name   Zimbabwe  \n",
       "0             52.277902  \n",
       "1             53.945439  \n",
       "2             55.563098  \n",
       "3             57.651366  \n",
       "4             60.605512  \n",
       "5             61.753805  \n",
       "6             56.491976  \n",
       "7             46.065902  \n",
       "8             40.679146  \n",
       "9             44.177756  \n",
       "\n",
       "[10 rows x 237 columns]"
      ]
     },
     "metadata": {},
     "execution_count": 483
    }
   ],
   "metadata": {}
  },
  {
   "cell_type": "code",
   "execution_count": 484,
   "source": [
    "#Graphical display of trends in life expectancy using line trends\n",
    "\n",
    "fig = pltx.line(expectancy_data, x=\"Year\", y=expectancy_data.columns)\n",
    "fig.update_yaxes(title=\"Energy consumption (Kg)\")\n",
    "fig.show()\n"
   ],
   "outputs": [
    {
     "output_type": "stream",
     "name": "stderr",
     "text": [
      "/Users/mikemwanga/.pymod/pymod_envs/pymod_env/lib/python3.7/site-packages/plotly/express/_core.py:1222: PerformanceWarning:\n",
      "\n",
      "DataFrame is highly fragmented.  This is usually the result of calling `frame.insert` many times, which has poor performance.  Consider joining all columns at once using pd.concat(axis=1) instead.  To get a de-fragmented frame, use `newframe = frame.copy()`\n",
      "\n"
     ]
    },
    {
     "output_type": "display_data",
     "data": {
      "application/vnd.plotly.v1+json": {
       "config": {
        "plotlyServerURL": "https://plot.ly"
       },
       "data": [
        {
         "hovertemplate": "Country Name=Afghanistan<br>Year=%{x}<br>value=%{y}<extra></extra>",
         "legendgroup": "Afghanistan",
         "line": {
          "color": "#636efa",
          "dash": "solid"
         },
         "marker": {
          "symbol": "circle"
         },
         "mode": "lines",
         "name": "Afghanistan",
         "showlegend": true,
         "type": "scattergl",
         "x": [
          1962,
          1967,
          1972,
          1977,
          1982,
          1987,
          1992,
          1997,
          2002,
          2007
         ],
         "xaxis": "x",
         "y": [
          33.219902439,
          35.3894146341,
          37.6101463415,
          40.1101463415,
          43.2307317073,
          47.29634146340001,
          51.3629268293,
          54.0178292683,
          55.857195122,
          57.8338292683
         ],
         "yaxis": "y"
        },
        {
         "hovertemplate": "Country Name=Albania<br>Year=%{x}<br>value=%{y}<extra></extra>",
         "legendgroup": "Albania",
         "line": {
          "color": "#EF553B",
          "dash": "solid"
         },
         "marker": {
          "symbol": "circle"
         },
         "mode": "lines",
         "name": "Albania",
         "showlegend": true,
         "type": "scattergl",
         "x": [
          1962,
          1967,
          1972,
          1977,
          1982,
          1987,
          1992,
          1997,
          2002,
          2007
         ],
         "xaxis": "x",
         "y": [
          64.1628536585,
          66.2872195122,
          67.5859512195,
          69.4561707317,
          70.6851219512,
          71.8619512195,
          71.900804878,
          72.898097561,
          75.1546097561,
          76.4702926829
         ],
         "yaxis": "y"
        },
        {
         "hovertemplate": "Country Name=Algeria<br>Year=%{x}<br>value=%{y}<extra></extra>",
         "legendgroup": "Algeria",
         "line": {
          "color": "#00cc96",
          "dash": "solid"
         },
         "marker": {
          "symbol": "circle"
         },
         "mode": "lines",
         "name": "Algeria",
         "showlegend": true,
         "type": "scattergl",
         "x": [
          1962,
          1967,
          1972,
          1977,
          1982,
          1987,
          1992,
          1997,
          2002,
          2007
         ],
         "xaxis": "x",
         "y": [
          47.045,
          49.18751219510001,
          51.171804878,
          54.5782682927,
          60.7863414634,
          65.4871463415,
          67.2096829268,
          68.9212195122,
          71.0148536585,
          72.8983658537
         ],
         "yaxis": "y"
        },
        {
         "hovertemplate": "Country Name=Angola<br>Year=%{x}<br>value=%{y}<extra></extra>",
         "legendgroup": "Angola",
         "line": {
          "color": "#ab63fa",
          "dash": "solid"
         },
         "marker": {
          "symbol": "circle"
         },
         "mode": "lines",
         "name": "Angola",
         "showlegend": true,
         "type": "scattergl",
         "x": [
          1962,
          1967,
          1972,
          1977,
          1982,
          1987,
          1992,
          1997,
          2002,
          2007
         ],
         "xaxis": "x",
         "y": [
          33.7875853659,
          35.7999756098,
          37.8269268293,
          39.5813658537,
          40.408,
          40.9738780488,
          41.3130243902,
          43.0621219512,
          46.7117317073,
          49.43573170729999
         ],
         "yaxis": "y"
        },
        {
         "hovertemplate": "Country Name=Antigua and Barbuda<br>Year=%{x}<br>value=%{y}<extra></extra>",
         "legendgroup": "Antigua and Barbuda",
         "line": {
          "color": "#FFA15A",
          "dash": "solid"
         },
         "marker": {
          "symbol": "circle"
         },
         "mode": "lines",
         "name": "Antigua and Barbuda",
         "showlegend": true,
         "type": "scattergl",
         "x": [
          1962,
          1967,
          1972,
          1977,
          1982,
          1987,
          1992,
          1997,
          2002,
          2007
         ],
         "xaxis": "x",
         "y": [
          62.5985365854,
          64.48807317069999,
          66.1882682927,
          67.73075609760001,
          69.1409268293,
          70.4326341463,
          71.6347073171,
          72.7575609756,
          73.81543902439999,
          74.8032195122
         ],
         "yaxis": "y"
        },
        {
         "hovertemplate": "Country Name=Arab World<br>Year=%{x}<br>value=%{y}<extra></extra>",
         "legendgroup": "Arab World",
         "line": {
          "color": "#19d3f3",
          "dash": "solid"
         },
         "marker": {
          "symbol": "circle"
         },
         "mode": "lines",
         "name": "Arab World",
         "showlegend": true,
         "type": "scattergl",
         "x": [
          1962,
          1967,
          1972,
          1977,
          1982,
          1987,
          1992,
          1997,
          2002,
          2007
         ],
         "xaxis": "x",
         "y": [
          48.008602901,
          50.8856967104,
          53.5870213525,
          56.6611918917,
          59.7995323943,
          63.00928506970001,
          65.0698103742,
          66.8179436424,
          68.1026251612,
          69.2070082278
         ],
         "yaxis": "y"
        },
        {
         "hovertemplate": "Country Name=Argentina<br>Year=%{x}<br>value=%{y}<extra></extra>",
         "legendgroup": "Argentina",
         "line": {
          "color": "#FF6692",
          "dash": "solid"
         },
         "marker": {
          "symbol": "circle"
         },
         "mode": "lines",
         "name": "Argentina",
         "showlegend": true,
         "type": "scattergl",
         "x": [
          1962,
          1967,
          1972,
          1977,
          1982,
          1987,
          1992,
          1997,
          2002,
          2007
         ],
         "xaxis": "x",
         "y": [
          65.43260975609999,
          65.9300243902,
          67.1679512195,
          68.6294390244,
          70.03531707319999,
          70.9677560976,
          71.9889512195,
          73.1080487805,
          74.1557804878,
          75.0090487805
         ],
         "yaxis": "y"
        },
        {
         "hovertemplate": "Country Name=Armenia<br>Year=%{x}<br>value=%{y}<extra></extra>",
         "legendgroup": "Armenia",
         "line": {
          "color": "#B6E880",
          "dash": "solid"
         },
         "marker": {
          "symbol": "circle"
         },
         "mode": "lines",
         "name": "Armenia",
         "showlegend": true,
         "type": "scattergl",
         "x": [
          1962,
          1967,
          1972,
          1977,
          1982,
          1987,
          1992,
          1997,
          2002,
          2007
         ],
         "xaxis": "x",
         "y": [
          66.70985365850001,
          68.8304878049,
          70.3673414634,
          70.542902439,
          70.5355121951,
          68.5675609756,
          67.8533414634,
          69.7164146341,
          72.2016097561,
          73.7646585366
         ],
         "yaxis": "y"
        },
        {
         "hovertemplate": "Country Name=Aruba<br>Year=%{x}<br>value=%{y}<extra></extra>",
         "legendgroup": "Aruba",
         "line": {
          "color": "#FF97FF",
          "dash": "solid"
         },
         "marker": {
          "symbol": "circle"
         },
         "mode": "lines",
         "name": "Aruba",
         "showlegend": true,
         "type": "scattergl",
         "x": [
          1962,
          1967,
          1972,
          1977,
          1982,
          1987,
          1992,
          1997,
          2002,
          2007
         ],
         "xaxis": "x",
         "y": [
          66.3655365854,
          68.0346829268,
          69.7986585366,
          71.3777073171,
          72.673195122,
          73.2427073171,
          73.47175609760001,
          73.614804878,
          73.8652439024,
          74.5267560976
         ],
         "yaxis": "y"
        },
        {
         "hovertemplate": "Country Name=Australia<br>Year=%{x}<br>value=%{y}<extra></extra>",
         "legendgroup": "Australia",
         "line": {
          "color": "#FECB52",
          "dash": "solid"
         },
         "marker": {
          "symbol": "circle"
         },
         "mode": "lines",
         "name": "Australia",
         "showlegend": true,
         "type": "scattergl",
         "x": [
          1962,
          1967,
          1972,
          1977,
          1982,
          1987,
          1992,
          1997,
          2002,
          2007
         ],
         "xaxis": "x",
         "y": [
          70.9424390244,
          70.8692682927,
          71.4575609756,
          73.34439024390001,
          74.9048780488,
          76.1517073171,
          77.3780487805,
          78.4804878049,
          79.9365853659,
          81.2926829268
         ],
         "yaxis": "y"
        },
        {
         "hovertemplate": "Country Name=Austria<br>Year=%{x}<br>value=%{y}<extra></extra>",
         "legendgroup": "Austria",
         "line": {
          "color": "#636efa",
          "dash": "solid"
         },
         "marker": {
          "symbol": "circle"
         },
         "mode": "lines",
         "name": "Austria",
         "showlegend": true,
         "type": "scattergl",
         "x": [
          1962,
          1967,
          1972,
          1977,
          1982,
          1987,
          1992,
          1997,
          2002,
          2007
         ],
         "xaxis": "x",
         "y": [
          69.3095121951,
          69.917804878,
          70.4634146341,
          71.9146341463,
          72.9609756098,
          74.7682926829,
          75.8170731707,
          77.3195121951,
          78.6780487805,
          80.1804878049
         ],
         "yaxis": "y"
        },
        {
         "hovertemplate": "Country Name=Azerbaijan<br>Year=%{x}<br>value=%{y}<extra></extra>",
         "legendgroup": "Azerbaijan",
         "line": {
          "color": "#EF553B",
          "dash": "solid"
         },
         "marker": {
          "symbol": "circle"
         },
         "mode": "lines",
         "name": "Azerbaijan",
         "showlegend": true,
         "type": "scattergl",
         "x": [
          1962,
          1967,
          1972,
          1977,
          1982,
          1987,
          1992,
          1997,
          2002,
          2007
         ],
         "xaxis": "x",
         "y": [
          61.6445853659,
          63.6687317073,
          65.1481219512,
          64.95321951220001,
          64.83073170729999,
          65.5259268293,
          64.2072439024,
          65.4623902439,
          67.5610731707,
          69.7565121951
         ],
         "yaxis": "y"
        },
        {
         "hovertemplate": "Country Name=Bahamas, The<br>Year=%{x}<br>value=%{y}<extra></extra>",
         "legendgroup": "Bahamas, The",
         "line": {
          "color": "#00cc96",
          "dash": "solid"
         },
         "marker": {
          "symbol": "circle"
         },
         "mode": "lines",
         "name": "Bahamas, The",
         "showlegend": true,
         "type": "scattergl",
         "x": [
          1962,
          1967,
          1972,
          1977,
          1982,
          1987,
          1992,
          1997,
          2002,
          2007
         ],
         "xaxis": "x",
         "y": [
          63.408024390200005,
          64.98739024390001,
          66.42226829270001,
          67.7281219512,
          68.9296829268,
          70.0427804878,
          70.9296341463,
          71.5498780488,
          72.84126829270001,
          74.0594634146
         ],
         "yaxis": "y"
        },
        {
         "hovertemplate": "Country Name=Bahrain<br>Year=%{x}<br>value=%{y}<extra></extra>",
         "legendgroup": "Bahrain",
         "line": {
          "color": "#ab63fa",
          "dash": "solid"
         },
         "marker": {
          "symbol": "circle"
         },
         "mode": "lines",
         "name": "Bahrain",
         "showlegend": true,
         "type": "scattergl",
         "x": [
          1962,
          1967,
          1972,
          1977,
          1982,
          1987,
          1992,
          1997,
          2002,
          2007
         ],
         "xaxis": "x",
         "y": [
          54.8182682927,
          60.858,
          65.2777073171,
          68.3777804878,
          70.5373658537,
          71.89595121949999,
          72.91473170729999,
          73.99160975609999,
          74.9540731707,
          75.7077560976
         ],
         "yaxis": "y"
        },
        {
         "hovertemplate": "Country Name=Bangladesh<br>Year=%{x}<br>value=%{y}<extra></extra>",
         "legendgroup": "Bangladesh",
         "line": {
          "color": "#FFA15A",
          "dash": "solid"
         },
         "marker": {
          "symbol": "circle"
         },
         "mode": "lines",
         "name": "Bangladesh",
         "showlegend": true,
         "type": "scattergl",
         "x": [
          1962,
          1967,
          1972,
          1977,
          1982,
          1987,
          1992,
          1997,
          2002,
          2007
         ],
         "xaxis": "x",
         "y": [
          47.08397560979999,
          48.83814634149999,
          47.0343170732,
          51.1056829268,
          54.3030731707,
          56.6685853659,
          59.717853658500005,
          63.3578780488,
          66.4781707317,
          68.85997560979999
         ],
         "yaxis": "y"
        },
        {
         "hovertemplate": "Country Name=Barbados<br>Year=%{x}<br>value=%{y}<extra></extra>",
         "legendgroup": "Barbados",
         "line": {
          "color": "#19d3f3",
          "dash": "solid"
         },
         "marker": {
          "symbol": "circle"
         },
         "mode": "lines",
         "name": "Barbados",
         "showlegend": true,
         "type": "scattergl",
         "x": [
          1962,
          1967,
          1972,
          1977,
          1982,
          1987,
          1992,
          1997,
          2002,
          2007
         ],
         "xaxis": "x",
         "y": [
          61.6961707317,
          64.09873170729999,
          66.0440731707,
          67.67714634149999,
          69.1436829268,
          70.4517804878,
          71.6312195122,
          72.6842195122,
          73.5463170732,
          74.3564146341
         ],
         "yaxis": "y"
        },
        {
         "hovertemplate": "Country Name=Belarus<br>Year=%{x}<br>value=%{y}<extra></extra>",
         "legendgroup": "Belarus",
         "line": {
          "color": "#FF6692",
          "dash": "solid"
         },
         "marker": {
          "symbol": "circle"
         },
         "mode": "lines",
         "name": "Belarus",
         "showlegend": true,
         "type": "scattergl",
         "x": [
          1962,
          1967,
          1972,
          1977,
          1982,
          1987,
          1992,
          1997,
          2002,
          2007
         ],
         "xaxis": "x",
         "y": [
          68.6358292683,
          69.8816585366,
          70.0924146341,
          69.9674146341,
          69.9082195122,
          70.9902439024,
          70.0219512195,
          68.4609756098,
          68.056097561,
          70.2034146341
         ],
         "yaxis": "y"
        },
        {
         "hovertemplate": "Country Name=Belgium<br>Year=%{x}<br>value=%{y}<extra></extra>",
         "legendgroup": "Belgium",
         "line": {
          "color": "#B6E880",
          "dash": "solid"
         },
         "marker": {
          "symbol": "circle"
         },
         "mode": "lines",
         "name": "Belgium",
         "showlegend": true,
         "type": "scattergl",
         "x": [
          1962,
          1967,
          1972,
          1977,
          1982,
          1987,
          1992,
          1997,
          2002,
          2007
         ],
         "xaxis": "x",
         "y": [
          70.21951219510001,
          71.0129268293,
          71.4051219512,
          72.773902439,
          73.8880487805,
          75.3658536585,
          76.3512195122,
          77.3707317073,
          78.0756097561,
          79.78292682930001
         ],
         "yaxis": "y"
        },
        {
         "hovertemplate": "Country Name=Belize<br>Year=%{x}<br>value=%{y}<extra></extra>",
         "legendgroup": "Belize",
         "line": {
          "color": "#FF97FF",
          "dash": "solid"
         },
         "marker": {
          "symbol": "circle"
         },
         "mode": "lines",
         "name": "Belize",
         "showlegend": true,
         "type": "scattergl",
         "x": [
          1962,
          1967,
          1972,
          1977,
          1982,
          1987,
          1992,
          1997,
          2002,
          2007
         ],
         "xaxis": "x",
         "y": [
          61.0743414634,
          63.9543902439,
          66.48090243899999,
          68.4781463415,
          70.26426829270001,
          71.4305853659,
          70.7466097561,
          68.9018536585,
          68.5443658537,
          69.452
         ],
         "yaxis": "y"
        },
        {
         "hovertemplate": "Country Name=Benin<br>Year=%{x}<br>value=%{y}<extra></extra>",
         "legendgroup": "Benin",
         "line": {
          "color": "#FECB52",
          "dash": "solid"
         },
         "marker": {
          "symbol": "circle"
         },
         "mode": "lines",
         "name": "Benin",
         "showlegend": true,
         "type": "scattergl",
         "x": [
          1962,
          1967,
          1972,
          1977,
          1982,
          1987,
          1992,
          1997,
          2002,
          2007
         ],
         "xaxis": "x",
         "y": [
          38.1894146341,
          40.6808292683,
          43.479804878,
          46.0100487805,
          48.1503414634,
          51.3690243902,
          54.3270243902,
          54.8423170732,
          55.8143170732,
          57.867390243900005
         ],
         "yaxis": "y"
        },
        {
         "hovertemplate": "Country Name=Bhutan<br>Year=%{x}<br>value=%{y}<extra></extra>",
         "legendgroup": "Bhutan",
         "line": {
          "color": "#636efa",
          "dash": "solid"
         },
         "marker": {
          "symbol": "circle"
         },
         "mode": "lines",
         "name": "Bhutan",
         "showlegend": true,
         "type": "scattergl",
         "x": [
          1962,
          1967,
          1972,
          1977,
          1982,
          1987,
          1992,
          1997,
          2002,
          2007
         ],
         "xaxis": "x",
         "y": [
          33.0941463415,
          35.1070243902,
          38.4714878049,
          42.6008292683,
          46.4472439024,
          50.1337560976,
          54.0405121951,
          58.0352439024,
          62.4358292683,
          66.29309756100001
         ],
         "yaxis": "y"
        },
        {
         "hovertemplate": "Country Name=Bolivia<br>Year=%{x}<br>value=%{y}<extra></extra>",
         "legendgroup": "Bolivia",
         "line": {
          "color": "#EF553B",
          "dash": "solid"
         },
         "marker": {
          "symbol": "circle"
         },
         "mode": "lines",
         "name": "Bolivia",
         "showlegend": true,
         "type": "scattergl",
         "x": [
          1962,
          1967,
          1972,
          1977,
          1982,
          1987,
          1992,
          1997,
          2002,
          2007
         ],
         "xaxis": "x",
         "y": [
          42.7570487805,
          44.504804878,
          46.46321951220001,
          48.618902439,
          50.968097561,
          53.50797560979999,
          56.1982439024,
          58.9886097561,
          61.8288292683,
          64.6941219512
         ],
         "yaxis": "y"
        },
        {
         "hovertemplate": "Country Name=Bosnia and Herzegovina<br>Year=%{x}<br>value=%{y}<extra></extra>",
         "legendgroup": "Bosnia and Herzegovina",
         "line": {
          "color": "#00cc96",
          "dash": "solid"
         },
         "marker": {
          "symbol": "circle"
         },
         "mode": "lines",
         "name": "Bosnia and Herzegovina",
         "showlegend": true,
         "type": "scattergl",
         "x": [
          1962,
          1967,
          1972,
          1977,
          1982,
          1987,
          1992,
          1997,
          2002,
          2007
         ],
         "xaxis": "x",
         "y": [
          61.5679756098,
          64.3972926829,
          67.1751463415,
          69.47292682930001,
          70.6371707317,
          71.46392682930001,
          70.5180487805,
          72.8587317073,
          74.6755853659,
          75.3714878049
         ],
         "yaxis": "y"
        },
        {
         "hovertemplate": "Country Name=Botswana<br>Year=%{x}<br>value=%{y}<extra></extra>",
         "legendgroup": "Botswana",
         "line": {
          "color": "#ab63fa",
          "dash": "solid"
         },
         "marker": {
          "symbol": "circle"
         },
         "mode": "lines",
         "name": "Botswana",
         "showlegend": true,
         "type": "scattergl",
         "x": [
          1962,
          1967,
          1972,
          1977,
          1982,
          1987,
          1992,
          1997,
          2002,
          2007
         ],
         "xaxis": "x",
         "y": [
          51.255024390200006,
          53.0282439024,
          55.61273170729999,
          58.8351219512,
          61.4814390244,
          62.8898292683,
          60.9384878049,
          52.4746097561,
          49.2434146341,
          59.0745609756
         ],
         "yaxis": "y"
        },
        {
         "hovertemplate": "Country Name=Brazil<br>Year=%{x}<br>value=%{y}<extra></extra>",
         "legendgroup": "Brazil",
         "line": {
          "color": "#FFA15A",
          "dash": "solid"
         },
         "marker": {
          "symbol": "circle"
         },
         "mode": "lines",
         "name": "Brazil",
         "showlegend": true,
         "type": "scattergl",
         "x": [
          1962,
          1967,
          1972,
          1977,
          1982,
          1987,
          1992,
          1997,
          2002,
          2007
         ],
         "xaxis": "x",
         "y": [
          55.2356585366,
          57.7579268293,
          59.924804878,
          61.2708292683,
          62.6022439024,
          64.2458292683,
          66.171804878,
          68.6163902439,
          70.8452439024,
          72.4148292683
         ],
         "yaxis": "y"
        },
        {
         "hovertemplate": "Country Name=Brunei Darussalam<br>Year=%{x}<br>value=%{y}<extra></extra>",
         "legendgroup": "Brunei Darussalam",
         "line": {
          "color": "#19d3f3",
          "dash": "solid"
         },
         "marker": {
          "symbol": "circle"
         },
         "mode": "lines",
         "name": "Brunei Darussalam",
         "showlegend": true,
         "type": "scattergl",
         "x": [
          1962,
          1967,
          1972,
          1977,
          1982,
          1987,
          1992,
          1997,
          2002,
          2007
         ],
         "xaxis": "x",
         "y": [
          63.575902439,
          65.81439024390001,
          67.6988536585,
          69.396097561,
          70.9193658537,
          72.2926341463,
          73.5333902439,
          74.6621707317,
          75.6676829268,
          76.6755609756
         ],
         "yaxis": "y"
        },
        {
         "hovertemplate": "Country Name=Bulgaria<br>Year=%{x}<br>value=%{y}<extra></extra>",
         "legendgroup": "Bulgaria",
         "line": {
          "color": "#FF6692",
          "dash": "solid"
         },
         "marker": {
          "symbol": "circle"
         },
         "mode": "lines",
         "name": "Bulgaria",
         "showlegend": true,
         "type": "scattergl",
         "x": [
          1962,
          1967,
          1972,
          1977,
          1982,
          1987,
          1992,
          1997,
          2002,
          2007
         ],
         "xaxis": "x",
         "y": [
          69.4919512195,
          70.413902439,
          70.8995121951,
          70.816097561,
          71.186097561,
          71.5268292683,
          71.4943902439,
          70.3512195122,
          71.8658536585,
          72.6634146341
         ],
         "yaxis": "y"
        },
        {
         "hovertemplate": "Country Name=Burkina Faso<br>Year=%{x}<br>value=%{y}<extra></extra>",
         "legendgroup": "Burkina Faso",
         "line": {
          "color": "#B6E880",
          "dash": "solid"
         },
         "marker": {
          "symbol": "circle"
         },
         "mode": "lines",
         "name": "Burkina Faso",
         "showlegend": true,
         "type": "scattergl",
         "x": [
          1962,
          1967,
          1972,
          1977,
          1982,
          1987,
          1992,
          1997,
          2002,
          2007
         ],
         "xaxis": "x",
         "y": [
          35.4058780488,
          37.7683170732,
          39.9951707317,
          43.1302439024,
          47.7496341463,
          49.47226829270001,
          49.2779512195,
          49.5883414634,
          51.340195122,
          55.188804878
         ],
         "yaxis": "y"
        },
        {
         "hovertemplate": "Country Name=Burundi<br>Year=%{x}<br>value=%{y}<extra></extra>",
         "legendgroup": "Burundi",
         "line": {
          "color": "#FF97FF",
          "dash": "solid"
         },
         "marker": {
          "symbol": "circle"
         },
         "mode": "lines",
         "name": "Burundi",
         "showlegend": true,
         "type": "scattergl",
         "x": [
          1962,
          1967,
          1972,
          1977,
          1982,
          1987,
          1992,
          1997,
          2002,
          2007
         ],
         "xaxis": "x",
         "y": [
          41.8603902439,
          43.280024390200005,
          44.1849512195,
          46.092926829300005,
          47.9385853659,
          48.8244634146,
          47.7017317073,
          50.119853658500006,
          51.9282682927,
          53.4560731707
         ],
         "yaxis": "y"
        },
        {
         "hovertemplate": "Country Name=Cabo Verde<br>Year=%{x}<br>value=%{y}<extra></extra>",
         "legendgroup": "Cabo Verde",
         "line": {
          "color": "#FECB52",
          "dash": "solid"
         },
         "marker": {
          "symbol": "circle"
         },
         "mode": "lines",
         "name": "Cabo Verde",
         "showlegend": true,
         "type": "scattergl",
         "x": [
          1962,
          1967,
          1972,
          1977,
          1982,
          1987,
          1992,
          1997,
          2002,
          2007
         ],
         "xaxis": "x",
         "y": [
          49.3165121951,
          51.9108292683,
          55.0335609756,
          58.4423414634,
          61.8894878049,
          64.4030487805,
          66.3715365854,
          68.5555609756,
          70.44814634149999,
          72.0993658537
         ],
         "yaxis": "y"
        },
        {
         "hovertemplate": "Country Name=Cambodia<br>Year=%{x}<br>value=%{y}<extra></extra>",
         "legendgroup": "Cambodia",
         "line": {
          "color": "#636efa",
          "dash": "solid"
         },
         "marker": {
          "symbol": "circle"
         },
         "mode": "lines",
         "name": "Cambodia",
         "showlegend": true,
         "type": "scattergl",
         "x": [
          1962,
          1967,
          1972,
          1977,
          1982,
          1987,
          1992,
          1997,
          2002,
          2007
         ],
         "xaxis": "x",
         "y": [
          41.5174390244,
          42.4761219512,
          36.7572439024,
          19.2655121951,
          39.1743170732,
          52.47,
          54.1507804878,
          56.14385365850001,
          60.187,
          64.5523414634
         ],
         "yaxis": "y"
        },
        {
         "hovertemplate": "Country Name=Cameroon<br>Year=%{x}<br>value=%{y}<extra></extra>",
         "legendgroup": "Cameroon",
         "line": {
          "color": "#EF553B",
          "dash": "solid"
         },
         "marker": {
          "symbol": "circle"
         },
         "mode": "lines",
         "name": "Cameroon",
         "showlegend": true,
         "type": "scattergl",
         "x": [
          1962,
          1967,
          1972,
          1977,
          1982,
          1987,
          1992,
          1997,
          2002,
          2007
         ],
         "xaxis": "x",
         "y": [
          42.4059512195,
          44.6136341463,
          47.132195122,
          49.7903658537,
          51.9819756098,
          53.2382195122,
          53.6019512195,
          52.726097561,
          51.65526829270001,
          52.4791463415
         ],
         "yaxis": "y"
        },
        {
         "hovertemplate": "Country Name=Canada<br>Year=%{x}<br>value=%{y}<extra></extra>",
         "legendgroup": "Canada",
         "line": {
          "color": "#00cc96",
          "dash": "solid"
         },
         "marker": {
          "symbol": "circle"
         },
         "mode": "lines",
         "name": "Canada",
         "showlegend": true,
         "type": "scattergl",
         "x": [
          1962,
          1967,
          1972,
          1977,
          1982,
          1987,
          1992,
          1997,
          2002,
          2007
         ],
         "xaxis": "x",
         "y": [
          71.3670731707,
          72.207804878,
          72.933902439,
          74.2156097561,
          75.6804878049,
          76.7395121951,
          77.3207317073,
          78.4804878049,
          79.5902439024,
          80.6343902439
         ],
         "yaxis": "y"
        },
        {
         "hovertemplate": "Country Name=Caribbean small states<br>Year=%{x}<br>value=%{y}<extra></extra>",
         "legendgroup": "Caribbean small states",
         "line": {
          "color": "#ab63fa",
          "dash": "solid"
         },
         "marker": {
          "symbol": "circle"
         },
         "mode": "lines",
         "name": "Caribbean small states",
         "showlegend": true,
         "type": "scattergl",
         "x": [
          1962,
          1967,
          1972,
          1977,
          1982,
          1987,
          1992,
          1997,
          2002,
          2007
         ],
         "xaxis": "x",
         "y": [
          63.27171776229999,
          64.9439850692,
          66.2037520317,
          67.5738412614,
          68.7446467113,
          69.3794903249,
          69.7149903064,
          69.9876860661,
          70.5586674373,
          71.53580442229999
         ],
         "yaxis": "y"
        },
        {
         "hovertemplate": "Country Name=Central African Republic<br>Year=%{x}<br>value=%{y}<extra></extra>",
         "legendgroup": "Central African Republic",
         "line": {
          "color": "#FFA15A",
          "dash": "solid"
         },
         "marker": {
          "symbol": "circle"
         },
         "mode": "lines",
         "name": "Central African Republic",
         "showlegend": true,
         "type": "scattergl",
         "x": [
          1962,
          1967,
          1972,
          1977,
          1982,
          1987,
          1992,
          1997,
          2002,
          2007
         ],
         "xaxis": "x",
         "y": [
          37.318780487800005,
          39.8685609756,
          43.508024390200006,
          47.2814146341,
          49.5076585366,
          49.7243902439,
          48.2573658537,
          45.8463658537,
          44.2534146341,
          45.687390243900005
         ],
         "yaxis": "y"
        },
        {
         "hovertemplate": "Country Name=Central Europe and the Baltics<br>Year=%{x}<br>value=%{y}<extra></extra>",
         "legendgroup": "Central Europe and the Baltics",
         "line": {
          "color": "#19d3f3",
          "dash": "solid"
         },
         "marker": {
          "symbol": "circle"
         },
         "mode": "lines",
         "name": "Central Europe and the Baltics",
         "showlegend": true,
         "type": "scattergl",
         "x": [
          1962,
          1967,
          1972,
          1977,
          1982,
          1987,
          1992,
          1997,
          2002,
          2007
         ],
         "xaxis": "x",
         "y": [
          68.0077933168,
          69.2727812946,
          69.9255778038,
          70.2423460462,
          70.4551336661,
          70.611765316,
          70.7323478672,
          71.5175893276,
          73.2439107316,
          74.2523833325
         ],
         "yaxis": "y"
        },
        {
         "hovertemplate": "Country Name=Chad<br>Year=%{x}<br>value=%{y}<extra></extra>",
         "legendgroup": "Chad",
         "line": {
          "color": "#FF6692",
          "dash": "solid"
         },
         "marker": {
          "symbol": "circle"
         },
         "mode": "lines",
         "name": "Chad",
         "showlegend": true,
         "type": "scattergl",
         "x": [
          1962,
          1967,
          1972,
          1977,
          1982,
          1987,
          1992,
          1997,
          2002,
          2007
         ],
         "xaxis": "x",
         "y": [
          38.5288536585,
          40.0111463415,
          42.1994146341,
          43.8605365854,
          45.240804878,
          46.4909512195,
          47.1218536585,
          47.5336097561,
          47.616097561,
          48.5592195122
         ],
         "yaxis": "y"
        },
        {
         "hovertemplate": "Country Name=Channel Islands<br>Year=%{x}<br>value=%{y}<extra></extra>",
         "legendgroup": "Channel Islands",
         "line": {
          "color": "#B6E880",
          "dash": "solid"
         },
         "marker": {
          "symbol": "circle"
         },
         "mode": "lines",
         "name": "Channel Islands",
         "showlegend": true,
         "type": "scattergl",
         "x": [
          1962,
          1967,
          1972,
          1977,
          1982,
          1987,
          1992,
          1997,
          2002,
          2007
         ],
         "xaxis": "x",
         "y": [
          70.830097561,
          71.4218536585,
          71.9380487805,
          72.6852439024,
          73.7959268293,
          74.7818292683,
          75.8496829268,
          76.827,
          78.05578048779999,
          79.41080487800001
         ],
         "yaxis": "y"
        },
        {
         "hovertemplate": "Country Name=Chile<br>Year=%{x}<br>value=%{y}<extra></extra>",
         "legendgroup": "Chile",
         "line": {
          "color": "#FF97FF",
          "dash": "solid"
         },
         "marker": {
          "symbol": "circle"
         },
         "mode": "lines",
         "name": "Chile",
         "showlegend": true,
         "type": "scattergl",
         "x": [
          1962,
          1967,
          1972,
          1977,
          1982,
          1987,
          1992,
          1997,
          2002,
          2007
         ],
         "xaxis": "x",
         "y": [
          58.5153902439,
          61.1753902439,
          63.822902439,
          66.417902439,
          68.9198536585,
          71.3107560976,
          73.5584390244,
          75.6463658537,
          77.5695853659,
          79.3135365854
         ],
         "yaxis": "y"
        },
        {
         "hovertemplate": "Country Name=China<br>Year=%{x}<br>value=%{y}<extra></extra>",
         "legendgroup": "China",
         "line": {
          "color": "#FECB52",
          "dash": "solid"
         },
         "marker": {
          "symbol": "circle"
         },
         "mode": "lines",
         "name": "China",
         "showlegend": true,
         "type": "scattergl",
         "x": [
          1962,
          1967,
          1972,
          1977,
          1982,
          1987,
          1992,
          1997,
          2002,
          2007
         ],
         "xaxis": "x",
         "y": [
          44.3983414634,
          53.429804878,
          60.9593414634,
          64.9365365854,
          67.3077560976,
          68.55943902439999,
          69.3396341463,
          70.5226829268,
          72.6148780488,
          74.3404390244
         ],
         "yaxis": "y"
        },
        {
         "hovertemplate": "Country Name=Colombia<br>Year=%{x}<br>value=%{y}<extra></extra>",
         "legendgroup": "Colombia",
         "line": {
          "color": "#636efa",
          "dash": "solid"
         },
         "marker": {
          "symbol": "circle"
         },
         "mode": "lines",
         "name": "Colombia",
         "showlegend": true,
         "type": "scattergl",
         "x": [
          1962,
          1967,
          1972,
          1977,
          1982,
          1987,
          1992,
          1997,
          2002,
          2007
         ],
         "xaxis": "x",
         "y": [
          57.7392195122,
          59.8402195122,
          61.5607804878,
          63.7582682927,
          66.5200731707,
          67.929195122,
          68.6402195122,
          70.075,
          71.52173170729999,
          72.7055121951
         ],
         "yaxis": "y"
        },
        {
         "hovertemplate": "Country Name=Comoros<br>Year=%{x}<br>value=%{y}<extra></extra>",
         "legendgroup": "Comoros",
         "line": {
          "color": "#EF553B",
          "dash": "solid"
         },
         "marker": {
          "symbol": "circle"
         },
         "mode": "lines",
         "name": "Comoros",
         "showlegend": true,
         "type": "scattergl",
         "x": [
          1962,
          1967,
          1972,
          1977,
          1982,
          1987,
          1992,
          1997,
          2002,
          2007
         ],
         "xaxis": "x",
         "y": [
          42.237756097600005,
          44.271195122,
          46.5475853659,
          48.8452926829,
          51.9031219512,
          55.0093658537,
          57.5993414634,
          59.1355853659,
          59.598926829300005,
          60.7123414634
         ],
         "yaxis": "y"
        },
        {
         "hovertemplate": "Country Name=Congo, Dem. Rep.<br>Year=%{x}<br>value=%{y}<extra></extra>",
         "legendgroup": "Congo, Dem. Rep.",
         "line": {
          "color": "#00cc96",
          "dash": "solid"
         },
         "marker": {
          "symbol": "circle"
         },
         "mode": "lines",
         "name": "Congo, Dem. Rep.",
         "showlegend": true,
         "type": "scattergl",
         "x": [
          1962,
          1967,
          1972,
          1977,
          1982,
          1987,
          1992,
          1997,
          2002,
          2007
         ],
         "xaxis": "x",
         "y": [
          41.4515121951,
          42.7919756098,
          44.476390243900006,
          45.5453658537,
          46.8803658537,
          48.17014634149999,
          49.2614146341,
          49.0244634146,
          51.346804878,
          55.0644146341
         ],
         "yaxis": "y"
        },
        {
         "hovertemplate": "Country Name=Congo, Rep.<br>Year=%{x}<br>value=%{y}<extra></extra>",
         "legendgroup": "Congo, Rep.",
         "line": {
          "color": "#ab63fa",
          "dash": "solid"
         },
         "marker": {
          "symbol": "circle"
         },
         "mode": "lines",
         "name": "Congo, Rep.",
         "showlegend": true,
         "type": "scattergl",
         "x": [
          1962,
          1967,
          1972,
          1977,
          1982,
          1987,
          1992,
          1997,
          2002,
          2007
         ],
         "xaxis": "x",
         "y": [
          49.8439512195,
          52.2982195122,
          53.97,
          55.348902439,
          56.4291707317,
          56.1267073171,
          53.9591219512,
          51.202195122,
          51.1792926829,
          55.8013170732
         ],
         "yaxis": "y"
        },
        {
         "hovertemplate": "Country Name=Costa Rica<br>Year=%{x}<br>value=%{y}<extra></extra>",
         "legendgroup": "Costa Rica",
         "line": {
          "color": "#FFA15A",
          "dash": "solid"
         },
         "marker": {
          "symbol": "circle"
         },
         "mode": "lines",
         "name": "Costa Rica",
         "showlegend": true,
         "type": "scattergl",
         "x": [
          1962,
          1967,
          1972,
          1977,
          1982,
          1987,
          1992,
          1997,
          2002,
          2007
         ],
         "xaxis": "x",
         "y": [
          61.9837804878,
          64.94602439020001,
          67.4893170732,
          70.306,
          73.2233414634,
          75.0353902439,
          76.0202195122,
          76.9224146341,
          77.7094634146,
          78.33031707319999
         ],
         "yaxis": "y"
        },
        {
         "hovertemplate": "Country Name=Cote d'Ivoire<br>Year=%{x}<br>value=%{y}<extra></extra>",
         "legendgroup": "Cote d'Ivoire",
         "line": {
          "color": "#19d3f3",
          "dash": "solid"
         },
         "marker": {
          "symbol": "circle"
         },
         "mode": "lines",
         "name": "Cote d'Ivoire",
         "showlegend": true,
         "type": "scattergl",
         "x": [
          1962,
          1967,
          1972,
          1977,
          1982,
          1987,
          1992,
          1997,
          2002,
          2007
         ],
         "xaxis": "x",
         "y": [
          38.2338292683,
          41.4369512195,
          45.41602439020001,
          49.0616585366,
          51.602902439,
          52.9041707317,
          51.7116097561,
          48.07504878050001,
          46.6955853659,
          48.7788292683
         ],
         "yaxis": "y"
        },
        {
         "hovertemplate": "Country Name=Croatia<br>Year=%{x}<br>value=%{y}<extra></extra>",
         "legendgroup": "Croatia",
         "line": {
          "color": "#FF6692",
          "dash": "solid"
         },
         "marker": {
          "symbol": "circle"
         },
         "mode": "lines",
         "name": "Croatia",
         "showlegend": true,
         "type": "scattergl",
         "x": [
          1962,
          1967,
          1972,
          1977,
          1982,
          1987,
          1992,
          1997,
          2002,
          2007
         ],
         "xaxis": "x",
         "y": [
          65.4082439024,
          67.20873170729999,
          68.7787317073,
          70.7443902439,
          70.48268292680001,
          71.4702439024,
          71.2414634146,
          72.4951219512,
          74.7173170732,
          75.7056097561
         ],
         "yaxis": "y"
        },
        {
         "hovertemplate": "Country Name=Cuba<br>Year=%{x}<br>value=%{y}<extra></extra>",
         "legendgroup": "Cuba",
         "line": {
          "color": "#B6E880",
          "dash": "solid"
         },
         "marker": {
          "symbol": "circle"
         },
         "mode": "lines",
         "name": "Cuba",
         "showlegend": true,
         "type": "scattergl",
         "x": [
          1962,
          1967,
          1972,
          1977,
          1982,
          1987,
          1992,
          1997,
          2002,
          2007
         ],
         "xaxis": "x",
         "y": [
          65.1382195122,
          68.2478536585,
          70.85639024390001,
          72.96626829270001,
          74.2032682927,
          74.6077073171,
          74.8032926829,
          75.9419756098,
          77.1024634146,
          78.44919512199999
         ],
         "yaxis": "y"
        },
        {
         "hovertemplate": "Country Name=Cyprus<br>Year=%{x}<br>value=%{y}<extra></extra>",
         "legendgroup": "Cyprus",
         "line": {
          "color": "#FF97FF",
          "dash": "solid"
         },
         "marker": {
          "symbol": "circle"
         },
         "mode": "lines",
         "name": "Cyprus",
         "showlegend": true,
         "type": "scattergl",
         "x": [
          1962,
          1967,
          1972,
          1977,
          1982,
          1987,
          1992,
          1997,
          2002,
          2007
         ],
         "xaxis": "x",
         "y": [
          70.25124390239999,
          71.73100000000002,
          73.0169756098,
          74.1448780488,
          75.1407560976,
          76.02512195119998,
          76.8263170732,
          77.5610243902,
          78.2239512195,
          78.8685121951
         ],
         "yaxis": "y"
        },
        {
         "hovertemplate": "Country Name=Czech Republic<br>Year=%{x}<br>value=%{y}<extra></extra>",
         "legendgroup": "Czech Republic",
         "line": {
          "color": "#FECB52",
          "dash": "solid"
         },
         "marker": {
          "symbol": "circle"
         },
         "mode": "lines",
         "name": "Czech Republic",
         "showlegend": true,
         "type": "scattergl",
         "x": [
          1962,
          1967,
          1972,
          1977,
          1982,
          1987,
          1992,
          1997,
          2002,
          2007
         ],
         "xaxis": "x",
         "y": [
          69.7868292683,
          70.2641463415,
          70.1765853659,
          70.5734146341,
          70.807804878,
          71.4456097561,
          72.2717073171,
          73.8248780488,
          75.2219512195,
          76.7243902439
         ],
         "yaxis": "y"
        },
        {
         "hovertemplate": "Country Name=Denmark<br>Year=%{x}<br>value=%{y}<extra></extra>",
         "legendgroup": "Denmark",
         "line": {
          "color": "#636efa",
          "dash": "solid"
         },
         "marker": {
          "symbol": "circle"
         },
         "mode": "lines",
         "name": "Denmark",
         "showlegend": true,
         "type": "scattergl",
         "x": [
          1962,
          1967,
          1972,
          1977,
          1982,
          1987,
          1992,
          1997,
          2002,
          2007
         ],
         "xaxis": "x",
         "y": [
          72.3197560976,
          72.922195122,
          73.4390243902,
          74.6324390244,
          74.5512195122,
          74.6912195122,
          75.1941463415,
          75.9451219512,
          76.8951219512,
          78.1951219512
         ],
         "yaxis": "y"
        },
        {
         "hovertemplate": "Country Name=Djibouti<br>Year=%{x}<br>value=%{y}<extra></extra>",
         "legendgroup": "Djibouti",
         "line": {
          "color": "#EF553B",
          "dash": "solid"
         },
         "marker": {
          "symbol": "circle"
         },
         "mode": "lines",
         "name": "Djibouti",
         "showlegend": true,
         "type": "scattergl",
         "x": [
          1962,
          1967,
          1972,
          1977,
          1982,
          1987,
          1992,
          1997,
          2002,
          2007
         ],
         "xaxis": "x",
         "y": [
          44.8744390244,
          47.1816585366,
          50.4154878049,
          52.486902439,
          54.4324146341,
          56.0166585366,
          56.9295853659,
          57.011195122,
          57.2205609756,
          58.8293414634
         ],
         "yaxis": "y"
        },
        {
         "hovertemplate": "Country Name=Dominican Republic<br>Year=%{x}<br>value=%{y}<extra></extra>",
         "legendgroup": "Dominican Republic",
         "line": {
          "color": "#00cc96",
          "dash": "solid"
         },
         "marker": {
          "symbol": "circle"
         },
         "mode": "lines",
         "name": "Dominican Republic",
         "showlegend": true,
         "type": "scattergl",
         "x": [
          1962,
          1967,
          1972,
          1977,
          1982,
          1987,
          1992,
          1997,
          2002,
          2007
         ],
         "xaxis": "x",
         "y": [
          53.2992439024,
          56.695097561,
          59.6392682927,
          61.878902439,
          63.8628292683,
          66.33892682930001,
          68.8371219512,
          70.0917317073,
          71.051804878,
          72.1313170732
         ],
         "yaxis": "y"
        },
        {
         "hovertemplate": "Country Name=Early-demographic dividend<br>Year=%{x}<br>value=%{y}<extra></extra>",
         "legendgroup": "Early-demographic dividend",
         "line": {
          "color": "#ab63fa",
          "dash": "solid"
         },
         "marker": {
          "symbol": "circle"
         },
         "mode": "lines",
         "name": "Early-demographic dividend",
         "showlegend": true,
         "type": "scattergl",
         "x": [
          1962,
          1967,
          1972,
          1977,
          1982,
          1987,
          1992,
          1997,
          2002,
          2007
         ],
         "xaxis": "x",
         "y": [
          46.4260962142,
          49.377464422,
          52.0312007953,
          54.7928954849,
          57.2015263036,
          59.3349278884,
          61.4600390625,
          63.4506085801,
          65.0669116637,
          66.7168411826
         ],
         "yaxis": "y"
        },
        {
         "hovertemplate": "Country Name=East Asia & Pacific<br>Year=%{x}<br>value=%{y}<extra></extra>",
         "legendgroup": "East Asia & Pacific",
         "line": {
          "color": "#FFA15A",
          "dash": "solid"
         },
         "marker": {
          "symbol": "circle"
         },
         "mode": "lines",
         "name": "East Asia & Pacific",
         "showlegend": true,
         "type": "scattergl",
         "x": [
          1962,
          1967,
          1972,
          1977,
          1982,
          1987,
          1992,
          1997,
          2002,
          2007
         ],
         "xaxis": "x",
         "y": [
          49.4229605536,
          55.9678981862,
          61.3656659878,
          64.64400370279999,
          66.8852951867,
          68.3481855328,
          69.28309363390001,
          70.3955113423,
          72.119055382,
          73.5846595367
         ],
         "yaxis": "y"
        },
        {
         "hovertemplate": "Country Name=East Asia & Pacific (IDA & IBRD countries)<br>Year=%{x}<br>value=%{y}<extra></extra>",
         "legendgroup": "East Asia & Pacific (IDA & IBRD countries)",
         "line": {
          "color": "#19d3f3",
          "dash": "solid"
         },
         "marker": {
          "symbol": "circle"
         },
         "mode": "lines",
         "name": "East Asia & Pacific (IDA & IBRD countries)",
         "showlegend": true,
         "type": "scattergl",
         "x": [
          1962,
          1967,
          1972,
          1977,
          1982,
          1987,
          1992,
          1997,
          2002,
          2007
         ],
         "xaxis": "x",
         "y": [
          46.5510630104,
          53.9248729808,
          59.9015502109,
          63.4021574346,
          65.81509176510001,
          67.2766583121,
          68.2436699629,
          69.4197513124,
          71.1907756729,
          72.6919270432
         ],
         "yaxis": "y"
        },
        {
         "hovertemplate": "Country Name=East Asia & Pacific (excluding high income)<br>Year=%{x}<br>value=%{y}<extra></extra>",
         "legendgroup": "East Asia & Pacific (excluding high income)",
         "line": {
          "color": "#FF6692",
          "dash": "solid"
         },
         "marker": {
          "symbol": "circle"
         },
         "mode": "lines",
         "name": "East Asia & Pacific (excluding high income)",
         "showlegend": true,
         "type": "scattergl",
         "x": [
          1962,
          1967,
          1972,
          1977,
          1982,
          1987,
          1992,
          1997,
          2002,
          2007
         ],
         "xaxis": "x",
         "y": [
          46.620071671800005,
          53.9537458509,
          59.9155800793,
          63.4144235122,
          65.8234781883,
          67.2886019603,
          68.2526095873,
          69.3567452792,
          71.1336359149,
          72.6378120561
         ],
         "yaxis": "y"
        },
        {
         "hovertemplate": "Country Name=Ecuador<br>Year=%{x}<br>value=%{y}<extra></extra>",
         "legendgroup": "Ecuador",
         "line": {
          "color": "#B6E880",
          "dash": "solid"
         },
         "marker": {
          "symbol": "circle"
         },
         "mode": "lines",
         "name": "Ecuador",
         "showlegend": true,
         "type": "scattergl",
         "x": [
          1962,
          1967,
          1972,
          1977,
          1982,
          1987,
          1992,
          1997,
          2002,
          2007
         ],
         "xaxis": "x",
         "y": [
          54.3875365854,
          56.5998292683,
          58.6664878049,
          61.346560975600006,
          64.28543902439999,
          67.3340487805,
          69.9635853659,
          71.9643170732,
          73.492,
          74.4950243902
         ],
         "yaxis": "y"
        },
        {
         "hovertemplate": "Country Name=Egypt, Arab Rep.<br>Year=%{x}<br>value=%{y}<extra></extra>",
         "legendgroup": "Egypt, Arab Rep.",
         "line": {
          "color": "#FF97FF",
          "dash": "solid"
         },
         "marker": {
          "symbol": "circle"
         },
         "mode": "lines",
         "name": "Egypt, Arab Rep.",
         "showlegend": true,
         "type": "scattergl",
         "x": [
          1962,
          1967,
          1972,
          1977,
          1982,
          1987,
          1992,
          1997,
          2002,
          2007
         ],
         "xaxis": "x",
         "y": [
          49.1065121951,
          51.2682439024,
          52.8699512195,
          56.2006341463,
          59.6571707317,
          63.0898292683,
          65.3696341463,
          67.6640731707,
          68.9526585366,
          69.78229268289999
         ],
         "yaxis": "y"
        },
        {
         "hovertemplate": "Country Name=El Salvador<br>Year=%{x}<br>value=%{y}<extra></extra>",
         "legendgroup": "El Salvador",
         "line": {
          "color": "#FECB52",
          "dash": "solid"
         },
         "marker": {
          "symbol": "circle"
         },
         "mode": "lines",
         "name": "El Salvador",
         "showlegend": true,
         "type": "scattergl",
         "x": [
          1962,
          1967,
          1972,
          1977,
          1982,
          1987,
          1992,
          1997,
          2002,
          2007
         ],
         "xaxis": "x",
         "y": [
          51.2386829268,
          53.7844390244,
          55.60790243899999,
          56.2367804878,
          57.1975365854,
          61.074,
          65.57797560979999,
          67.8736341463,
          69.2978780488,
          70.7804634146
         ],
         "yaxis": "y"
        },
        {
         "hovertemplate": "Country Name=Equatorial Guinea<br>Year=%{x}<br>value=%{y}<extra></extra>",
         "legendgroup": "Equatorial Guinea",
         "line": {
          "color": "#636efa",
          "dash": "solid"
         },
         "marker": {
          "symbol": "circle"
         },
         "mode": "lines",
         "name": "Equatorial Guinea",
         "showlegend": true,
         "type": "scattergl",
         "x": [
          1962,
          1967,
          1972,
          1977,
          1982,
          1987,
          1992,
          1997,
          2002,
          2007
         ],
         "xaxis": "x",
         "y": [
          37.3324146341,
          38.8320487805,
          40.2827317073,
          41.9421219512,
          45.0393658537,
          47.1167317073,
          49.0414390244,
          51.1395853659,
          52.6863414634,
          54.5163170732
         ],
         "yaxis": "y"
        },
        {
         "hovertemplate": "Country Name=Eritrea<br>Year=%{x}<br>value=%{y}<extra></extra>",
         "legendgroup": "Eritrea",
         "line": {
          "color": "#EF553B",
          "dash": "solid"
         },
         "marker": {
          "symbol": "circle"
         },
         "mode": "lines",
         "name": "Eritrea",
         "showlegend": true,
         "type": "scattergl",
         "x": [
          1962,
          1967,
          1972,
          1977,
          1982,
          1987,
          1992,
          1997,
          2002,
          2007
         ],
         "xaxis": "x",
         "y": [
          37.8515853659,
          39.4134390244,
          41.2488536585,
          42.7081463415,
          43.8226341463,
          46.1518536585,
          49.84004878050001,
          54.0096097561,
          57.1028292683,
          59.6694146341
         ],
         "yaxis": "y"
        },
        {
         "hovertemplate": "Country Name=Estonia<br>Year=%{x}<br>value=%{y}<extra></extra>",
         "legendgroup": "Estonia",
         "line": {
          "color": "#00cc96",
          "dash": "solid"
         },
         "marker": {
          "symbol": "circle"
         },
         "mode": "lines",
         "name": "Estonia",
         "showlegend": true,
         "type": "scattergl",
         "x": [
          1962,
          1967,
          1972,
          1977,
          1982,
          1987,
          1992,
          1997,
          2002,
          2007
         ],
         "xaxis": "x",
         "y": [
          68.7420487805,
          69.8021219512,
          69.83331707319999,
          69.1513658537,
          69.1268292683,
          70.643902439,
          68.8634146341,
          69.8097560976,
          70.9048780488,
          72.8146341463
         ],
         "yaxis": "y"
        },
        {
         "hovertemplate": "Country Name=Ethiopia<br>Year=%{x}<br>value=%{y}<extra></extra>",
         "legendgroup": "Ethiopia",
         "line": {
          "color": "#ab63fa",
          "dash": "solid"
         },
         "marker": {
          "symbol": "circle"
         },
         "mode": "lines",
         "name": "Ethiopia",
         "showlegend": true,
         "type": "scattergl",
         "x": [
          1962,
          1967,
          1972,
          1977,
          1982,
          1987,
          1992,
          1997,
          2002,
          2007
         ],
         "xaxis": "x",
         "y": [
          39.6986585366,
          42.0145365854,
          43.4509268293,
          44.0921463415,
          43.7078780488,
          45.6784146341,
          47.9132439024,
          50.3180487805,
          53.3482439024,
          58.408
         ],
         "yaxis": "y"
        },
        {
         "hovertemplate": "Country Name=Euro area<br>Year=%{x}<br>value=%{y}<extra></extra>",
         "legendgroup": "Euro area",
         "line": {
          "color": "#FFA15A",
          "dash": "solid"
         },
         "marker": {
          "symbol": "circle"
         },
         "mode": "lines",
         "name": "Euro area",
         "showlegend": true,
         "type": "scattergl",
         "x": [
          1962,
          1967,
          1972,
          1977,
          1982,
          1987,
          1992,
          1997,
          2002,
          2007
         ],
         "xaxis": "x",
         "y": [
          69.6028154591,
          70.7356602295,
          71.60383686819999,
          72.7887765259,
          74.1540142186,
          75.3458676897,
          76.3785895418,
          77.579727276,
          78.6843430208,
          80.0997517287
         ],
         "yaxis": "y"
        },
        {
         "hovertemplate": "Country Name=Europe & Central Asia<br>Year=%{x}<br>value=%{y}<extra></extra>",
         "legendgroup": "Europe & Central Asia",
         "line": {
          "color": "#19d3f3",
          "dash": "solid"
         },
         "marker": {
          "symbol": "circle"
         },
         "mode": "lines",
         "name": "Europe & Central Asia",
         "showlegend": true,
         "type": "scattergl",
         "x": [
          1962,
          1967,
          1972,
          1977,
          1982,
          1987,
          1992,
          1997,
          2002,
          2007
         ],
         "xaxis": "x",
         "y": [
          67.4893155838,
          68.648692062,
          69.3493915462,
          69.8916013392,
          70.76184293109999,
          71.8938167613,
          71.9068069971,
          72.584016979,
          73.4002037974,
          74.92140241220001
         ],
         "yaxis": "y"
        },
        {
         "hovertemplate": "Country Name=Europe & Central Asia (IDA & IBRD countries)<br>Year=%{x}<br>value=%{y}<extra></extra>",
         "legendgroup": "Europe & Central Asia (IDA & IBRD countries)",
         "line": {
          "color": "#FF6692",
          "dash": "solid"
         },
         "marker": {
          "symbol": "circle"
         },
         "mode": "lines",
         "name": "Europe & Central Asia (IDA & IBRD countries)",
         "showlegend": true,
         "type": "scattergl",
         "x": [
          1962,
          1967,
          1972,
          1977,
          1982,
          1987,
          1992,
          1997,
          2002,
          2007
         ],
         "xaxis": "x",
         "y": [
          64.62170061350001,
          65.8993598518,
          66.6817776269,
          66.68543105090001,
          67.3523045571,
          68.6396514155,
          67.7266482271,
          67.9892906485,
          68.44103377180001,
          69.9944489801
         ],
         "yaxis": "y"
        },
        {
         "hovertemplate": "Country Name=Europe & Central Asia (excluding high income)<br>Year=%{x}<br>value=%{y}<extra></extra>",
         "legendgroup": "Europe & Central Asia (excluding high income)",
         "line": {
          "color": "#B6E880",
          "dash": "solid"
         },
         "marker": {
          "symbol": "circle"
         },
         "mode": "lines",
         "name": "Europe & Central Asia (excluding high income)",
         "showlegend": true,
         "type": "scattergl",
         "x": [
          1962,
          1967,
          1972,
          1977,
          1982,
          1987,
          1992,
          1997,
          2002,
          2007
         ],
         "xaxis": "x",
         "y": [
          64.3017848226,
          65.4986874442,
          66.23084418260001,
          66.2395333165,
          66.9222642583,
          68.3723310539,
          67.3472083966,
          67.4778412962,
          67.7794803749,
          69.42256412520001
         ],
         "yaxis": "y"
        },
        {
         "hovertemplate": "Country Name=European Union<br>Year=%{x}<br>value=%{y}<extra></extra>",
         "legendgroup": "European Union",
         "line": {
          "color": "#FF97FF",
          "dash": "solid"
         },
         "marker": {
          "symbol": "circle"
         },
         "mode": "lines",
         "name": "European Union",
         "showlegend": true,
         "type": "scattergl",
         "x": [
          1962,
          1967,
          1972,
          1977,
          1982,
          1987,
          1992,
          1997,
          2002,
          2007
         ],
         "xaxis": "x",
         "y": [
          69.5145683758,
          70.6772589772,
          71.4138148303,
          72.4087398139,
          73.4639521621,
          74.3868887215,
          75.2868178407,
          76.35870711140001,
          77.6054820706,
          78.9682102701
         ],
         "yaxis": "y"
        },
        {
         "hovertemplate": "Country Name=Fiji<br>Year=%{x}<br>value=%{y}<extra></extra>",
         "legendgroup": "Fiji",
         "line": {
          "color": "#FECB52",
          "dash": "solid"
         },
         "marker": {
          "symbol": "circle"
         },
         "mode": "lines",
         "name": "Fiji",
         "showlegend": true,
         "type": "scattergl",
         "x": [
          1962,
          1967,
          1972,
          1977,
          1982,
          1987,
          1992,
          1997,
          2002,
          2007
         ],
         "xaxis": "x",
         "y": [
          56.8174634146,
          58.80834146340001,
          60.588024390200005,
          62.1295853659,
          63.5781707317,
          64.8732926829,
          66.0112439024,
          67.0375609756,
          67.967097561,
          68.8434146341
         ],
         "yaxis": "y"
        },
        {
         "hovertemplate": "Country Name=Finland<br>Year=%{x}<br>value=%{y}<extra></extra>",
         "legendgroup": "Finland",
         "line": {
          "color": "#636efa",
          "dash": "solid"
         },
         "marker": {
          "symbol": "circle"
         },
         "mode": "lines",
         "name": "Finland",
         "showlegend": true,
         "type": "scattergl",
         "x": [
          1962,
          1967,
          1972,
          1977,
          1982,
          1987,
          1992,
          1997,
          2002,
          2007
         ],
         "xaxis": "x",
         "y": [
          68.577804878,
          69.6665853659,
          70.7073170732,
          72.3502439024,
          74.2980487805,
          74.5919512195,
          75.4553658537,
          76.8785365854,
          78.1195121951,
          79.2634146341
         ],
         "yaxis": "y"
        },
        {
         "hovertemplate": "Country Name=Fragile and conflict affected situations<br>Year=%{x}<br>value=%{y}<extra></extra>",
         "legendgroup": "Fragile and conflict affected situations",
         "line": {
          "color": "#EF553B",
          "dash": "solid"
         },
         "marker": {
          "symbol": "circle"
         },
         "mode": "lines",
         "name": "Fragile and conflict affected situations",
         "showlegend": true,
         "type": "scattergl",
         "x": [
          1962,
          1967,
          1972,
          1977,
          1982,
          1987,
          1992,
          1997,
          2002,
          2007
         ],
         "xaxis": "x",
         "y": [
          41.9360789226,
          44.9829630405,
          47.75235131220001,
          50.042447126000006,
          52.1514489264,
          54.1385118568,
          55.4713571566,
          56.160551023100005,
          57.2969498875,
          59.20782178140001
         ],
         "yaxis": "y"
        },
        {
         "hovertemplate": "Country Name=France<br>Year=%{x}<br>value=%{y}<extra></extra>",
         "legendgroup": "France",
         "line": {
          "color": "#00cc96",
          "dash": "solid"
         },
         "marker": {
          "symbol": "circle"
         },
         "mode": "lines",
         "name": "France",
         "showlegend": true,
         "type": "scattergl",
         "x": [
          1962,
          1967,
          1972,
          1977,
          1982,
          1987,
          1992,
          1997,
          2002,
          2007
         ],
         "xaxis": "x",
         "y": [
          70.3146341463,
          71.16097560979999,
          72.1073170732,
          73.3512195122,
          74.5,
          75.8,
          77.1,
          78.3048780488,
          79.2609756098,
          81.112195122
         ],
         "yaxis": "y"
        },
        {
         "hovertemplate": "Country Name=French Polynesia<br>Year=%{x}<br>value=%{y}<extra></extra>",
         "legendgroup": "French Polynesia",
         "line": {
          "color": "#ab63fa",
          "dash": "solid"
         },
         "marker": {
          "symbol": "circle"
         },
         "mode": "lines",
         "name": "French Polynesia",
         "showlegend": true,
         "type": "scattergl",
         "x": [
          1962,
          1967,
          1972,
          1977,
          1982,
          1987,
          1992,
          1997,
          2002,
          2007
         ],
         "xaxis": "x",
         "y": [
          57.1706585366,
          59.156804878,
          60.9289268293,
          62.824268292700005,
          66.0093902439,
          68.0499512195,
          69.4403414634,
          71.33904878050001,
          73.1526341463,
          74.8919756098
         ],
         "yaxis": "y"
        },
        {
         "hovertemplate": "Country Name=Gabon<br>Year=%{x}<br>value=%{y}<extra></extra>",
         "legendgroup": "Gabon",
         "line": {
          "color": "#FFA15A",
          "dash": "solid"
         },
         "marker": {
          "symbol": "circle"
         },
         "mode": "lines",
         "name": "Gabon",
         "showlegend": true,
         "type": "scattergl",
         "x": [
          1962,
          1967,
          1972,
          1977,
          1982,
          1987,
          1992,
          1997,
          2002,
          2007
         ],
         "xaxis": "x",
         "y": [
          40.374,
          44.05234146340001,
          48.31073170729999,
          52.44656097560001,
          56.6513902439,
          60.3348536585,
          61.25451219510001,
          60.30302439020001,
          59.002804878,
          60.3927804878
         ],
         "yaxis": "y"
        },
        {
         "hovertemplate": "Country Name=Gambia, The<br>Year=%{x}<br>value=%{y}<extra></extra>",
         "legendgroup": "Gambia, The",
         "line": {
          "color": "#19d3f3",
          "dash": "solid"
         },
         "marker": {
          "symbol": "circle"
         },
         "mode": "lines",
         "name": "Gambia, The",
         "showlegend": true,
         "type": "scattergl",
         "x": [
          1962,
          1967,
          1972,
          1977,
          1982,
          1987,
          1992,
          1997,
          2002,
          2007
         ],
         "xaxis": "x",
         "y": [
          32.661097561,
          35.4432682927,
          39.6137560976,
          43.8886829268,
          47.9222926829,
          51.1184634146,
          52.71143902439999,
          54.2104878049,
          56.5675121951,
          58.5694390244
         ],
         "yaxis": "y"
        },
        {
         "hovertemplate": "Country Name=Georgia<br>Year=%{x}<br>value=%{y}<extra></extra>",
         "legendgroup": "Georgia",
         "line": {
          "color": "#FF6692",
          "dash": "solid"
         },
         "marker": {
          "symbol": "circle"
         },
         "mode": "lines",
         "name": "Georgia",
         "showlegend": true,
         "type": "scattergl",
         "x": [
          1962,
          1967,
          1972,
          1977,
          1982,
          1987,
          1992,
          1997,
          2002,
          2007
         ],
         "xaxis": "x",
         "y": [
          64.2343414634,
          66.1822439024,
          67.7771707317,
          69.1356585366,
          69.4492926829,
          69.9926341463,
          69.9477317073,
          70.71473170729999,
          72.21107317069999,
          73.4210243902
         ],
         "yaxis": "y"
        },
        {
         "hovertemplate": "Country Name=Germany<br>Year=%{x}<br>value=%{y}<extra></extra>",
         "legendgroup": "Germany",
         "line": {
          "color": "#B6E880",
          "dash": "solid"
         },
         "marker": {
          "symbol": "circle"
         },
         "mode": "lines",
         "name": "Germany",
         "showlegend": true,
         "type": "scattergl",
         "x": [
          1962,
          1967,
          1972,
          1977,
          1982,
          1987,
          1992,
          1997,
          2002,
          2007
         ],
         "xaxis": "x",
         "y": [
          69.69251219510001,
          70.3735121951,
          70.867,
          71.8836829268,
          73.2309756098,
          74.5596097561,
          75.8195121951,
          77.0731707317,
          78.2292682927,
          79.53414634149999
         ],
         "yaxis": "y"
        },
        {
         "hovertemplate": "Country Name=Ghana<br>Year=%{x}<br>value=%{y}<extra></extra>",
         "legendgroup": "Ghana",
         "line": {
          "color": "#FF97FF",
          "dash": "solid"
         },
         "marker": {
          "symbol": "circle"
         },
         "mode": "lines",
         "name": "Ghana",
         "showlegend": true,
         "type": "scattergl",
         "x": [
          1962,
          1967,
          1972,
          1977,
          1982,
          1987,
          1992,
          1997,
          2002,
          2007
         ],
         "xaxis": "x",
         "y": [
          46.6825365854,
          48.4552439024,
          49.9122926829,
          51.4098292683,
          52.9104390244,
          55.1373170732,
          57.4367804878,
          57.1642439024,
          57.4204390244,
          59.6358536585
         ],
         "yaxis": "y"
        },
        {
         "hovertemplate": "Country Name=Greece<br>Year=%{x}<br>value=%{y}<extra></extra>",
         "legendgroup": "Greece",
         "line": {
          "color": "#FECB52",
          "dash": "solid"
         },
         "marker": {
          "symbol": "circle"
         },
         "mode": "lines",
         "name": "Greece",
         "showlegend": true,
         "type": "scattergl",
         "x": [
          1962,
          1967,
          1972,
          1977,
          1982,
          1987,
          1992,
          1997,
          2002,
          2007
         ],
         "xaxis": "x",
         "y": [
          68.89226829270001,
          70.0524634146,
          71.535,
          72.7616585366,
          74.2780243902,
          75.6026341463,
          77.3829268293,
          78.1365853659,
          78.6414634146,
          79.4390243902
         ],
         "yaxis": "y"
        },
        {
         "hovertemplate": "Country Name=Grenada<br>Year=%{x}<br>value=%{y}<extra></extra>",
         "legendgroup": "Grenada",
         "line": {
          "color": "#636efa",
          "dash": "solid"
         },
         "marker": {
          "symbol": "circle"
         },
         "mode": "lines",
         "name": "Grenada",
         "showlegend": true,
         "type": "scattergl",
         "x": [
          1962,
          1967,
          1972,
          1977,
          1982,
          1987,
          1992,
          1997,
          2002,
          2007
         ],
         "xaxis": "x",
         "y": [
          60.670097561000006,
          62.58102439020001,
          64.2096585366,
          65.6185609756,
          66.8355853659,
          67.9007317073,
          68.8256097561,
          69.6616341463,
          70.69073170729999,
          71.8447560976
         ],
         "yaxis": "y"
        },
        {
         "hovertemplate": "Country Name=Guam<br>Year=%{x}<br>value=%{y}<extra></extra>",
         "legendgroup": "Guam",
         "line": {
          "color": "#EF553B",
          "dash": "solid"
         },
         "marker": {
          "symbol": "circle"
         },
         "mode": "lines",
         "name": "Guam",
         "showlegend": true,
         "type": "scattergl",
         "x": [
          1962,
          1967,
          1972,
          1977,
          1982,
          1987,
          1992,
          1997,
          2002,
          2007
         ],
         "xaxis": "x",
         "y": [
          62.219195122,
          64.5715853659,
          66.67073170729999,
          68.4544390244,
          69.9755365854,
          71.3200731707,
          72.5400731707,
          74.03399999999998,
          75.7986585366,
          77.3074146341
         ],
         "yaxis": "y"
        },
        {
         "hovertemplate": "Country Name=Guatemala<br>Year=%{x}<br>value=%{y}<extra></extra>",
         "legendgroup": "Guatemala",
         "line": {
          "color": "#00cc96",
          "dash": "solid"
         },
         "marker": {
          "symbol": "circle"
         },
         "mode": "lines",
         "name": "Guatemala",
         "showlegend": true,
         "type": "scattergl",
         "x": [
          1962,
          1967,
          1972,
          1977,
          1982,
          1987,
          1992,
          1997,
          2002,
          2007
         ],
         "xaxis": "x",
         "y": [
          46.6882926829,
          49.8490487805,
          53.4524878049,
          55.9917560976,
          58.0859512195,
          60.63309756100001,
          63.3117560976,
          66.095902439,
          68.6613658537,
          70.1107804878
         ],
         "yaxis": "y"
        },
        {
         "hovertemplate": "Country Name=Guinea<br>Year=%{x}<br>value=%{y}<extra></extra>",
         "legendgroup": "Guinea",
         "line": {
          "color": "#ab63fa",
          "dash": "solid"
         },
         "marker": {
          "symbol": "circle"
         },
         "mode": "lines",
         "name": "Guinea",
         "showlegend": true,
         "type": "scattergl",
         "x": [
          1962,
          1967,
          1972,
          1977,
          1982,
          1987,
          1992,
          1997,
          2002,
          2007
         ],
         "xaxis": "x",
         "y": [
          35.2603902439,
          36.0384390244,
          37.242,
          39.4996341463,
          42.7311707317,
          47.405195122,
          51.004097561,
          51.6093414634,
          51.3724146341,
          53.9994878049
         ],
         "yaxis": "y"
        },
        {
         "hovertemplate": "Country Name=Guinea-Bissau<br>Year=%{x}<br>value=%{y}<extra></extra>",
         "legendgroup": "Guinea-Bissau",
         "line": {
          "color": "#FFA15A",
          "dash": "solid"
         },
         "marker": {
          "symbol": "circle"
         },
         "mode": "lines",
         "name": "Guinea-Bissau",
         "showlegend": true,
         "type": "scattergl",
         "x": [
          1962,
          1967,
          1972,
          1977,
          1982,
          1987,
          1992,
          1997,
          2002,
          2007
         ],
         "xaxis": "x",
         "y": [
          38.4672195122,
          40.3571707317,
          42.2791707317,
          44.273195122,
          46.3297317073,
          48.0301219512,
          49.7517317073,
          50.96209756100001,
          51.7637073171,
          52.8554634146
         ],
         "yaxis": "y"
        },
        {
         "hovertemplate": "Country Name=Guyana<br>Year=%{x}<br>value=%{y}<extra></extra>",
         "legendgroup": "Guyana",
         "line": {
          "color": "#19d3f3",
          "dash": "solid"
         },
         "marker": {
          "symbol": "circle"
         },
         "mode": "lines",
         "name": "Guyana",
         "showlegend": true,
         "type": "scattergl",
         "x": [
          1962,
          1967,
          1972,
          1977,
          1982,
          1987,
          1992,
          1997,
          2002,
          2007
         ],
         "xaxis": "x",
         "y": [
          60.647,
          61.4912926829,
          61.9676829268,
          62.3796097561,
          62.807902439,
          63.2104878049,
          63.7832439024,
          64.53280487800001,
          65.2352926829,
          65.7797560976
         ],
         "yaxis": "y"
        },
        {
         "hovertemplate": "Country Name=Haiti<br>Year=%{x}<br>value=%{y}<extra></extra>",
         "legendgroup": "Haiti",
         "line": {
          "color": "#FF6692",
          "dash": "solid"
         },
         "marker": {
          "symbol": "circle"
         },
         "mode": "lines",
         "name": "Haiti",
         "showlegend": true,
         "type": "scattergl",
         "x": [
          1962,
          1967,
          1972,
          1977,
          1982,
          1987,
          1992,
          1997,
          2002,
          2007
         ],
         "xaxis": "x",
         "y": [
          43.263804878,
          45.9422926829,
          47.9484878049,
          49.8278780488,
          51.5004634146,
          53.4546341463,
          55.2559512195,
          56.892902439,
          58.1993658537,
          59.9773902439
         ],
         "yaxis": "y"
        },
        {
         "hovertemplate": "Country Name=Heavily indebted poor countries (HIPC)<br>Year=%{x}<br>value=%{y}<extra></extra>",
         "legendgroup": "Heavily indebted poor countries (HIPC)",
         "line": {
          "color": "#B6E880",
          "dash": "solid"
         },
         "marker": {
          "symbol": "circle"
         },
         "mode": "lines",
         "name": "Heavily indebted poor countries (HIPC)",
         "showlegend": true,
         "type": "scattergl",
         "x": [
          1962,
          1967,
          1972,
          1977,
          1982,
          1987,
          1992,
          1997,
          2002,
          2007
         ],
         "xaxis": "x",
         "y": [
          40.4194539613,
          42.4436101401,
          44.4897696566,
          46.413814759,
          47.9970946145,
          49.276857416800006,
          49.83686762399999,
          51.0113251511,
          53.0976117395,
          56.5766165423
         ],
         "yaxis": "y"
        },
        {
         "hovertemplate": "Country Name=High income<br>Year=%{x}<br>value=%{y}<extra></extra>",
         "legendgroup": "High income",
         "line": {
          "color": "#FF97FF",
          "dash": "solid"
         },
         "marker": {
          "symbol": "circle"
         },
         "mode": "lines",
         "name": "High income",
         "showlegend": true,
         "type": "scattergl",
         "x": [
          1962,
          1967,
          1972,
          1977,
          1982,
          1987,
          1992,
          1997,
          2002,
          2007
         ],
         "xaxis": "x",
         "y": [
          68.8475229673,
          70.0869181731,
          71.1366673046,
          72.66835090229999,
          73.8463171927,
          74.8793607218,
          75.8309941089,
          76.9745071169,
          78.043419984,
          79.2386203249
         ],
         "yaxis": "y"
        },
        {
         "hovertemplate": "Country Name=Honduras<br>Year=%{x}<br>value=%{y}<extra></extra>",
         "legendgroup": "Honduras",
         "line": {
          "color": "#FECB52",
          "dash": "solid"
         },
         "marker": {
          "symbol": "circle"
         },
         "mode": "lines",
         "name": "Honduras",
         "showlegend": true,
         "type": "scattergl",
         "x": [
          1962,
          1967,
          1972,
          1977,
          1982,
          1987,
          1992,
          1997,
          2002,
          2007
         ],
         "xaxis": "x",
         "y": [
          47.6329512195,
          50.7373902439,
          53.7708292683,
          57.3030487805,
          61.2120731707,
          65.0301463415,
          67.579195122,
          69.6307073171,
          70.9110487805,
          71.8587317073
         ],
         "yaxis": "y"
        },
        {
         "hovertemplate": "Country Name=Hong Kong SAR, China<br>Year=%{x}<br>value=%{y}<extra></extra>",
         "legendgroup": "Hong Kong SAR, China",
         "line": {
          "color": "#636efa",
          "dash": "solid"
         },
         "marker": {
          "symbol": "circle"
         },
         "mode": "lines",
         "name": "Hong Kong SAR, China",
         "showlegend": true,
         "type": "scattergl",
         "x": [
          1962,
          1967,
          1972,
          1977,
          1982,
          1987,
          1992,
          1997,
          2002,
          2007
         ],
         "xaxis": "x",
         "y": [
          68.130097561,
          70.3466097561,
          71.456097561,
          73.3195121951,
          75.4292682927,
          76.8829268293,
          77.6780487805,
          80.1268292683,
          81.4780487805,
          82.3268292683
         ],
         "yaxis": "y"
        },
        {
         "hovertemplate": "Country Name=Hungary<br>Year=%{x}<br>value=%{y}<extra></extra>",
         "legendgroup": "Hungary",
         "line": {
          "color": "#EF553B",
          "dash": "solid"
         },
         "marker": {
          "symbol": "circle"
         },
         "mode": "lines",
         "name": "Hungary",
         "showlegend": true,
         "type": "scattergl",
         "x": [
          1962,
          1967,
          1972,
          1977,
          1982,
          1987,
          1992,
          1997,
          2002,
          2007
         ],
         "xaxis": "x",
         "y": [
          67.8658536585,
          69.4070731707,
          69.6646341463,
          69.84804878050001,
          69.357804878,
          69.6512195122,
          69.1170731707,
          70.7024390244,
          72.3487804878,
          73.1512195122
         ],
         "yaxis": "y"
        },
        {
         "hovertemplate": "Country Name=IBRD only<br>Year=%{x}<br>value=%{y}<extra></extra>",
         "legendgroup": "IBRD only",
         "line": {
          "color": "#00cc96",
          "dash": "solid"
         },
         "marker": {
          "symbol": "circle"
         },
         "mode": "lines",
         "name": "IBRD only",
         "showlegend": true,
         "type": "scattergl",
         "x": [
          1962,
          1967,
          1972,
          1977,
          1982,
          1987,
          1992,
          1997,
          2002,
          2007
         ],
         "xaxis": "x",
         "y": [
          49.40421599890001,
          54.08103714550001,
          58.2119361397,
          60.8970821276,
          62.8299952455,
          64.4405591772,
          65.70625820859999,
          67.14825955020001,
          68.6793721617,
          70.1729440238
         ],
         "yaxis": "y"
        },
        {
         "hovertemplate": "Country Name=IDA & IBRD total<br>Year=%{x}<br>value=%{y}<extra></extra>",
         "legendgroup": "IDA & IBRD total",
         "line": {
          "color": "#ab63fa",
          "dash": "solid"
         },
         "marker": {
          "symbol": "circle"
         },
         "mode": "lines",
         "name": "IDA & IBRD total",
         "showlegend": true,
         "type": "scattergl",
         "x": [
          1962,
          1967,
          1972,
          1977,
          1982,
          1987,
          1992,
          1997,
          2002,
          2007
         ],
         "xaxis": "x",
         "y": [
          48.5301727589,
          52.7525150059,
          56.3268860365,
          58.9028786957,
          60.8476386864,
          62.37540374899999,
          63.4822223225,
          64.7280728969,
          66.1628387547,
          67.75917164170001
         ],
         "yaxis": "y"
        },
        {
         "hovertemplate": "Country Name=IDA blend<br>Year=%{x}<br>value=%{y}<extra></extra>",
         "legendgroup": "IDA blend",
         "line": {
          "color": "#FFA15A",
          "dash": "solid"
         },
         "marker": {
          "symbol": "circle"
         },
         "mode": "lines",
         "name": "IDA blend",
         "showlegend": true,
         "type": "scattergl",
         "x": [
          1962,
          1967,
          1972,
          1977,
          1982,
          1987,
          1992,
          1997,
          2002,
          2007
         ],
         "xaxis": "x",
         "y": [
          48.9768436623,
          51.4254400513,
          52.7029834208,
          55.3758393924,
          57.4036274733,
          58.3800603237,
          58.8710972676,
          59.1563460628,
          59.91131612970001,
          61.2853204195
         ],
         "yaxis": "y"
        },
        {
         "hovertemplate": "Country Name=IDA only<br>Year=%{x}<br>value=%{y}<extra></extra>",
         "legendgroup": "IDA only",
         "line": {
          "color": "#19d3f3",
          "dash": "solid"
         },
         "marker": {
          "symbol": "circle"
         },
         "mode": "lines",
         "name": "IDA only",
         "showlegend": true,
         "type": "scattergl",
         "x": [
          1962,
          1967,
          1972,
          1977,
          1982,
          1987,
          1992,
          1997,
          2002,
          2007
         ],
         "xaxis": "x",
         "y": [
          42.2791710945,
          44.613038086,
          45.9886386889,
          48.1146482686,
          50.6170756462,
          52.486869754,
          53.6796066846,
          55.1204147589,
          57.159276373,
          60.089105590200006
         ],
         "yaxis": "y"
        },
        {
         "hovertemplate": "Country Name=IDA total<br>Year=%{x}<br>value=%{y}<extra></extra>",
         "legendgroup": "IDA total",
         "line": {
          "color": "#FF6692",
          "dash": "solid"
         },
         "marker": {
          "symbol": "circle"
         },
         "mode": "lines",
         "name": "IDA total",
         "showlegend": true,
         "type": "scattergl",
         "x": [
          1962,
          1967,
          1972,
          1977,
          1982,
          1987,
          1992,
          1997,
          2002,
          2007
         ],
         "xaxis": "x",
         "y": [
          44.820662595,
          47.1773711842,
          48.50615726310001,
          50.8480950486,
          53.1734526643,
          54.7059093637,
          55.6185656048,
          56.6059837996,
          58.1577752489,
          60.51656342770001
         ],
         "yaxis": "y"
        },
        {
         "hovertemplate": "Country Name=Iceland<br>Year=%{x}<br>value=%{y}<extra></extra>",
         "legendgroup": "Iceland",
         "line": {
          "color": "#B6E880",
          "dash": "solid"
         },
         "marker": {
          "symbol": "circle"
         },
         "mode": "lines",
         "name": "Iceland",
         "showlegend": true,
         "type": "scattergl",
         "x": [
          1962,
          1967,
          1972,
          1977,
          1982,
          1987,
          1992,
          1997,
          2002,
          2007
         ],
         "xaxis": "x",
         "y": [
          73.7219512195,
          73.7831707317,
          74.4558536585,
          76.3736585366,
          77.037804878,
          77.33902439020001,
          78.76024390239999,
          78.8853658537,
          80.50243902439999,
          81.4536585366
         ],
         "yaxis": "y"
        },
        {
         "hovertemplate": "Country Name=India<br>Year=%{x}<br>value=%{y}<extra></extra>",
         "legendgroup": "India",
         "line": {
          "color": "#FF97FF",
          "dash": "solid"
         },
         "marker": {
          "symbol": "circle"
         },
         "mode": "lines",
         "name": "India",
         "showlegend": true,
         "type": "scattergl",
         "x": [
          1962,
          1967,
          1972,
          1977,
          1982,
          1987,
          1992,
          1997,
          2002,
          2007
         ],
         "xaxis": "x",
         "y": [
          42.4174146341,
          45.6909268293,
          49.08697560979999,
          52.2846341463,
          54.7446097561,
          56.6184390244,
          58.9450731707,
          61.3695609756,
          63.399195122,
          65.30043902439999
         ],
         "yaxis": "y"
        },
        {
         "hovertemplate": "Country Name=Indonesia<br>Year=%{x}<br>value=%{y}<extra></extra>",
         "legendgroup": "Indonesia",
         "line": {
          "color": "#FECB52",
          "dash": "solid"
         },
         "marker": {
          "symbol": "circle"
         },
         "mode": "lines",
         "name": "Indonesia",
         "showlegend": true,
         "type": "scattergl",
         "x": [
          1962,
          1967,
          1972,
          1977,
          1982,
          1987,
          1992,
          1997,
          2002,
          2007
         ],
         "xaxis": "x",
         "y": [
          49.885804878,
          52.8168536585,
          55.64914634149999,
          58.225,
          60.4394634146,
          62.2214390244,
          63.9742682927,
          65.5821707317,
          66.60824390239999,
          67.5677317073
         ],
         "yaxis": "y"
        },
        {
         "hovertemplate": "Country Name=Iran, Islamic Rep.<br>Year=%{x}<br>value=%{y}<extra></extra>",
         "legendgroup": "Iran, Islamic Rep.",
         "line": {
          "color": "#636efa",
          "dash": "solid"
         },
         "marker": {
          "symbol": "circle"
         },
         "mode": "lines",
         "name": "Iran, Islamic Rep.",
         "showlegend": true,
         "type": "scattergl",
         "x": [
          1962,
          1967,
          1972,
          1977,
          1982,
          1987,
          1992,
          1997,
          2002,
          2007
         ],
         "xaxis": "x",
         "y": [
          46.065804878,
          48.8927073171,
          52.5444634146,
          55.8964146341,
          53.899097561000005,
          59.0503170732,
          66.2035121951,
          69.0763170732,
          70.89843902439999,
          72.674195122
         ],
         "yaxis": "y"
        },
        {
         "hovertemplate": "Country Name=Iraq<br>Year=%{x}<br>value=%{y}<extra></extra>",
         "legendgroup": "Iraq",
         "line": {
          "color": "#EF553B",
          "dash": "solid"
         },
         "marker": {
          "symbol": "circle"
         },
         "mode": "lines",
         "name": "Iraq",
         "showlegend": true,
         "type": "scattergl",
         "x": [
          1962,
          1967,
          1972,
          1977,
          1982,
          1987,
          1992,
          1997,
          2002,
          2007
         ],
         "xaxis": "x",
         "y": [
          50.4183658537,
          55.848804878,
          59.441024390200006,
          61.275390243900006,
          60.052,
          63.7006341463,
          67.304902439,
          68.99704878050001,
          68.9420243902,
          68.19902439020001
         ],
         "yaxis": "y"
        },
        {
         "hovertemplate": "Country Name=Ireland<br>Year=%{x}<br>value=%{y}<extra></extra>",
         "legendgroup": "Ireland",
         "line": {
          "color": "#00cc96",
          "dash": "solid"
         },
         "marker": {
          "symbol": "circle"
         },
         "mode": "lines",
         "name": "Ireland",
         "showlegend": true,
         "type": "scattergl",
         "x": [
          1962,
          1967,
          1972,
          1977,
          1982,
          1987,
          1992,
          1997,
          2002,
          2007
         ],
         "xaxis": "x",
         "y": [
          70.0879756098,
          70.7435121951,
          71.1745853659,
          71.9000487805,
          73.0037804878,
          74.0633170732,
          75.1362439024,
          75.9853658537,
          77.6341463415,
          79.6414634146
         ],
         "yaxis": "y"
        },
        {
         "hovertemplate": "Country Name=Israel<br>Year=%{x}<br>value=%{y}<extra></extra>",
         "legendgroup": "Israel",
         "line": {
          "color": "#ab63fa",
          "dash": "solid"
         },
         "marker": {
          "symbol": "circle"
         },
         "mode": "lines",
         "name": "Israel",
         "showlegend": true,
         "type": "scattergl",
         "x": [
          1962,
          1967,
          1972,
          1977,
          1982,
          1987,
          1992,
          1997,
          2002,
          2007
         ],
         "xaxis": "x",
         "y": [
          72.112195122,
          71.5097560976,
          71.0780487805,
          72.9585365854,
          74.1097560976,
          75.2585365854,
          76.5048780488,
          78,
          79.4512195122,
          80.5048780488
         ],
         "yaxis": "y"
        },
        {
         "hovertemplate": "Country Name=Italy<br>Year=%{x}<br>value=%{y}<extra></extra>",
         "legendgroup": "Italy",
         "line": {
          "color": "#FFA15A",
          "dash": "solid"
         },
         "marker": {
          "symbol": "circle"
         },
         "mode": "lines",
         "name": "Italy",
         "showlegend": true,
         "type": "scattergl",
         "x": [
          1962,
          1967,
          1972,
          1977,
          1982,
          1987,
          1992,
          1997,
          2002,
          2007
         ],
         "xaxis": "x",
         "y": [
          69.1497560976,
          70.9565853659,
          72.07536585369998,
          73.3646341463,
          74.8146341463,
          76.21951219510001,
          77.4195121951,
          78.8243902439,
          80.2292682927,
          81.4341463415
         ],
         "yaxis": "y"
        },
        {
         "hovertemplate": "Country Name=Jamaica<br>Year=%{x}<br>value=%{y}<extra></extra>",
         "legendgroup": "Jamaica",
         "line": {
          "color": "#19d3f3",
          "dash": "solid"
         },
         "marker": {
          "symbol": "circle"
         },
         "mode": "lines",
         "name": "Jamaica",
         "showlegend": true,
         "type": "scattergl",
         "x": [
          1962,
          1967,
          1972,
          1977,
          1982,
          1987,
          1992,
          1997,
          2002,
          2007
         ],
         "xaxis": "x",
         "y": [
          65.3966341463,
          67.3824146341,
          68.8392682927,
          70.515097561,
          71.8661219512,
          72.1153658537,
          71.9627317073,
          72.0157073171,
          72.67502439020001,
          74.0092926829
         ],
         "yaxis": "y"
        },
        {
         "hovertemplate": "Country Name=Japan<br>Year=%{x}<br>value=%{y}<extra></extra>",
         "legendgroup": "Japan",
         "line": {
          "color": "#FF6692",
          "dash": "solid"
         },
         "marker": {
          "symbol": "circle"
         },
         "mode": "lines",
         "name": "Japan",
         "showlegend": true,
         "type": "scattergl",
         "x": [
          1962,
          1967,
          1972,
          1977,
          1982,
          1987,
          1992,
          1997,
          2002,
          2007
         ],
         "xaxis": "x",
         "y": [
          68.5948780488,
          71.2765853659,
          73.50658536590001,
          75.8982926829,
          76.9229268293,
          78.4836585366,
          79.15390243899999,
          80.42414634149999,
          81.5634146341,
          82.5070731707
         ],
         "yaxis": "y"
        },
        {
         "hovertemplate": "Country Name=Jordan<br>Year=%{x}<br>value=%{y}<extra></extra>",
         "legendgroup": "Jordan",
         "line": {
          "color": "#B6E880",
          "dash": "solid"
         },
         "marker": {
          "symbol": "circle"
         },
         "mode": "lines",
         "name": "Jordan",
         "showlegend": true,
         "type": "scattergl",
         "x": [
          1962,
          1967,
          1972,
          1977,
          1982,
          1987,
          1992,
          1997,
          2002,
          2007
         ],
         "xaxis": "x",
         "y": [
          54.2513170732,
          58.04397560979999,
          61.5610731707,
          64.6935853659,
          67.1247560976,
          69.0497073171,
          70.3722682927,
          71.2635609756,
          72.1324878049,
          72.9611707317
         ],
         "yaxis": "y"
        },
        {
         "hovertemplate": "Country Name=Kazakhstan<br>Year=%{x}<br>value=%{y}<extra></extra>",
         "legendgroup": "Kazakhstan",
         "line": {
          "color": "#FF97FF",
          "dash": "solid"
         },
         "marker": {
          "symbol": "circle"
         },
         "mode": "lines",
         "name": "Kazakhstan",
         "showlegend": true,
         "type": "scattergl",
         "x": [
          1962,
          1967,
          1972,
          1977,
          1982,
          1987,
          1992,
          1997,
          2002,
          2007
         ],
         "xaxis": "x",
         "y": [
          59.1990731707,
          61.2394878049,
          62.8249512195,
          63.9405853659,
          66.787804878,
          69.2902439024,
          67.7317073171,
          64.4634146341,
          65.9682926829,
          66.5048780488
         ],
         "yaxis": "y"
        },
        {
         "hovertemplate": "Country Name=Kenya<br>Year=%{x}<br>value=%{y}<extra></extra>",
         "legendgroup": "Kenya",
         "line": {
          "color": "#FECB52",
          "dash": "solid"
         },
         "marker": {
          "symbol": "circle"
         },
         "mode": "lines",
         "name": "Kenya",
         "showlegend": true,
         "type": "scattergl",
         "x": [
          1962,
          1967,
          1972,
          1977,
          1982,
          1987,
          1992,
          1997,
          2002,
          2007
         ],
         "xaxis": "x",
         "y": [
          47.6522439024,
          50.5327317073,
          53.3773658537,
          56.133804878,
          58.7997560976,
          59.5984146341,
          57.4735365854,
          52.4375365854,
          51.1596585366,
          55.6992926829
         ],
         "yaxis": "y"
        },
        {
         "hovertemplate": "Country Name=Kiribati<br>Year=%{x}<br>value=%{y}<extra></extra>",
         "legendgroup": "Kiribati",
         "line": {
          "color": "#636efa",
          "dash": "solid"
         },
         "marker": {
          "symbol": "circle"
         },
         "mode": "lines",
         "name": "Kiribati",
         "showlegend": true,
         "type": "scattergl",
         "x": [
          1962,
          1967,
          1972,
          1977,
          1982,
          1987,
          1992,
          1997,
          2002,
          2007
         ],
         "xaxis": "x",
         "y": [
          50.2742926829,
          52.8146585366,
          55.250804878,
          56.5280731707,
          57.2337804878,
          58.9026097561,
          61.2997317073,
          63.1446097561,
          64.3644146341,
          64.98075609760001
         ],
         "yaxis": "y"
        },
        {
         "hovertemplate": "Country Name=Korea, Dem. People�s Rep.<br>Year=%{x}<br>value=%{y}<extra></extra>",
         "legendgroup": "Korea, Dem. People�s Rep.",
         "line": {
          "color": "#EF553B",
          "dash": "solid"
         },
         "marker": {
          "symbol": "circle"
         },
         "mode": "lines",
         "name": "Korea, Dem. People�s Rep.",
         "showlegend": true,
         "type": "scattergl",
         "x": [
          1962,
          1967,
          1972,
          1977,
          1982,
          1987,
          1992,
          1997,
          2002,
          2007
         ],
         "xaxis": "x",
         "y": [
          51.8253170732,
          56.1737073171,
          60.98590243899999,
          64.3519756098,
          66.47302439020001,
          68.218804878,
          68.9517073171,
          64.4419512195,
          66.6482926829,
          68.376195122
         ],
         "yaxis": "y"
        },
        {
         "hovertemplate": "Country Name=Korea, Rep.<br>Year=%{x}<br>value=%{y}<extra></extra>",
         "legendgroup": "Korea, Rep.",
         "line": {
          "color": "#00cc96",
          "dash": "solid"
         },
         "marker": {
          "symbol": "circle"
         },
         "mode": "lines",
         "name": "Korea, Rep.",
         "showlegend": true,
         "type": "scattergl",
         "x": [
          1962,
          1967,
          1972,
          1977,
          1982,
          1987,
          1992,
          1997,
          2002,
          2007
         ],
         "xaxis": "x",
         "y": [
          54.484097561000006,
          58.530024390200005,
          62.8414634146,
          64.6475609756,
          66.78414634149999,
          69.80926829270001,
          72.20048780489999,
          74.247804878,
          76.83902439020001,
          79.3495121951
         ],
         "yaxis": "y"
        },
        {
         "hovertemplate": "Country Name=Kuwait<br>Year=%{x}<br>value=%{y}<extra></extra>",
         "legendgroup": "Kuwait",
         "line": {
          "color": "#ab63fa",
          "dash": "solid"
         },
         "marker": {
          "symbol": "circle"
         },
         "mode": "lines",
         "name": "Kuwait",
         "showlegend": true,
         "type": "scattergl",
         "x": [
          1962,
          1967,
          1972,
          1977,
          1982,
          1987,
          1992,
          1997,
          2002,
          2007
         ],
         "xaxis": "x",
         "y": [
          61.8484878049,
          64.7998292683,
          67.01078048779999,
          68.75831707319999,
          70.3831463415,
          71.727804878,
          72.5569512195,
          73.0750243902,
          73.4531219512,
          73.81
         ],
         "yaxis": "y"
        },
        {
         "hovertemplate": "Country Name=Kyrgyz Republic<br>Year=%{x}<br>value=%{y}<extra></extra>",
         "legendgroup": "Kyrgyz Republic",
         "line": {
          "color": "#FFA15A",
          "dash": "solid"
         },
         "marker": {
          "symbol": "circle"
         },
         "mode": "lines",
         "name": "Kyrgyz Republic",
         "showlegend": true,
         "type": "scattergl",
         "x": [
          1962,
          1967,
          1972,
          1977,
          1982,
          1987,
          1992,
          1997,
          2002,
          2007
         ],
         "xaxis": "x",
         "y": [
          57.0026585366,
          59.1463170732,
          60.8354146341,
          62.0400731707,
          63.6588780488,
          65.611195122,
          68.1024390244,
          66.8926829268,
          68.15609756100001,
          67.8951219512
         ],
         "yaxis": "y"
        },
        {
         "hovertemplate": "Country Name=Lao PDR<br>Year=%{x}<br>value=%{y}<extra></extra>",
         "legendgroup": "Lao PDR",
         "line": {
          "color": "#19d3f3",
          "dash": "solid"
         },
         "marker": {
          "symbol": "circle"
         },
         "mode": "lines",
         "name": "Lao PDR",
         "showlegend": true,
         "type": "scattergl",
         "x": [
          1962,
          1967,
          1972,
          1977,
          1982,
          1987,
          1992,
          1997,
          2002,
          2007
         ],
         "xaxis": "x",
         "y": [
          43.8086585366,
          45.3168780488,
          46.8466585366,
          48.208390243900006,
          49.7042926829,
          52.0284390244,
          54.55643902439999,
          57.2034390244,
          60.0218292683,
          62.827268292700005
         ],
         "yaxis": "y"
        },
        {
         "hovertemplate": "Country Name=Late-demographic dividend<br>Year=%{x}<br>value=%{y}<extra></extra>",
         "legendgroup": "Late-demographic dividend",
         "line": {
          "color": "#FF6692",
          "dash": "solid"
         },
         "marker": {
          "symbol": "circle"
         },
         "mode": "lines",
         "name": "Late-demographic dividend",
         "showlegend": true,
         "type": "scattergl",
         "x": [
          1962,
          1967,
          1972,
          1977,
          1982,
          1987,
          1992,
          1997,
          2002,
          2007
         ],
         "xaxis": "x",
         "y": [
          51.1719374019,
          57.1534964088,
          62.0857678583,
          64.9932223393,
          67.0197493644,
          68.38914941899999,
          69.0162785777,
          70.09172347020001,
          71.7966233997,
          73.472904211
         ],
         "yaxis": "y"
        },
        {
         "hovertemplate": "Country Name=Latin America & Caribbean<br>Year=%{x}<br>value=%{y}<extra></extra>",
         "legendgroup": "Latin America & Caribbean",
         "line": {
          "color": "#B6E880",
          "dash": "solid"
         },
         "marker": {
          "symbol": "circle"
         },
         "mode": "lines",
         "name": "Latin America & Caribbean",
         "showlegend": true,
         "type": "scattergl",
         "x": [
          1962,
          1967,
          1972,
          1977,
          1982,
          1987,
          1992,
          1997,
          2002,
          2007
         ],
         "xaxis": "x",
         "y": [
          57.0000828818,
          59.1463381821,
          61.2635661264,
          63.1768646774,
          65.0041191727,
          66.7389088825,
          68.4792243587,
          70.4188086921,
          72.12885602819999,
          73.3790228456
         ],
         "yaxis": "y"
        },
        {
         "hovertemplate": "Country Name=Latin America & Caribbean (excluding high income)<br>Year=%{x}<br>value=%{y}<extra></extra>",
         "legendgroup": "Latin America & Caribbean (excluding high income)",
         "line": {
          "color": "#FF97FF",
          "dash": "solid"
         },
         "marker": {
          "symbol": "circle"
         },
         "mode": "lines",
         "name": "Latin America & Caribbean (excluding high income)",
         "showlegend": true,
         "type": "scattergl",
         "x": [
          1962,
          1967,
          1972,
          1977,
          1982,
          1987,
          1992,
          1997,
          2002,
          2007
         ],
         "xaxis": "x",
         "y": [
          56.632426295600006,
          58.8150089694,
          60.9656096511,
          62.8926350722,
          64.7332792157,
          66.4787283972,
          68.2402060652,
          70.2019023912,
          71.9092484629,
          73.1580129361
         ],
         "yaxis": "y"
        },
        {
         "hovertemplate": "Country Name=Latin America & the Caribbean (IDA & IBRD countries)<br>Year=%{x}<br>value=%{y}<extra></extra>",
         "legendgroup": "Latin America & the Caribbean (IDA & IBRD countries)",
         "line": {
          "color": "#FECB52",
          "dash": "solid"
         },
         "marker": {
          "symbol": "circle"
         },
         "mode": "lines",
         "name": "Latin America & the Caribbean (IDA & IBRD countries)",
         "showlegend": true,
         "type": "scattergl",
         "x": [
          1962,
          1967,
          1972,
          1977,
          1982,
          1987,
          1992,
          1997,
          2002,
          2007
         ],
         "xaxis": "x",
         "y": [
          56.5819938145,
          58.7219320118,
          60.8477331891,
          62.7823422036,
          64.6666424961,
          66.4677436632,
          68.27725191409999,
          70.25687152489999,
          71.9788798401,
          73.2400064382
         ],
         "yaxis": "y"
        },
        {
         "hovertemplate": "Country Name=Latvia<br>Year=%{x}<br>value=%{y}<extra></extra>",
         "legendgroup": "Latvia",
         "line": {
          "color": "#636efa",
          "dash": "solid"
         },
         "marker": {
          "symbol": "circle"
         },
         "mode": "lines",
         "name": "Latvia",
         "showlegend": true,
         "type": "scattergl",
         "x": [
          1962,
          1967,
          1972,
          1977,
          1982,
          1987,
          1992,
          1997,
          2002,
          2007
         ],
         "xaxis": "x",
         "y": [
          69.4304878049,
          70.393902439,
          69.8787804878,
          69.1046341463,
          69.3282926829,
          70.6929268293,
          68.396097561,
          69.3492682927,
          70.9609756098,
          71.0195121951
         ],
         "yaxis": "y"
        },
        {
         "hovertemplate": "Country Name=Least developed countries: UN classification<br>Year=%{x}<br>value=%{y}<extra></extra>",
         "legendgroup": "Least developed countries: UN classification",
         "line": {
          "color": "#EF553B",
          "dash": "solid"
         },
         "marker": {
          "symbol": "circle"
         },
         "mode": "lines",
         "name": "Least developed countries: UN classification",
         "showlegend": true,
         "type": "scattergl",
         "x": [
          1962,
          1967,
          1972,
          1977,
          1982,
          1987,
          1992,
          1997,
          2002,
          2007
         ],
         "xaxis": "x",
         "y": [
          41.1928855841,
          43.4623211567,
          44.6507274601,
          46.6590093394,
          49.0618786243,
          50.902994720600006,
          52.2293334498,
          54.201109386400006,
          56.63537535800001,
          59.6277315593
         ],
         "yaxis": "y"
        },
        {
         "hovertemplate": "Country Name=Lebanon<br>Year=%{x}<br>value=%{y}<extra></extra>",
         "legendgroup": "Lebanon",
         "line": {
          "color": "#00cc96",
          "dash": "solid"
         },
         "marker": {
          "symbol": "circle"
         },
         "mode": "lines",
         "name": "Lebanon",
         "showlegend": true,
         "type": "scattergl",
         "x": [
          1962,
          1967,
          1972,
          1977,
          1982,
          1987,
          1992,
          1997,
          2002,
          2007
         ],
         "xaxis": "x",
         "y": [
          63.8804146341,
          65.2625365854,
          66.5798536585,
          67.5213902439,
          68.2827073171,
          69.3905121951,
          70.87678048779999,
          72.9838780488,
          75.4146585366,
          77.615902439
         ],
         "yaxis": "y"
        },
        {
         "hovertemplate": "Country Name=Lesotho<br>Year=%{x}<br>value=%{y}<extra></extra>",
         "legendgroup": "Lesotho",
         "line": {
          "color": "#ab63fa",
          "dash": "solid"
         },
         "marker": {
          "symbol": "circle"
         },
         "mode": "lines",
         "name": "Lesotho",
         "showlegend": true,
         "type": "scattergl",
         "x": [
          1962,
          1967,
          1972,
          1977,
          1982,
          1987,
          1992,
          1997,
          2002,
          2007
         ],
         "xaxis": "x",
         "y": [
          47.4022439024,
          48.3998292683,
          49.5040243902,
          51.8474878049,
          54.804682926800005,
          57.4076585366,
          59.5776585366,
          53.1267560976,
          44.5434878049,
          44.8822195122
         ],
         "yaxis": "y"
        },
        {
         "hovertemplate": "Country Name=Liberia<br>Year=%{x}<br>value=%{y}<extra></extra>",
         "legendgroup": "Liberia",
         "line": {
          "color": "#FFA15A",
          "dash": "solid"
         },
         "marker": {
          "symbol": "circle"
         },
         "mode": "lines",
         "name": "Liberia",
         "showlegend": true,
         "type": "scattergl",
         "x": [
          1962,
          1967,
          1972,
          1977,
          1982,
          1987,
          1992,
          1997,
          2002,
          2007
         ],
         "xaxis": "x",
         "y": [
          35.3541219512,
          37.6238780488,
          40.5661463415,
          44.1902682927,
          46.8000731707,
          47.282902439,
          47.8514878049,
          51.6333170732,
          52.810804878,
          57.191195122
         ],
         "yaxis": "y"
        },
        {
         "hovertemplate": "Country Name=Libya<br>Year=%{x}<br>value=%{y}<extra></extra>",
         "legendgroup": "Libya",
         "line": {
          "color": "#19d3f3",
          "dash": "solid"
         },
         "marker": {
          "symbol": "circle"
         },
         "mode": "lines",
         "name": "Libya",
         "showlegend": true,
         "type": "scattergl",
         "x": [
          1962,
          1967,
          1972,
          1977,
          1982,
          1987,
          1992,
          1997,
          2002,
          2007
         ],
         "xaxis": "x",
         "y": [
          45.871195122,
          52.8311463415,
          58.073195122,
          62.2480243902,
          65.4105609756,
          67.5243902439,
          69.2750731707,
          70.2275121951,
          70.8855365854,
          71.7386341463
         ],
         "yaxis": "y"
        },
        {
         "hovertemplate": "Country Name=Lithuania<br>Year=%{x}<br>value=%{y}<extra></extra>",
         "legendgroup": "Lithuania",
         "line": {
          "color": "#FF6692",
          "dash": "solid"
         },
         "marker": {
          "symbol": "circle"
         },
         "mode": "lines",
         "name": "Lithuania",
         "showlegend": true,
         "type": "scattergl",
         "x": [
          1962,
          1967,
          1972,
          1977,
          1982,
          1987,
          1992,
          1997,
          2002,
          2007
         ],
         "xaxis": "x",
         "y": [
          69.0953658537,
          71.603902439,
          71.0246341463,
          70.8095121951,
          70.8368292683,
          71.9346341463,
          70.23439024390001,
          70.9090243902,
          71.7609756098,
          70.9
         ],
         "yaxis": "y"
        },
        {
         "hovertemplate": "Country Name=Low & middle income<br>Year=%{x}<br>value=%{y}<extra></extra>",
         "legendgroup": "Low & middle income",
         "line": {
          "color": "#B6E880",
          "dash": "solid"
         },
         "marker": {
          "symbol": "circle"
         },
         "mode": "lines",
         "name": "Low & middle income",
         "showlegend": true,
         "type": "scattergl",
         "x": [
          1962,
          1967,
          1972,
          1977,
          1982,
          1987,
          1992,
          1997,
          2002,
          2007
         ],
         "xaxis": "x",
         "y": [
          48.2624022762,
          52.541864115,
          56.1761356658,
          58.7979803559,
          60.7613257435,
          62.3073202684,
          63.42506123890001,
          64.6438609328,
          66.08191059859999,
          67.68854263829999
         ],
         "yaxis": "y"
        },
        {
         "hovertemplate": "Country Name=Low income<br>Year=%{x}<br>value=%{y}<extra></extra>",
         "legendgroup": "Low income",
         "line": {
          "color": "#FF97FF",
          "dash": "solid"
         },
         "marker": {
          "symbol": "circle"
         },
         "mode": "lines",
         "name": "Low income",
         "showlegend": true,
         "type": "scattergl",
         "x": [
          1962,
          1967,
          1972,
          1977,
          1982,
          1987,
          1992,
          1997,
          2002,
          2007
         ],
         "xaxis": "x",
         "y": [
          39.8777345906,
          42.0513114145,
          44.3037289518,
          46.3069111721,
          47.9722364279,
          49.426245798,
          49.9971189687,
          50.9496452559,
          53.2284489319,
          56.8013307781
         ],
         "yaxis": "y"
        },
        {
         "hovertemplate": "Country Name=Lower middle income<br>Year=%{x}<br>value=%{y}<extra></extra>",
         "legendgroup": "Lower middle income",
         "line": {
          "color": "#FECB52",
          "dash": "solid"
         },
         "marker": {
          "symbol": "circle"
         },
         "mode": "lines",
         "name": "Lower middle income",
         "showlegend": true,
         "type": "scattergl",
         "x": [
          1962,
          1967,
          1972,
          1977,
          1982,
          1987,
          1992,
          1997,
          2002,
          2007
         ],
         "xaxis": "x",
         "y": [
          46.7459146339,
          49.5422754654,
          51.8240829169,
          54.4612541928,
          56.79810758,
          58.57767380560001,
          60.2867686123,
          61.8982663674,
          63.4402712048,
          65.05949547590001
         ],
         "yaxis": "y"
        },
        {
         "hovertemplate": "Country Name=Luxembourg<br>Year=%{x}<br>value=%{y}<extra></extra>",
         "legendgroup": "Luxembourg",
         "line": {
          "color": "#636efa",
          "dash": "solid"
         },
         "marker": {
          "symbol": "circle"
         },
         "mode": "lines",
         "name": "Luxembourg",
         "showlegend": true,
         "type": "scattergl",
         "x": [
          1962,
          1967,
          1972,
          1977,
          1982,
          1987,
          1992,
          1997,
          2002,
          2007
         ],
         "xaxis": "x",
         "y": [
          68.9981219512,
          69.7613414634,
          70.20531707319999,
          71.2562926829,
          72.6534634146,
          74.1937560976,
          75.7707317073,
          76.8804878049,
          77.96585365850001,
          79.3829268293
         ],
         "yaxis": "y"
        },
        {
         "hovertemplate": "Country Name=Macao SAR, China<br>Year=%{x}<br>value=%{y}<extra></extra>",
         "legendgroup": "Macao SAR, China",
         "line": {
          "color": "#EF553B",
          "dash": "solid"
         },
         "marker": {
          "symbol": "circle"
         },
         "mode": "lines",
         "name": "Macao SAR, China",
         "showlegend": true,
         "type": "scattergl",
         "x": [
          1962,
          1967,
          1972,
          1977,
          1982,
          1987,
          1992,
          1997,
          2002,
          2007
         ],
         "xaxis": "x",
         "y": [
          65.6157804878,
          67.8111219512,
          69.7598292683,
          71.509,
          73.0781219512,
          74.4906341463,
          75.7796097561,
          76.9627560976,
          78.04197560979999,
          79.0562439024
         ],
         "yaxis": "y"
        },
        {
         "hovertemplate": "Country Name=Macedonia, FYR<br>Year=%{x}<br>value=%{y}<extra></extra>",
         "legendgroup": "Macedonia, FYR",
         "line": {
          "color": "#00cc96",
          "dash": "solid"
         },
         "marker": {
          "symbol": "circle"
         },
         "mode": "lines",
         "name": "Macedonia, FYR",
         "showlegend": true,
         "type": "scattergl",
         "x": [
          1962,
          1967,
          1972,
          1977,
          1982,
          1987,
          1992,
          1997,
          2002,
          2007
         ],
         "xaxis": "x",
         "y": [
          61.8604634146,
          64.7639756098,
          67.1256829268,
          68.3636341463,
          68.944,
          70.4129512195,
          71.49473170729999,
          72.5291463415,
          73.6473414634,
          74.3229512195
         ],
         "yaxis": "y"
        },
        {
         "hovertemplate": "Country Name=Madagascar<br>Year=%{x}<br>value=%{y}<extra></extra>",
         "legendgroup": "Madagascar",
         "line": {
          "color": "#ab63fa",
          "dash": "solid"
         },
         "marker": {
          "symbol": "circle"
         },
         "mode": "lines",
         "name": "Madagascar",
         "showlegend": true,
         "type": "scattergl",
         "x": [
          1962,
          1967,
          1972,
          1977,
          1982,
          1987,
          1992,
          1997,
          2002,
          2007
         ],
         "xaxis": "x",
         "y": [
          40.937804878,
          43.32392682930001,
          45.74673170729999,
          47.9496097561,
          49.46563414630001,
          49.9432682927,
          52.2801219512,
          56.23351219510001,
          59.6991707317,
          62.053
         ],
         "yaxis": "y"
        },
        {
         "hovertemplate": "Country Name=Malawi<br>Year=%{x}<br>value=%{y}<extra></extra>",
         "legendgroup": "Malawi",
         "line": {
          "color": "#FFA15A",
          "dash": "solid"
         },
         "marker": {
          "symbol": "circle"
         },
         "mode": "lines",
         "name": "Malawi",
         "showlegend": true,
         "type": "scattergl",
         "x": [
          1962,
          1967,
          1972,
          1977,
          1982,
          1987,
          1992,
          1997,
          2002,
          2007
         ],
         "xaxis": "x",
         "y": [
          38.2141707317,
          39.3712195122,
          41.4276585366,
          43.611,
          45.1598292683,
          44.5645853659,
          43.4606585366,
          43.642804878,
          45.0491219512,
          51.5124878049
         ],
         "yaxis": "y"
        },
        {
         "hovertemplate": "Country Name=Malaysia<br>Year=%{x}<br>value=%{y}<extra></extra>",
         "legendgroup": "Malaysia",
         "line": {
          "color": "#19d3f3",
          "dash": "solid"
         },
         "marker": {
          "symbol": "circle"
         },
         "mode": "lines",
         "name": "Malaysia",
         "showlegend": true,
         "type": "scattergl",
         "x": [
          1962,
          1967,
          1972,
          1977,
          1982,
          1987,
          1992,
          1997,
          2002,
          2007
         ],
         "xaxis": "x",
         "y": [
          60.6166829268,
          63.1446585366,
          65.2752195122,
          67.0960731707,
          68.6594634146,
          70.0253902439,
          71.2142926829,
          72.2791219512,
          73.2038292683,
          73.81826829270001
         ],
         "yaxis": "y"
        },
        {
         "hovertemplate": "Country Name=Maldives<br>Year=%{x}<br>value=%{y}<extra></extra>",
         "legendgroup": "Maldives",
         "line": {
          "color": "#FF6692",
          "dash": "solid"
         },
         "marker": {
          "symbol": "circle"
         },
         "mode": "lines",
         "name": "Maldives",
         "showlegend": true,
         "type": "scattergl",
         "x": [
          1962,
          1967,
          1972,
          1977,
          1982,
          1987,
          1992,
          1997,
          2002,
          2007
         ],
         "xaxis": "x",
         "y": [
          38.4835609756,
          41.9146829268,
          45.7361463415,
          50.1271219512,
          54.8977317073,
          58.9744390244,
          63.0932926829,
          67.2780487805,
          71.929195122,
          75.3997073171
         ],
         "yaxis": "y"
        },
        {
         "hovertemplate": "Country Name=Mali<br>Year=%{x}<br>value=%{y}<extra></extra>",
         "legendgroup": "Mali",
         "line": {
          "color": "#B6E880",
          "dash": "solid"
         },
         "marker": {
          "symbol": "circle"
         },
         "mode": "lines",
         "name": "Mali",
         "showlegend": true,
         "type": "scattergl",
         "x": [
          1962,
          1967,
          1972,
          1977,
          1982,
          1987,
          1992,
          1997,
          2002,
          2007
         ],
         "xaxis": "x",
         "y": [
          28.5484634146,
          30.5056341463,
          33.785,
          37.3587073171,
          41.1770243902,
          44.8531707317,
          47.1234634146,
          47.9664634146,
          50.0963658537,
          54.2619268293
         ],
         "yaxis": "y"
        },
        {
         "hovertemplate": "Country Name=Malta<br>Year=%{x}<br>value=%{y}<extra></extra>",
         "legendgroup": "Malta",
         "line": {
          "color": "#FF97FF",
          "dash": "solid"
         },
         "marker": {
          "symbol": "circle"
         },
         "mode": "lines",
         "name": "Malta",
         "showlegend": true,
         "type": "scattergl",
         "x": [
          1962,
          1967,
          1972,
          1977,
          1982,
          1987,
          1992,
          1997,
          2002,
          2007
         ],
         "xaxis": "x",
         "y": [
          68.2047804878,
          69.6402195122,
          70.9626097561,
          72.213195122,
          73.3987560976,
          74.5244634146,
          75.8334146341,
          77.5902439024,
          78.7390243902,
          79.7926829268
         ],
         "yaxis": "y"
        },
        {
         "hovertemplate": "Country Name=Mauritania<br>Year=%{x}<br>value=%{y}<extra></extra>",
         "legendgroup": "Mauritania",
         "line": {
          "color": "#FECB52",
          "dash": "solid"
         },
         "marker": {
          "symbol": "circle"
         },
         "mode": "lines",
         "name": "Mauritania",
         "showlegend": true,
         "type": "scattergl",
         "x": [
          1962,
          1967,
          1972,
          1977,
          1982,
          1987,
          1992,
          1997,
          2002,
          2007
         ],
         "xaxis": "x",
         "y": [
          44.8252195122,
          47.6731707317,
          50.0237073171,
          52.4819268293,
          55.4070487805,
          57.5724634146,
          58.7860487805,
          59.702268292700005,
          60.2044390244,
          61.1397317073
         ],
         "yaxis": "y"
        },
        {
         "hovertemplate": "Country Name=Mauritius<br>Year=%{x}<br>value=%{y}<extra></extra>",
         "legendgroup": "Mauritius",
         "line": {
          "color": "#636efa",
          "dash": "solid"
         },
         "marker": {
          "symbol": "circle"
         },
         "mode": "lines",
         "name": "Mauritius",
         "showlegend": true,
         "type": "scattergl",
         "x": [
          1962,
          1967,
          1972,
          1977,
          1982,
          1987,
          1992,
          1997,
          2002,
          2007
         ],
         "xaxis": "x",
         "y": [
          60.626902439,
          62.8153170732,
          63.4399512195,
          65.3724390244,
          67.7653658537,
          68.6555121951,
          70.0585365854,
          70.4048780488,
          71.96585365850001,
          72.5707317073
         ],
         "yaxis": "y"
        },
        {
         "hovertemplate": "Country Name=Mexico<br>Year=%{x}<br>value=%{y}<extra></extra>",
         "legendgroup": "Mexico",
         "line": {
          "color": "#EF553B",
          "dash": "solid"
         },
         "marker": {
          "symbol": "circle"
         },
         "mode": "lines",
         "name": "Mexico",
         "showlegend": true,
         "type": "scattergl",
         "x": [
          1962,
          1967,
          1972,
          1977,
          1982,
          1987,
          1992,
          1997,
          2002,
          2007
         ],
         "xaxis": "x",
         "y": [
          58.1802439024,
          60.1515365854,
          62.3176585366,
          65.0128292683,
          67.4959268293,
          69.6074146341,
          71.5858292683,
          73.4371463415,
          74.7447073171,
          75.5879268293
         ],
         "yaxis": "y"
        },
        {
         "hovertemplate": "Country Name=Micronesia, Fed. Sts.<br>Year=%{x}<br>value=%{y}<extra></extra>",
         "legendgroup": "Micronesia, Fed. Sts.",
         "line": {
          "color": "#00cc96",
          "dash": "solid"
         },
         "marker": {
          "symbol": "circle"
         },
         "mode": "lines",
         "name": "Micronesia, Fed. Sts.",
         "showlegend": true,
         "type": "scattergl",
         "x": [
          1962,
          1967,
          1972,
          1977,
          1982,
          1987,
          1992,
          1997,
          2002,
          2007
         ],
         "xaxis": "x",
         "y": [
          58.3835853659,
          60.3875853659,
          62.5205853659,
          64.5675853659,
          65.3735853659,
          65.8585853659,
          66.4226585366,
          66.9716097561,
          67.50373170729999,
          68.2204878049
         ],
         "yaxis": "y"
        },
        {
         "hovertemplate": "Country Name=Middle East & North Africa<br>Year=%{x}<br>value=%{y}<extra></extra>",
         "legendgroup": "Middle East & North Africa",
         "line": {
          "color": "#ab63fa",
          "dash": "solid"
         },
         "marker": {
          "symbol": "circle"
         },
         "mode": "lines",
         "name": "Middle East & North Africa",
         "showlegend": true,
         "type": "scattergl",
         "x": [
          1962,
          1967,
          1972,
          1977,
          1982,
          1987,
          1992,
          1997,
          2002,
          2007
         ],
         "xaxis": "x",
         "y": [
          48.388503440600005,
          51.2692400406,
          54.1608552337,
          57.505485478100006,
          59.7904546457,
          63.5099753262,
          66.83972403050001,
          68.8588266884,
          70.2554210705,
          71.4108904527
         ],
         "yaxis": "y"
        },
        {
         "hovertemplate": "Country Name=Middle East & North Africa (IDA & IBRD countries)<br>Year=%{x}<br>value=%{y}<extra></extra>",
         "legendgroup": "Middle East & North Africa (IDA & IBRD countries)",
         "line": {
          "color": "#FFA15A",
          "dash": "solid"
         },
         "marker": {
          "symbol": "circle"
         },
         "mode": "lines",
         "name": "Middle East & North Africa (IDA & IBRD countries)",
         "showlegend": true,
         "type": "scattergl",
         "x": [
          1962,
          1967,
          1972,
          1977,
          1982,
          1987,
          1992,
          1997,
          2002,
          2007
         ],
         "xaxis": "x",
         "y": [
          47.8249881021,
          50.72109581260001,
          53.56504601140001,
          56.7945772825,
          58.9248255711,
          62.7587669038,
          66.273255802,
          68.2885266548,
          69.6860582558,
          70.8462057183
         ],
         "yaxis": "y"
        },
        {
         "hovertemplate": "Country Name=Middle East & North Africa (excluding high income)<br>Year=%{x}<br>value=%{y}<extra></extra>",
         "legendgroup": "Middle East & North Africa (excluding high income)",
         "line": {
          "color": "#19d3f3",
          "dash": "solid"
         },
         "marker": {
          "symbol": "circle"
         },
         "mode": "lines",
         "name": "Middle East & North Africa (excluding high income)",
         "showlegend": true,
         "type": "scattergl",
         "x": [
          1962,
          1967,
          1972,
          1977,
          1982,
          1987,
          1992,
          1997,
          2002,
          2007
         ],
         "xaxis": "x",
         "y": [
          47.8249881021,
          50.72109581260001,
          53.56504601140001,
          56.7945772825,
          58.9248255711,
          62.7587669038,
          66.2955240318,
          68.307560147,
          69.7008129579,
          70.8562142383
         ],
         "yaxis": "y"
        },
        {
         "hovertemplate": "Country Name=Middle income<br>Year=%{x}<br>value=%{y}<extra></extra>",
         "legendgroup": "Middle income",
         "line": {
          "color": "#FF6692",
          "dash": "solid"
         },
         "marker": {
          "symbol": "circle"
         },
         "mode": "lines",
         "name": "Middle income",
         "showlegend": true,
         "type": "scattergl",
         "x": [
          1962,
          1967,
          1972,
          1977,
          1982,
          1987,
          1992,
          1997,
          2002,
          2007
         ],
         "xaxis": "x",
         "y": [
          48.8837077798,
          53.319363709,
          57.0633049632,
          59.7494739214,
          61.754779318100006,
          63.331740053500006,
          64.5428068012,
          65.8535068161,
          67.2961557134,
          68.7989256332
         ],
         "yaxis": "y"
        },
        {
         "hovertemplate": "Country Name=Moldova<br>Year=%{x}<br>value=%{y}<extra></extra>",
         "legendgroup": "Moldova",
         "line": {
          "color": "#B6E880",
          "dash": "solid"
         },
         "marker": {
          "symbol": "circle"
         },
         "mode": "lines",
         "name": "Moldova",
         "showlegend": true,
         "type": "scattergl",
         "x": [
          1962,
          1967,
          1972,
          1977,
          1982,
          1987,
          1992,
          1997,
          2002,
          2007
         ],
         "xaxis": "x",
         "y": [
          62.544195122,
          64.24397560979999,
          64.9507073171,
          64.89239024390001,
          65.0208292683,
          66.97121951220001,
          67.2454146341,
          66.595097561,
          67.2363902439,
          68.20990243899999
         ],
         "yaxis": "y"
        },
        {
         "hovertemplate": "Country Name=Mongolia<br>Year=%{x}<br>value=%{y}<extra></extra>",
         "legendgroup": "Mongolia",
         "line": {
          "color": "#FF97FF",
          "dash": "solid"
         },
         "marker": {
          "symbol": "circle"
         },
         "mode": "lines",
         "name": "Mongolia",
         "showlegend": true,
         "type": "scattergl",
         "x": [
          1962,
          1967,
          1972,
          1977,
          1982,
          1987,
          1992,
          1997,
          2002,
          2007
         ],
         "xaxis": "x",
         "y": [
          50.1600487805,
          53.6805121951,
          56.175097561,
          56.8464146341,
          57.2856829268,
          59.2575853659,
          60.6723658537,
          61.7364634146,
          63.8418292683,
          66.06817073170001
         ],
         "yaxis": "y"
        },
        {
         "hovertemplate": "Country Name=Montenegro<br>Year=%{x}<br>value=%{y}<extra></extra>",
         "legendgroup": "Montenegro",
         "line": {
          "color": "#FECB52",
          "dash": "solid"
         },
         "marker": {
          "symbol": "circle"
         },
         "mode": "lines",
         "name": "Montenegro",
         "showlegend": true,
         "type": "scattergl",
         "x": [
          1962,
          1967,
          1972,
          1977,
          1982,
          1987,
          1992,
          1997,
          2002,
          2007
         ],
         "xaxis": "x",
         "y": [
          65.061902439,
          68.012195122,
          70.75841463409999,
          72.2639756098,
          73.2557073171,
          74.0068780488,
          74.5006585366,
          73.5490487805,
          73.2390487805,
          74.04063414630002
         ],
         "yaxis": "y"
        },
        {
         "hovertemplate": "Country Name=Morocco<br>Year=%{x}<br>value=%{y}<extra></extra>",
         "legendgroup": "Morocco",
         "line": {
          "color": "#636efa",
          "dash": "solid"
         },
         "marker": {
          "symbol": "circle"
         },
         "mode": "lines",
         "name": "Morocco",
         "showlegend": true,
         "type": "scattergl",
         "x": [
          1962,
          1967,
          1972,
          1977,
          1982,
          1987,
          1992,
          1997,
          2002,
          2007
         ],
         "xaxis": "x",
         "y": [
          49.2875853659,
          51.3813902439,
          53.2667317073,
          55.4781707317,
          59.09173170729999,
          62.8266829268,
          65.67231707319999,
          67.471195122,
          69.2564146341,
          71.2776341463
         ],
         "yaxis": "y"
        },
        {
         "hovertemplate": "Country Name=Mozambique<br>Year=%{x}<br>value=%{y}<extra></extra>",
         "legendgroup": "Mozambique",
         "line": {
          "color": "#EF553B",
          "dash": "solid"
         },
         "marker": {
          "symbol": "circle"
         },
         "mode": "lines",
         "name": "Mozambique",
         "showlegend": true,
         "type": "scattergl",
         "x": [
          1962,
          1967,
          1972,
          1977,
          1982,
          1987,
          1992,
          1997,
          2002,
          2007
         ],
         "xaxis": "x",
         "y": [
          35.9122682927,
          37.9536585366,
          40.1811707317,
          41.9605609756,
          41.6616829268,
          42.2098780488,
          44.0285609756,
          47.1902926829,
          49.4360731707,
          51.622097561
         ],
         "yaxis": "y"
        },
        {
         "hovertemplate": "Country Name=Myanmar<br>Year=%{x}<br>value=%{y}<extra></extra>",
         "legendgroup": "Myanmar",
         "line": {
          "color": "#00cc96",
          "dash": "solid"
         },
         "marker": {
          "symbol": "circle"
         },
         "mode": "lines",
         "name": "Myanmar",
         "showlegend": true,
         "type": "scattergl",
         "x": [
          1962,
          1967,
          1972,
          1977,
          1982,
          1987,
          1992,
          1997,
          2002,
          2007
         ],
         "xaxis": "x",
         "y": [
          44.1513658537,
          48.9163658537,
          51.793853658500005,
          53.7384390244,
          55.723268292700006,
          57.6061707317,
          59.3963170732,
          61.079902439,
          62.7073170732,
          64.0936829268
         ],
         "yaxis": "y"
        },
        {
         "hovertemplate": "Country Name=Namibia<br>Year=%{x}<br>value=%{y}<extra></extra>",
         "legendgroup": "Namibia",
         "line": {
          "color": "#ab63fa",
          "dash": "solid"
         },
         "marker": {
          "symbol": "circle"
         },
         "mode": "lines",
         "name": "Namibia",
         "showlegend": true,
         "type": "scattergl",
         "x": [
          1962,
          1967,
          1972,
          1977,
          1982,
          1987,
          1992,
          1997,
          2002,
          2007
         ],
         "xaxis": "x",
         "y": [
          48.101097561,
          50.90873170729999,
          53.6031219512,
          56.2146829268,
          58.6024634146,
          60.54151219510001,
          61.19,
          58.3749268293,
          54.105097561,
          58.78080487800001
         ],
         "yaxis": "y"
        },
        {
         "hovertemplate": "Country Name=Nepal<br>Year=%{x}<br>value=%{y}<extra></extra>",
         "legendgroup": "Nepal",
         "line": {
          "color": "#FFA15A",
          "dash": "solid"
         },
         "marker": {
          "symbol": "circle"
         },
         "mode": "lines",
         "name": "Nepal",
         "showlegend": true,
         "type": "scattergl",
         "x": [
          1962,
          1967,
          1972,
          1977,
          1982,
          1987,
          1992,
          1997,
          2002,
          2007
         ],
         "xaxis": "x",
         "y": [
          35.9522926829,
          38.695,
          41.6628780488,
          44.5783902439,
          47.9021707317,
          51.6782195122,
          55.9244878049,
          60.0716829268,
          63.686804878,
          66.5519268293
         ],
         "yaxis": "y"
        },
        {
         "hovertemplate": "Country Name=Netherlands<br>Year=%{x}<br>value=%{y}<extra></extra>",
         "legendgroup": "Netherlands",
         "line": {
          "color": "#19d3f3",
          "dash": "solid"
         },
         "marker": {
          "symbol": "circle"
         },
         "mode": "lines",
         "name": "Netherlands",
         "showlegend": true,
         "type": "scattergl",
         "x": [
          1962,
          1967,
          1972,
          1977,
          1982,
          1987,
          1992,
          1997,
          2002,
          2007
         ],
         "xaxis": "x",
         "y": [
          73.323902439,
          73.8041463415,
          73.7270731707,
          75.2214634146,
          75.9885365854,
          76.7051219512,
          77.21707317069999,
          77.7943902439,
          78.2926829268,
          80.0975609756
         ],
         "yaxis": "y"
        },
        {
         "hovertemplate": "Country Name=New Caledonia<br>Year=%{x}<br>value=%{y}<extra></extra>",
         "legendgroup": "New Caledonia",
         "line": {
          "color": "#FF6692",
          "dash": "solid"
         },
         "marker": {
          "symbol": "circle"
         },
         "mode": "lines",
         "name": "New Caledonia",
         "showlegend": true,
         "type": "scattergl",
         "x": [
          1962,
          1967,
          1972,
          1977,
          1982,
          1987,
          1992,
          1997,
          2002,
          2007
         ],
         "xaxis": "x",
         "y": [
          59.4390243902,
          61.6829268293,
          63.9268292683,
          66.17073170729999,
          66.9195121951,
          69.4268292683,
          71.6146341463,
          71.7390243902,
          75.1024390244,
          75.9463414634
         ],
         "yaxis": "y"
        },
        {
         "hovertemplate": "Country Name=New Zealand<br>Year=%{x}<br>value=%{y}<extra></extra>",
         "legendgroup": "New Zealand",
         "line": {
          "color": "#B6E880",
          "dash": "solid"
         },
         "marker": {
          "symbol": "circle"
         },
         "mode": "lines",
         "name": "New Zealand",
         "showlegend": true,
         "type": "scattergl",
         "x": [
          1962,
          1967,
          1972,
          1977,
          1982,
          1987,
          1992,
          1997,
          2002,
          2007
         ],
         "xaxis": "x",
         "y": [
          71.2317073171,
          71.4731707317,
          71.82926829270001,
          72.1682926829,
          73.7243902439,
          74.1780487805,
          76.12439024390001,
          77.3341463415,
          78.8463414634,
          80.1512195122
         ],
         "yaxis": "y"
        },
        {
         "hovertemplate": "Country Name=Nicaragua<br>Year=%{x}<br>value=%{y}<extra></extra>",
         "legendgroup": "Nicaragua",
         "line": {
          "color": "#FF97FF",
          "dash": "solid"
         },
         "marker": {
          "symbol": "circle"
         },
         "mode": "lines",
         "name": "Nicaragua",
         "showlegend": true,
         "type": "scattergl",
         "x": [
          1962,
          1967,
          1972,
          1977,
          1982,
          1987,
          1992,
          1997,
          2002,
          2007
         ],
         "xaxis": "x",
         "y": [
          48.2958780488,
          51.6195365854,
          54.8991707317,
          57.37,
          59.2665609756,
          61.9100731707,
          65.5914146341,
          68.274097561,
          70.5858780488,
          72.5716585366
         ],
         "yaxis": "y"
        },
        {
         "hovertemplate": "Country Name=Niger<br>Year=%{x}<br>value=%{y}<extra></extra>",
         "legendgroup": "Niger",
         "line": {
          "color": "#FECB52",
          "dash": "solid"
         },
         "marker": {
          "symbol": "circle"
         },
         "mode": "lines",
         "name": "Niger",
         "showlegend": true,
         "type": "scattergl",
         "x": [
          1962,
          1967,
          1972,
          1977,
          1982,
          1987,
          1992,
          1997,
          2002,
          2007
         ],
         "xaxis": "x",
         "y": [
          35.6654634146,
          35.964341463400004,
          36.583,
          37.9834878049,
          40.4064146341,
          42.526195122,
          45.1238292683,
          48.5592195122,
          52.0213902439,
          55.4550243902
         ],
         "yaxis": "y"
        },
        {
         "hovertemplate": "Country Name=Nigeria<br>Year=%{x}<br>value=%{y}<extra></extra>",
         "legendgroup": "Nigeria",
         "line": {
          "color": "#636efa",
          "dash": "solid"
         },
         "marker": {
          "symbol": "circle"
         },
         "mode": "lines",
         "name": "Nigeria",
         "showlegend": true,
         "type": "scattergl",
         "x": [
          1962,
          1967,
          1972,
          1977,
          1982,
          1987,
          1992,
          1997,
          2002,
          2007
         ],
         "xaxis": "x",
         "y": [
          38.0790731707,
          40.0188536585,
          42.0384634146,
          44.3169268293,
          46.0835121951,
          46.2636585366,
          46.0749512195,
          46.2245121951,
          47.21973170729999,
          49.8081463415
         ],
         "yaxis": "y"
        },
        {
         "hovertemplate": "Country Name=North America<br>Year=%{x}<br>value=%{y}<extra></extra>",
         "legendgroup": "North America",
         "line": {
          "color": "#EF553B",
          "dash": "solid"
         },
         "marker": {
          "symbol": "circle"
         },
         "mode": "lines",
         "name": "North America",
         "showlegend": true,
         "type": "scattergl",
         "x": [
          1962,
          1967,
          1972,
          1977,
          1982,
          1987,
          1992,
          1997,
          2002,
          2007
         ],
         "xaxis": "x",
         "y": [
          70.232706802,
          70.7143822609,
          71.3247139166,
          73.3496601737,
          74.490437455,
          74.96076821390001,
          75.7875360755,
          76.632511341,
          77.1976618026,
          78.2484460493
         ],
         "yaxis": "y"
        },
        {
         "hovertemplate": "Country Name=Norway<br>Year=%{x}<br>value=%{y}<extra></extra>",
         "legendgroup": "Norway",
         "line": {
          "color": "#00cc96",
          "dash": "solid"
         },
         "marker": {
          "symbol": "circle"
         },
         "mode": "lines",
         "name": "Norway",
         "showlegend": true,
         "type": "scattergl",
         "x": [
          1962,
          1967,
          1972,
          1977,
          1982,
          1987,
          1992,
          1997,
          2002,
          2007
         ],
         "xaxis": "x",
         "y": [
          73.4480487805,
          74.0665853659,
          74.3446341463,
          75.3868292683,
          76.0109756098,
          76.0817073171,
          77.1843902439,
          78.1426829268,
          78.987804878,
          80.3951219512
         ],
         "yaxis": "y"
        },
        {
         "hovertemplate": "Country Name=OECD members<br>Year=%{x}<br>value=%{y}<extra></extra>",
         "legendgroup": "OECD members",
         "line": {
          "color": "#ab63fa",
          "dash": "solid"
         },
         "marker": {
          "symbol": "circle"
         },
         "mode": "lines",
         "name": "OECD members",
         "showlegend": true,
         "type": "scattergl",
         "x": [
          1962,
          1967,
          1972,
          1977,
          1982,
          1987,
          1992,
          1997,
          2002,
          2007
         ],
         "xaxis": "x",
         "y": [
          67.7545658145,
          69.0162014151,
          70.0851413382,
          71.6696581192,
          72.9533546677,
          74.07107637029999,
          75.1424337748,
          76.3948049217,
          77.538118673,
          78.7760227899
         ],
         "yaxis": "y"
        },
        {
         "hovertemplate": "Country Name=Oman<br>Year=%{x}<br>value=%{y}<extra></extra>",
         "legendgroup": "Oman",
         "line": {
          "color": "#FFA15A",
          "dash": "solid"
         },
         "marker": {
          "symbol": "circle"
         },
         "mode": "lines",
         "name": "Oman",
         "showlegend": true,
         "type": "scattergl",
         "x": [
          1962,
          1967,
          1972,
          1977,
          1982,
          1987,
          1992,
          1997,
          2002,
          2007
         ],
         "xaxis": "x",
         "y": [
          44.30051219510001,
          48.1070731707,
          51.8596341463,
          56.7596585366,
          61.517195122,
          65.3705609756,
          68.40548780489999,
          70.97897560979999,
          73.2133170732,
          75.1236097561
         ],
         "yaxis": "y"
        },
        {
         "hovertemplate": "Country Name=Other small states<br>Year=%{x}<br>value=%{y}<extra></extra>",
         "legendgroup": "Other small states",
         "line": {
          "color": "#19d3f3",
          "dash": "solid"
         },
         "marker": {
          "symbol": "circle"
         },
         "mode": "lines",
         "name": "Other small states",
         "showlegend": true,
         "type": "scattergl",
         "x": [
          1962,
          1967,
          1972,
          1977,
          1982,
          1987,
          1992,
          1997,
          2002,
          2007
         ],
         "xaxis": "x",
         "y": [
          52.2372667579,
          54.0880735641,
          55.7892735814,
          57.4887931325,
          59.8992092772,
          61.7802728566,
          62.5083058919,
          61.380123637,
          60.4894704849,
          63.2139229694
         ],
         "yaxis": "y"
        },
        {
         "hovertemplate": "Country Name=Pacific island small states<br>Year=%{x}<br>value=%{y}<extra></extra>",
         "legendgroup": "Pacific island small states",
         "line": {
          "color": "#FF6692",
          "dash": "solid"
         },
         "marker": {
          "symbol": "circle"
         },
         "mode": "lines",
         "name": "Pacific island small states",
         "showlegend": true,
         "type": "scattergl",
         "x": [
          1962,
          1967,
          1972,
          1977,
          1982,
          1987,
          1992,
          1997,
          2002,
          2007
         ],
         "xaxis": "x",
         "y": [
          54.60778331109999,
          56.8492363783,
          58.9141601162,
          60.77516377520001,
          62.2309080744,
          63.2121125869,
          64.2485093207,
          65.8073513684,
          67.2816592401,
          68.513095791
         ],
         "yaxis": "y"
        },
        {
         "hovertemplate": "Country Name=Pakistan<br>Year=%{x}<br>value=%{y}<extra></extra>",
         "legendgroup": "Pakistan",
         "line": {
          "color": "#B6E880",
          "dash": "solid"
         },
         "marker": {
          "symbol": "circle"
         },
         "mode": "lines",
         "name": "Pakistan",
         "showlegend": true,
         "type": "scattergl",
         "x": [
          1962,
          1967,
          1972,
          1977,
          1982,
          1987,
          1992,
          1997,
          2002,
          2007
         ],
         "xaxis": "x",
         "y": [
          47.1169756098,
          50.9961219512,
          53.9441219512,
          56.0221463415,
          57.6824878049,
          59.2273414634,
          60.6762195122,
          62.008560975600005,
          63.24075609760001,
          64.3387317073
         ],
         "yaxis": "y"
        },
        {
         "hovertemplate": "Country Name=Panama<br>Year=%{x}<br>value=%{y}<extra></extra>",
         "legendgroup": "Panama",
         "line": {
          "color": "#FF97FF",
          "dash": "solid"
         },
         "marker": {
          "symbol": "circle"
         },
         "mode": "lines",
         "name": "Panama",
         "showlegend": true,
         "type": "scattergl",
         "x": [
          1962,
          1967,
          1972,
          1977,
          1982,
          1987,
          1992,
          1997,
          2002,
          2007
         ],
         "xaxis": "x",
         "y": [
          61.8963658537,
          64.1743902439,
          66.54848780489999,
          69.0427560976,
          70.9354634146,
          72.331,
          73.4907317073,
          74.5250487805,
          75.4626829268,
          76.3144634146
         ],
         "yaxis": "y"
        },
        {
         "hovertemplate": "Country Name=Papua New Guinea<br>Year=%{x}<br>value=%{y}<extra></extra>",
         "legendgroup": "Papua New Guinea",
         "line": {
          "color": "#FECB52",
          "dash": "solid"
         },
         "marker": {
          "symbol": "circle"
         },
         "mode": "lines",
         "name": "Papua New Guinea",
         "showlegend": true,
         "type": "scattergl",
         "x": [
          1962,
          1967,
          1972,
          1977,
          1982,
          1987,
          1992,
          1997,
          2002,
          2007
         ],
         "xaxis": "x",
         "y": [
          39.7173902439,
          43.7174878049,
          47.3813170732,
          50.6492926829,
          54.0581219512,
          55.0516097561,
          56.399195122,
          57.9062926829,
          59.501390243900005,
          61.3114146341
         ],
         "yaxis": "y"
        },
        {
         "hovertemplate": "Country Name=Paraguay<br>Year=%{x}<br>value=%{y}<extra></extra>",
         "legendgroup": "Paraguay",
         "line": {
          "color": "#636efa",
          "dash": "solid"
         },
         "marker": {
          "symbol": "circle"
         },
         "mode": "lines",
         "name": "Paraguay",
         "showlegend": true,
         "type": "scattergl",
         "x": [
          1962,
          1967,
          1972,
          1977,
          1982,
          1987,
          1992,
          1997,
          2002,
          2007
         ],
         "xaxis": "x",
         "y": [
          64.226902439,
          64.9664634146,
          65.7752195122,
          66.4387804878,
          66.9837804878,
          67.53985365850001,
          68.3704634146,
          69.32704878050001,
          70.59743902439999,
          71.6948292683
         ],
         "yaxis": "y"
        },
        {
         "hovertemplate": "Country Name=Peru<br>Year=%{x}<br>value=%{y}<extra></extra>",
         "legendgroup": "Peru",
         "line": {
          "color": "#EF553B",
          "dash": "solid"
         },
         "marker": {
          "symbol": "circle"
         },
         "mode": "lines",
         "name": "Peru",
         "showlegend": true,
         "type": "scattergl",
         "x": [
          1962,
          1967,
          1972,
          1977,
          1982,
          1987,
          1992,
          1997,
          2002,
          2007
         ],
         "xaxis": "x",
         "y": [
          48.7527804878,
          51.3185365854,
          55.0175853659,
          58.2941463415,
          61.2497073171,
          64.0192195122,
          66.5173658537,
          69.0325365854,
          71.3838780488,
          72.9969512195
         ],
         "yaxis": "y"
        },
        {
         "hovertemplate": "Country Name=Philippines<br>Year=%{x}<br>value=%{y}<extra></extra>",
         "legendgroup": "Philippines",
         "line": {
          "color": "#00cc96",
          "dash": "solid"
         },
         "marker": {
          "symbol": "circle"
         },
         "mode": "lines",
         "name": "Philippines",
         "showlegend": true,
         "type": "scattergl",
         "x": [
          1962,
          1967,
          1972,
          1977,
          1982,
          1987,
          1992,
          1997,
          2002,
          2007
         ],
         "xaxis": "x",
         "y": [
          58.4288536585,
          59.9421219512,
          61.231097561000006,
          61.6775121951,
          62.7324146341,
          64.48792682930001,
          65.6484634146,
          66.3214634146,
          66.92165853659999,
          67.47902439020001
         ],
         "yaxis": "y"
        },
        {
         "hovertemplate": "Country Name=Poland<br>Year=%{x}<br>value=%{y}<extra></extra>",
         "legendgroup": "Poland",
         "line": {
          "color": "#ab63fa",
          "dash": "solid"
         },
         "marker": {
          "symbol": "circle"
         },
         "mode": "lines",
         "name": "Poland",
         "showlegend": true,
         "type": "scattergl",
         "x": [
          1962,
          1967,
          1972,
          1977,
          1982,
          1987,
          1992,
          1997,
          2002,
          2007
         ],
         "xaxis": "x",
         "y": [
          67.4268292683,
          69.4243902439,
          70.6658536585,
          70.4024390244,
          71.1024390244,
          70.8975609756,
          71.0902439024,
          72.6463414634,
          74.49756097560001,
          75.243902439
         ],
         "yaxis": "y"
        },
        {
         "hovertemplate": "Country Name=Portugal<br>Year=%{x}<br>value=%{y}<extra></extra>",
         "legendgroup": "Portugal",
         "line": {
          "color": "#FFA15A",
          "dash": "solid"
         },
         "marker": {
          "symbol": "circle"
         },
         "mode": "lines",
         "name": "Portugal",
         "showlegend": true,
         "type": "scattergl",
         "x": [
          1962,
          1967,
          1972,
          1977,
          1982,
          1987,
          1992,
          1997,
          2002,
          2007
         ],
         "xaxis": "x",
         "y": [
          63.6941463415,
          65.8168292683,
          68.3243902439,
          70.012195122,
          72.4146341463,
          73.6658536585,
          74.31219512199999,
          75.412195122,
          77.0658536585,
          78.3219512195
         ],
         "yaxis": "y"
        },
        {
         "hovertemplate": "Country Name=Post-demographic dividend<br>Year=%{x}<br>value=%{y}<extra></extra>",
         "legendgroup": "Post-demographic dividend",
         "line": {
          "color": "#19d3f3",
          "dash": "solid"
         },
         "marker": {
          "symbol": "circle"
         },
         "mode": "lines",
         "name": "Post-demographic dividend",
         "showlegend": true,
         "type": "scattergl",
         "x": [
          1962,
          1967,
          1972,
          1977,
          1982,
          1987,
          1992,
          1997,
          2002,
          2007
         ],
         "xaxis": "x",
         "y": [
          69.1443628566,
          70.3710913744,
          71.3405459213,
          72.8029880314,
          73.90161195350001,
          74.98707688180001,
          75.7945594929,
          76.7498273482,
          77.79047440810001,
          79.0261899061
         ],
         "yaxis": "y"
        },
        {
         "hovertemplate": "Country Name=Pre-demographic dividend<br>Year=%{x}<br>value=%{y}<extra></extra>",
         "legendgroup": "Pre-demographic dividend",
         "line": {
          "color": "#FF6692",
          "dash": "solid"
         },
         "marker": {
          "symbol": "circle"
         },
         "mode": "lines",
         "name": "Pre-demographic dividend",
         "showlegend": true,
         "type": "scattergl",
         "x": [
          1962,
          1967,
          1972,
          1977,
          1982,
          1987,
          1992,
          1997,
          2002,
          2007
         ],
         "xaxis": "x",
         "y": [
          39.7401724753,
          41.9225529905,
          44.224249996400005,
          46.4411001605,
          48.1487867068,
          49.1852723373,
          49.5685238524,
          49.9370648496,
          51.44620837380001,
          54.4851307308
         ],
         "yaxis": "y"
        },
        {
         "hovertemplate": "Country Name=Puerto Rico<br>Year=%{x}<br>value=%{y}<extra></extra>",
         "legendgroup": "Puerto Rico",
         "line": {
          "color": "#B6E880",
          "dash": "solid"
         },
         "marker": {
          "symbol": "circle"
         },
         "mode": "lines",
         "name": "Puerto Rico",
         "showlegend": true,
         "type": "scattergl",
         "x": [
          1962,
          1967,
          1972,
          1977,
          1982,
          1987,
          1992,
          1997,
          2002,
          2007
         ],
         "xaxis": "x",
         "y": [
          69.1449268293,
          70.5245365854,
          72.1822682927,
          73.369,
          73.9085853659,
          74.4304634146,
          73.9463658537,
          74.6666341463,
          77.7604878049,
          78.4258536585
         ],
         "yaxis": "y"
        },
        {
         "hovertemplate": "Country Name=Qatar<br>Year=%{x}<br>value=%{y}<extra></extra>",
         "legendgroup": "Qatar",
         "line": {
          "color": "#FF97FF",
          "dash": "solid"
         },
         "marker": {
          "symbol": "circle"
         },
         "mode": "lines",
         "name": "Qatar",
         "showlegend": true,
         "type": "scattergl",
         "x": [
          1962,
          1967,
          1972,
          1977,
          1982,
          1987,
          1992,
          1997,
          2002,
          2007
         ],
         "xaxis": "x",
         "y": [
          62.73002439020001,
          66.48385365850001,
          69.6559268293,
          71.8167804878,
          73.3669756098,
          74.55373170729999,
          75.4404878049,
          76.1305365854,
          76.7133170732,
          77.28685365850001
         ],
         "yaxis": "y"
        },
        {
         "hovertemplate": "Country Name=Romania<br>Year=%{x}<br>value=%{y}<extra></extra>",
         "legendgroup": "Romania",
         "line": {
          "color": "#FECB52",
          "dash": "solid"
         },
         "marker": {
          "symbol": "circle"
         },
         "mode": "lines",
         "name": "Romania",
         "showlegend": true,
         "type": "scattergl",
         "x": [
          1962,
          1967,
          1972,
          1977,
          1982,
          1987,
          1992,
          1997,
          2002,
          2007
         ],
         "xaxis": "x",
         "y": [
          67.0290731707,
          67.62690243899999,
          68.4702439024,
          69.7419512195,
          69.5317073171,
          69.2268292683,
          69.7843902439,
          69.0048780488,
          71.0097560976,
          72.5658536585
         ],
         "yaxis": "y"
        },
        {
         "hovertemplate": "Country Name=Russian Federation<br>Year=%{x}<br>value=%{y}<extra></extra>",
         "legendgroup": "Russian Federation",
         "line": {
          "color": "#636efa",
          "dash": "solid"
         },
         "marker": {
          "symbol": "circle"
         },
         "mode": "lines",
         "name": "Russian Federation",
         "showlegend": true,
         "type": "scattergl",
         "x": [
          1962,
          1967,
          1972,
          1977,
          1982,
          1987,
          1992,
          1997,
          2002,
          2007
         ],
         "xaxis": "x",
         "y": [
          67.0214146341,
          67.8601463415,
          68.3085365854,
          67.3763414634,
          67.806097561,
          69.44,
          66.8731707317,
          66.9507317073,
          65.0853658537,
          67.49756097560001
         ],
         "yaxis": "y"
        },
        {
         "hovertemplate": "Country Name=Rwanda<br>Year=%{x}<br>value=%{y}<extra></extra>",
         "legendgroup": "Rwanda",
         "line": {
          "color": "#EF553B",
          "dash": "solid"
         },
         "marker": {
          "symbol": "circle"
         },
         "mode": "lines",
         "name": "Rwanda",
         "showlegend": true,
         "type": "scattergl",
         "x": [
          1962,
          1967,
          1972,
          1977,
          1982,
          1987,
          1992,
          1997,
          2002,
          2007
         ],
         "xaxis": "x",
         "y": [
          42.8377073171,
          43.9596097561,
          44.4436097561,
          45.7861707317,
          49.71926829270001,
          46.305097561,
          27.4836585366,
          39.804804878,
          50.604804878,
          57.94600000000001
         ],
         "yaxis": "y"
        },
        {
         "hovertemplate": "Country Name=Samoa<br>Year=%{x}<br>value=%{y}<extra></extra>",
         "legendgroup": "Samoa",
         "line": {
          "color": "#00cc96",
          "dash": "solid"
         },
         "marker": {
          "symbol": "circle"
         },
         "mode": "lines",
         "name": "Samoa",
         "showlegend": true,
         "type": "scattergl",
         "x": [
          1962,
          1967,
          1972,
          1977,
          1982,
          1987,
          1992,
          1997,
          2002,
          2007
         ],
         "xaxis": "x",
         "y": [
          50.9695121951,
          53.4695121951,
          55.9695121951,
          58.4695121951,
          60.9665121951,
          63.4809756098,
          66.0700243902,
          68.3705365854,
          70.1284146341,
          71.5607804878
         ],
         "yaxis": "y"
        },
        {
         "hovertemplate": "Country Name=Sao Tome and Principe<br>Year=%{x}<br>value=%{y}<extra></extra>",
         "legendgroup": "Sao Tome and Principe",
         "line": {
          "color": "#ab63fa",
          "dash": "solid"
         },
         "marker": {
          "symbol": "circle"
         },
         "mode": "lines",
         "name": "Sao Tome and Principe",
         "showlegend": true,
         "type": "scattergl",
         "x": [
          1962,
          1967,
          1972,
          1977,
          1982,
          1987,
          1992,
          1997,
          2002,
          2007
         ],
         "xaxis": "x",
         "y": [
          51.5972926829,
          54.21563414630001,
          57.099804878,
          59.8600731707,
          60.6421707317,
          61.260097561,
          62.095097561,
          62.859902439,
          63.701853658500006,
          65.188
         ],
         "yaxis": "y"
        },
        {
         "hovertemplate": "Country Name=Saudi Arabia<br>Year=%{x}<br>value=%{y}<extra></extra>",
         "legendgroup": "Saudi Arabia",
         "line": {
          "color": "#FFA15A",
          "dash": "solid"
         },
         "marker": {
          "symbol": "circle"
         },
         "mode": "lines",
         "name": "Saudi Arabia",
         "showlegend": true,
         "type": "scattergl",
         "x": [
          1962,
          1967,
          1972,
          1977,
          1982,
          1987,
          1992,
          1997,
          2002,
          2007
         ],
         "xaxis": "x",
         "y": [
          46.6945121951,
          49.9151219512,
          54.9089512195,
          60.3413658537,
          64.6587804878,
          67.7481707317,
          69.9979268293,
          71.7542926829,
          72.8714634146,
          73.34507317069999
         ],
         "yaxis": "y"
        },
        {
         "hovertemplate": "Country Name=Senegal<br>Year=%{x}<br>value=%{y}<extra></extra>",
         "legendgroup": "Senegal",
         "line": {
          "color": "#19d3f3",
          "dash": "solid"
         },
         "marker": {
          "symbol": "circle"
         },
         "mode": "lines",
         "name": "Senegal",
         "showlegend": true,
         "type": "scattergl",
         "x": [
          1962,
          1967,
          1972,
          1977,
          1982,
          1987,
          1992,
          1997,
          2002,
          2007
         ],
         "xaxis": "x",
         "y": [
          38.446,
          38.4159756098,
          40.5562195122,
          45.7673414634,
          50.9331463415,
          55.597024390200005,
          57.5066097561,
          57.3033658537,
          58.5961707317,
          61.7841707317
         ],
         "yaxis": "y"
        },
        {
         "hovertemplate": "Country Name=Sierra Leone<br>Year=%{x}<br>value=%{y}<extra></extra>",
         "legendgroup": "Sierra Leone",
         "line": {
          "color": "#FF6692",
          "dash": "solid"
         },
         "marker": {
          "symbol": "circle"
         },
         "mode": "lines",
         "name": "Sierra Leone",
         "showlegend": true,
         "type": "scattergl",
         "x": [
          1962,
          1967,
          1972,
          1977,
          1982,
          1987,
          1992,
          1997,
          2002,
          2007
         ],
         "xaxis": "x",
         "y": [
          30.752780487800003,
          32.4628292683,
          36.2952439024,
          39.5722682927,
          40.8703658537,
          39.3306585366,
          36.2465853659,
          36.426195122,
          40.642902439,
          45.4883658537
         ],
         "yaxis": "y"
        },
        {
         "hovertemplate": "Country Name=Singapore<br>Year=%{x}<br>value=%{y}<extra></extra>",
         "legendgroup": "Singapore",
         "line": {
          "color": "#B6E880",
          "dash": "solid"
         },
         "marker": {
          "symbol": "circle"
         },
         "mode": "lines",
         "name": "Singapore",
         "showlegend": true,
         "type": "scattergl",
         "x": [
          1962,
          1967,
          1972,
          1977,
          1982,
          1987,
          1992,
          1997,
          2002,
          2007
         ],
         "xaxis": "x",
         "y": [
          66.4322439024,
          67.4457317073,
          69.042902439,
          70.960902439,
          72.68780487800001,
          74.5487804878,
          75.9463414634,
          76.8975609756,
          78.5512195122,
          80.4414634146
         ],
         "yaxis": "y"
        },
        {
         "hovertemplate": "Country Name=Slovak Republic<br>Year=%{x}<br>value=%{y}<extra></extra>",
         "legendgroup": "Slovak Republic",
         "line": {
          "color": "#FF97FF",
          "dash": "solid"
         },
         "marker": {
          "symbol": "circle"
         },
         "mode": "lines",
         "name": "Slovak Republic",
         "showlegend": true,
         "type": "scattergl",
         "x": [
          1962,
          1967,
          1972,
          1977,
          1982,
          1987,
          1992,
          1997,
          2002,
          2007
         ],
         "xaxis": "x",
         "y": [
          70.4943414634,
          70.4195365854,
          70.1033658537,
          70.39956097560001,
          70.6890243902,
          71.0887804878,
          71.7951219512,
          72.7048780488,
          73.6048780488,
          74.2073170732
         ],
         "yaxis": "y"
        },
        {
         "hovertemplate": "Country Name=Slovenia<br>Year=%{x}<br>value=%{y}<extra></extra>",
         "legendgroup": "Slovenia",
         "line": {
          "color": "#FECB52",
          "dash": "solid"
         },
         "marker": {
          "symbol": "circle"
         },
         "mode": "lines",
         "name": "Slovenia",
         "showlegend": true,
         "type": "scattergl",
         "x": [
          1962,
          1967,
          1972,
          1977,
          1982,
          1987,
          1992,
          1997,
          2002,
          2007
         ],
         "xaxis": "x",
         "y": [
          68.9780487805,
          69.3658536585,
          69.0585365854,
          70.556097561,
          71.0536585366,
          72.00243902439999,
          73.3048780488,
          74.7073170732,
          76.0073170732,
          78.5609756098
         ],
         "yaxis": "y"
        },
        {
         "hovertemplate": "Country Name=Small states<br>Year=%{x}<br>value=%{y}<extra></extra>",
         "legendgroup": "Small states",
         "line": {
          "color": "#636efa",
          "dash": "solid"
         },
         "marker": {
          "symbol": "circle"
         },
         "mode": "lines",
         "name": "Small states",
         "showlegend": true,
         "type": "scattergl",
         "x": [
          1962,
          1967,
          1972,
          1977,
          1982,
          1987,
          1992,
          1997,
          2002,
          2007
         ],
         "xaxis": "x",
         "y": [
          55.5866271749,
          57.38334157560001,
          58.9010978478,
          60.4333098129,
          62.38210548470001,
          63.7614801897,
          64.30616145329999,
          63.6125923371,
          63.108712373900005,
          65.22258787310001
         ],
         "yaxis": "y"
        },
        {
         "hovertemplate": "Country Name=Solomon Islands<br>Year=%{x}<br>value=%{y}<extra></extra>",
         "legendgroup": "Solomon Islands",
         "line": {
          "color": "#EF553B",
          "dash": "solid"
         },
         "marker": {
          "symbol": "circle"
         },
         "mode": "lines",
         "name": "Solomon Islands",
         "showlegend": true,
         "type": "scattergl",
         "x": [
          1962,
          1967,
          1972,
          1977,
          1982,
          1987,
          1992,
          1997,
          2002,
          2007
         ],
         "xaxis": "x",
         "y": [
          50.3817073171,
          52.8817073171,
          55.4386341463,
          57.98956097560001,
          58.6787560976,
          56.4109756098,
          57.8211219512,
          60.9086097561,
          64.0623658537,
          66.266804878
         ],
         "yaxis": "y"
        },
        {
         "hovertemplate": "Country Name=Somalia<br>Year=%{x}<br>value=%{y}<extra></extra>",
         "legendgroup": "Somalia",
         "line": {
          "color": "#00cc96",
          "dash": "solid"
         },
         "marker": {
          "symbol": "circle"
         },
         "mode": "lines",
         "name": "Somalia",
         "showlegend": true,
         "type": "scattergl",
         "x": [
          1962,
          1967,
          1972,
          1977,
          1982,
          1987,
          1992,
          1997,
          2002,
          2007
         ],
         "xaxis": "x",
         "y": [
          37.7612195122,
          39.7725365854,
          41.7168536585,
          43.629902439,
          45.4143414634,
          46.1315609756,
          45.3723170732,
          48.9764390244,
          51.5018536585,
          53.0186585366
         ],
         "yaxis": "y"
        },
        {
         "hovertemplate": "Country Name=South Africa<br>Year=%{x}<br>value=%{y}<extra></extra>",
         "legendgroup": "South Africa",
         "line": {
          "color": "#ab63fa",
          "dash": "solid"
         },
         "marker": {
          "symbol": "circle"
         },
         "mode": "lines",
         "name": "South Africa",
         "showlegend": true,
         "type": "scattergl",
         "x": [
          1962,
          1967,
          1972,
          1977,
          1982,
          1987,
          1992,
          1997,
          2002,
          2007
         ],
         "xaxis": "x",
         "y": [
          49.8132926829,
          51.7494146341,
          53.5336341463,
          55.4122439024,
          58.167195122,
          60.9580243902,
          62.3251707317,
          59.613195122,
          53.441195122,
          51.9965121951
         ],
         "yaxis": "y"
        },
        {
         "hovertemplate": "Country Name=South Asia<br>Year=%{x}<br>value=%{y}<extra></extra>",
         "legendgroup": "South Asia",
         "line": {
          "color": "#FFA15A",
          "dash": "solid"
         },
         "marker": {
          "symbol": "circle"
         },
         "mode": "lines",
         "name": "South Asia",
         "showlegend": true,
         "type": "scattergl",
         "x": [
          1962,
          1967,
          1972,
          1977,
          1982,
          1987,
          1992,
          1997,
          2002,
          2007
         ],
         "xaxis": "x",
         "y": [
          43.2435601501,
          46.4170602475,
          49.2669163553,
          52.41829323,
          54.9201965652,
          56.87719442220001,
          59.2046720742,
          61.61026721,
          63.6901638804,
          65.5485167218
         ],
         "yaxis": "y"
        },
        {
         "hovertemplate": "Country Name=South Asia (IDA & IBRD)<br>Year=%{x}<br>value=%{y}<extra></extra>",
         "legendgroup": "South Asia (IDA & IBRD)",
         "line": {
          "color": "#19d3f3",
          "dash": "solid"
         },
         "marker": {
          "symbol": "circle"
         },
         "mode": "lines",
         "name": "South Asia (IDA & IBRD)",
         "showlegend": true,
         "type": "scattergl",
         "x": [
          1962,
          1967,
          1972,
          1977,
          1982,
          1987,
          1992,
          1997,
          2002,
          2007
         ],
         "xaxis": "x",
         "y": [
          43.2435601501,
          46.4170602475,
          49.2669163553,
          52.41829323,
          54.9201965652,
          56.87719442220001,
          59.2046720742,
          61.61026721,
          63.6901638804,
          65.5485167218
         ],
         "yaxis": "y"
        },
        {
         "hovertemplate": "Country Name=South Sudan<br>Year=%{x}<br>value=%{y}<extra></extra>",
         "legendgroup": "South Sudan",
         "line": {
          "color": "#FF6692",
          "dash": "solid"
         },
         "marker": {
          "symbol": "circle"
         },
         "mode": "lines",
         "name": "South Sudan",
         "showlegend": true,
         "type": "scattergl",
         "x": [
          1962,
          1967,
          1972,
          1977,
          1982,
          1987,
          1992,
          1997,
          2002,
          2007
         ],
         "xaxis": "x",
         "y": [
          32.5291219512,
          34.639,
          36.5817073171,
          38.4230243902,
          39.4064146341,
          41.5080243902,
          44.9251463415,
          47.8984634146,
          49.9932439024,
          52.0878536585
         ],
         "yaxis": "y"
        },
        {
         "hovertemplate": "Country Name=Spain<br>Year=%{x}<br>value=%{y}<extra></extra>",
         "legendgroup": "Spain",
         "line": {
          "color": "#B6E880",
          "dash": "solid"
         },
         "marker": {
          "symbol": "circle"
         },
         "mode": "lines",
         "name": "Spain",
         "showlegend": true,
         "type": "scattergl",
         "x": [
          1962,
          1967,
          1972,
          1977,
          1982,
          1987,
          1992,
          1997,
          2002,
          2007
         ],
         "xaxis": "x",
         "y": [
          69.5190243902,
          71.25292682930001,
          72.8180487805,
          74.1319512195,
          76.1341463415,
          76.7280487805,
          77.41,
          78.6041463415,
          79.5682926829,
          80.8731707317
         ],
         "yaxis": "y"
        },
        {
         "hovertemplate": "Country Name=Sri Lanka<br>Year=%{x}<br>value=%{y}<extra></extra>",
         "legendgroup": "Sri Lanka",
         "line": {
          "color": "#FF97FF",
          "dash": "solid"
         },
         "marker": {
          "symbol": "circle"
         },
         "mode": "lines",
         "name": "Sri Lanka",
         "showlegend": true,
         "type": "scattergl",
         "x": [
          1962,
          1967,
          1972,
          1977,
          1982,
          1987,
          1992,
          1997,
          2002,
          2007
         ],
         "xaxis": "x",
         "y": [
          60.5115853659,
          62.8540487805,
          65.10160975609999,
          67.0026097561,
          68.9623170732,
          69.32173170729999,
          69.7964146341,
          69.5046585366,
          72.6101463415,
          74.1941219512
         ],
         "yaxis": "y"
        },
        {
         "hovertemplate": "Country Name=St. Lucia<br>Year=%{x}<br>value=%{y}<extra></extra>",
         "legendgroup": "St. Lucia",
         "line": {
          "color": "#FECB52",
          "dash": "solid"
         },
         "marker": {
          "symbol": "circle"
         },
         "mode": "lines",
         "name": "St. Lucia",
         "showlegend": true,
         "type": "scattergl",
         "x": [
          1962,
          1967,
          1972,
          1977,
          1982,
          1987,
          1992,
          1997,
          2002,
          2007
         ],
         "xaxis": "x",
         "y": [
          58.7633414634,
          61.3181463415,
          64.0537073171,
          67.08800000000001,
          69.6574878049,
          70.70873170729999,
          71.1945121951,
          71.1552926829,
          71.9248536585,
          73.7118536585
         ],
         "yaxis": "y"
        },
        {
         "hovertemplate": "Country Name=St. Vincent and the Grenadines<br>Year=%{x}<br>value=%{y}<extra></extra>",
         "legendgroup": "St. Vincent and the Grenadines",
         "line": {
          "color": "#636efa",
          "dash": "solid"
         },
         "marker": {
          "symbol": "circle"
         },
         "mode": "lines",
         "name": "St. Vincent and the Grenadines",
         "showlegend": true,
         "type": "scattergl",
         "x": [
          1962,
          1967,
          1972,
          1977,
          1982,
          1987,
          1992,
          1997,
          2002,
          2007
         ],
         "xaxis": "x",
         "y": [
          59.8392195122,
          63.5147560976,
          65.4689756098,
          66.49926829270001,
          68.0729268293,
          69.4650731707,
          70.3681463415,
          70.5876585366,
          70.7181463415,
          71.6994146341
         ],
         "yaxis": "y"
        },
        {
         "hovertemplate": "Country Name=Sub-Saharan Africa<br>Year=%{x}<br>value=%{y}<extra></extra>",
         "legendgroup": "Sub-Saharan Africa",
         "line": {
          "color": "#EF553B",
          "dash": "solid"
         },
         "marker": {
          "symbol": "circle"
         },
         "mode": "lines",
         "name": "Sub-Saharan Africa",
         "showlegend": true,
         "type": "scattergl",
         "x": [
          1962,
          1967,
          1972,
          1977,
          1982,
          1987,
          1992,
          1997,
          2002,
          2007
         ],
         "xaxis": "x",
         "y": [
          41.0494372624,
          43.0700643627,
          45.1161597314,
          47.11227898560001,
          48.7781214003,
          49.8095285225,
          49.9068722956,
          49.9680840404,
          51.0038552379,
          54.1785518165
         ],
         "yaxis": "y"
        },
        {
         "hovertemplate": "Country Name=Sub-Saharan Africa (IDA & IBRD countries)<br>Year=%{x}<br>value=%{y}<extra></extra>",
         "legendgroup": "Sub-Saharan Africa (IDA & IBRD countries)",
         "line": {
          "color": "#00cc96",
          "dash": "solid"
         },
         "marker": {
          "symbol": "circle"
         },
         "mode": "lines",
         "name": "Sub-Saharan Africa (IDA & IBRD countries)",
         "showlegend": true,
         "type": "scattergl",
         "x": [
          1962,
          1967,
          1972,
          1977,
          1982,
          1987,
          1992,
          1997,
          2002,
          2007
         ],
         "xaxis": "x",
         "y": [
          41.0494372624,
          43.0700643627,
          45.1161597314,
          47.11227898560001,
          48.7781214003,
          49.8095285225,
          49.9068722956,
          49.9680840404,
          51.0038552379,
          54.1785518165
         ],
         "yaxis": "y"
        },
        {
         "hovertemplate": "Country Name=Sub-Saharan Africa (excluding high income)<br>Year=%{x}<br>value=%{y}<extra></extra>",
         "legendgroup": "Sub-Saharan Africa (excluding high income)",
         "line": {
          "color": "#ab63fa",
          "dash": "solid"
         },
         "marker": {
          "symbol": "circle"
         },
         "mode": "lines",
         "name": "Sub-Saharan Africa (excluding high income)",
         "showlegend": true,
         "type": "scattergl",
         "x": [
          1962,
          1967,
          1972,
          1977,
          1982,
          1987,
          1992,
          1997,
          2002,
          2007
         ],
         "xaxis": "x",
         "y": [
          41.0494372624,
          43.0700643627,
          45.1161597314,
          47.11227898560001,
          48.7748905658,
          49.80661427810001,
          49.9041051218,
          49.9653924824,
          51.0012452858,
          54.1765429979
         ],
         "yaxis": "y"
        },
        {
         "hovertemplate": "Country Name=Sudan<br>Year=%{x}<br>value=%{y}<extra></extra>",
         "legendgroup": "Sudan",
         "line": {
          "color": "#FFA15A",
          "dash": "solid"
         },
         "marker": {
          "symbol": "circle"
         },
         "mode": "lines",
         "name": "Sudan",
         "showlegend": true,
         "type": "scattergl",
         "x": [
          1962,
          1967,
          1972,
          1977,
          1982,
          1987,
          1992,
          1997,
          2002,
          2007
         ],
         "xaxis": "x",
         "y": [
          49.0274634146,
          51.0578536585,
          52.8875365854,
          53.9325853659,
          54.4247804878,
          55.0393658537,
          55.8795853659,
          57.0558780488,
          58.67556097560001,
          60.7008780488
         ],
         "yaxis": "y"
        },
        {
         "hovertemplate": "Country Name=Suriname<br>Year=%{x}<br>value=%{y}<extra></extra>",
         "legendgroup": "Suriname",
         "line": {
          "color": "#19d3f3",
          "dash": "solid"
         },
         "marker": {
          "symbol": "circle"
         },
         "mode": "lines",
         "name": "Suriname",
         "showlegend": true,
         "type": "scattergl",
         "x": [
          1962,
          1967,
          1972,
          1977,
          1982,
          1987,
          1992,
          1997,
          2002,
          2007
         ],
         "xaxis": "x",
         "y": [
          60.4084390244,
          62.2477073171,
          63.8604390244,
          65.0990731707,
          66.4704878049,
          67.2393902439,
          67.6510731707,
          67.8518780488,
          68.1439756098,
          69.47907317069999
         ],
         "yaxis": "y"
        },
        {
         "hovertemplate": "Country Name=Swaziland<br>Year=%{x}<br>value=%{y}<extra></extra>",
         "legendgroup": "Swaziland",
         "line": {
          "color": "#FF6692",
          "dash": "solid"
         },
         "marker": {
          "symbol": "circle"
         },
         "mode": "lines",
         "name": "Swaziland",
         "showlegend": true,
         "type": "scattergl",
         "x": [
          1962,
          1967,
          1972,
          1977,
          1982,
          1987,
          1992,
          1997,
          2002,
          2007
         ],
         "xaxis": "x",
         "y": [
          44.8179512195,
          46.452804878,
          49.1511219512,
          52.2342926829,
          55.5675121951,
          58.3978780488,
          58.9774634146,
          53.4372439024,
          46.5233170732,
          46.772390243900006
         ],
         "yaxis": "y"
        },
        {
         "hovertemplate": "Country Name=Sweden<br>Year=%{x}<br>value=%{y}<extra></extra>",
         "legendgroup": "Sweden",
         "line": {
          "color": "#B6E880",
          "dash": "solid"
         },
         "marker": {
          "symbol": "circle"
         },
         "mode": "lines",
         "name": "Sweden",
         "showlegend": true,
         "type": "scattergl",
         "x": [
          1962,
          1967,
          1972,
          1977,
          1982,
          1987,
          1992,
          1997,
          2002,
          2007
         ],
         "xaxis": "x",
         "y": [
          73.3504878049,
          74.1224390244,
          74.7180487805,
          75.37975609760001,
          76.32731707319999,
          77.09219512199999,
          77.99878048779999,
          79.1975609756,
          79.8463414634,
          80.9
         ],
         "yaxis": "y"
        },
        {
         "hovertemplate": "Country Name=Switzerland<br>Year=%{x}<br>value=%{y}<extra></extra>",
         "legendgroup": "Switzerland",
         "line": {
          "color": "#FF97FF",
          "dash": "solid"
         },
         "marker": {
          "symbol": "circle"
         },
         "mode": "lines",
         "name": "Switzerland",
         "showlegend": true,
         "type": "scattergl",
         "x": [
          1962,
          1967,
          1972,
          1977,
          1982,
          1987,
          1992,
          1997,
          2002,
          2007
         ],
         "xaxis": "x",
         "y": [
          71.196097561,
          72.6365853659,
          73.6443902439,
          75.23804878050001,
          76.033902439,
          77.1975609756,
          77.806097561,
          79.07951219510001,
          80.3853658537,
          81.7414634146
         ],
         "yaxis": "y"
        },
        {
         "hovertemplate": "Country Name=Syrian Arab Republic<br>Year=%{x}<br>value=%{y}<extra></extra>",
         "legendgroup": "Syrian Arab Republic",
         "line": {
          "color": "#FECB52",
          "dash": "solid"
         },
         "marker": {
          "symbol": "circle"
         },
         "mode": "lines",
         "name": "Syrian Arab Republic",
         "showlegend": true,
         "type": "scattergl",
         "x": [
          1962,
          1967,
          1972,
          1977,
          1982,
          1987,
          1992,
          1997,
          2002,
          2007
         ],
         "xaxis": "x",
         "y": [
          53.867804878,
          56.98173170729999,
          60.6672926829,
          64.0537560976,
          66.8860243902,
          69.1153170732,
          70.6744146341,
          71.9936585366,
          73.3606341463,
          74.2460731707
         ],
         "yaxis": "y"
        },
        {
         "hovertemplate": "Country Name=Tajikistan<br>Year=%{x}<br>value=%{y}<extra></extra>",
         "legendgroup": "Tajikistan",
         "line": {
          "color": "#636efa",
          "dash": "solid"
         },
         "marker": {
          "symbol": "circle"
         },
         "mode": "lines",
         "name": "Tajikistan",
         "showlegend": true,
         "type": "scattergl",
         "x": [
          1962,
          1967,
          1972,
          1977,
          1982,
          1987,
          1992,
          1997,
          2002,
          2007
         ],
         "xaxis": "x",
         "y": [
          56.9746829268,
          58.9931707317,
          60.59426829270001,
          61.6714634146,
          62.6624390244,
          63.3734146341,
          62.433195122,
          62.7973414634,
          64.51090243899999,
          67.2074878049
         ],
         "yaxis": "y"
        },
        {
         "hovertemplate": "Country Name=Tanzania<br>Year=%{x}<br>value=%{y}<extra></extra>",
         "legendgroup": "Tanzania",
         "line": {
          "color": "#EF553B",
          "dash": "solid"
         },
         "marker": {
          "symbol": "circle"
         },
         "mode": "lines",
         "name": "Tanzania",
         "showlegend": true,
         "type": "scattergl",
         "x": [
          1962,
          1967,
          1972,
          1977,
          1982,
          1987,
          1992,
          1997,
          2002,
          2007
         ],
         "xaxis": "x",
         "y": [
          44.1622439024,
          45.6193658537,
          47.5109512195,
          49.6781707317,
          50.7503170732,
          50.7883414634,
          49.28014634149999,
          48.9524878049,
          52.229804878,
          58.0777804878
         ],
         "yaxis": "y"
        },
        {
         "hovertemplate": "Country Name=Thailand<br>Year=%{x}<br>value=%{y}<extra></extra>",
         "legendgroup": "Thailand",
         "line": {
          "color": "#00cc96",
          "dash": "solid"
         },
         "marker": {
          "symbol": "circle"
         },
         "mode": "lines",
         "name": "Thailand",
         "showlegend": true,
         "type": "scattergl",
         "x": [
          1962,
          1967,
          1972,
          1977,
          1982,
          1987,
          1992,
          1997,
          2002,
          2007
         ],
         "xaxis": "x",
         "y": [
          55.7452195122,
          57.9998292683,
          60.4120243902,
          62.9959756098,
          65.6472926829,
          69.249902439,
          70.2730731707,
          70.2823902439,
          71.1182439024,
          72.87443902439999
         ],
         "yaxis": "y"
        },
        {
         "hovertemplate": "Country Name=Timor-Leste<br>Year=%{x}<br>value=%{y}<extra></extra>",
         "legendgroup": "Timor-Leste",
         "line": {
          "color": "#ab63fa",
          "dash": "solid"
         },
         "marker": {
          "symbol": "circle"
         },
         "mode": "lines",
         "name": "Timor-Leste",
         "showlegend": true,
         "type": "scattergl",
         "x": [
          1962,
          1967,
          1972,
          1977,
          1982,
          1987,
          1992,
          1997,
          2002,
          2007
         ],
         "xaxis": "x",
         "y": [
          34.7390487805,
          37.6066097561,
          39.098097561,
          32.8502682927,
          38.1862195122,
          45.8391219512,
          50.28026829270001,
          56.1655121951,
          61.2376341463,
          65.82419512199999
         ],
         "yaxis": "y"
        },
        {
         "hovertemplate": "Country Name=Togo<br>Year=%{x}<br>value=%{y}<extra></extra>",
         "legendgroup": "Togo",
         "line": {
          "color": "#FFA15A",
          "dash": "solid"
         },
         "marker": {
          "symbol": "circle"
         },
         "mode": "lines",
         "name": "Togo",
         "showlegend": true,
         "type": "scattergl",
         "x": [
          1962,
          1967,
          1972,
          1977,
          1982,
          1987,
          1992,
          1997,
          2002,
          2007
         ],
         "xaxis": "x",
         "y": [
          41.555097561,
          44.6894634146,
          47.7430487805,
          50.6475609756,
          53.3296585366,
          55.29639024390001,
          55.697682926800006,
          53.973390243900006,
          53.6732439024,
          55.4334390244
         ],
         "yaxis": "y"
        },
        {
         "hovertemplate": "Country Name=Tonga<br>Year=%{x}<br>value=%{y}<extra></extra>",
         "legendgroup": "Tonga",
         "line": {
          "color": "#19d3f3",
          "dash": "solid"
         },
         "marker": {
          "symbol": "circle"
         },
         "mode": "lines",
         "name": "Tonga",
         "showlegend": true,
         "type": "scattergl",
         "x": [
          1962,
          1967,
          1972,
          1977,
          1982,
          1987,
          1992,
          1997,
          2002,
          2007
         ],
         "xaxis": "x",
         "y": [
          62.0972926829,
          63.8672439024,
          65.5079756098,
          66.8153658537,
          68.0494878049,
          69.15192682930001,
          69.7972195122,
          70.36368292680001,
          71.0366829268,
          71.737
         ],
         "yaxis": "y"
        },
        {
         "hovertemplate": "Country Name=Trinidad and Tobago<br>Year=%{x}<br>value=%{y}<extra></extra>",
         "legendgroup": "Trinidad and Tobago",
         "line": {
          "color": "#FF6692",
          "dash": "solid"
         },
         "marker": {
          "symbol": "circle"
         },
         "mode": "lines",
         "name": "Trinidad and Tobago",
         "showlegend": true,
         "type": "scattergl",
         "x": [
          1962,
          1967,
          1972,
          1977,
          1982,
          1987,
          1992,
          1997,
          2002,
          2007
         ],
         "xaxis": "x",
         "y": [
          63.760195122,
          64.84792682930001,
          65.442804878,
          66.556,
          67.2812682927,
          67.7429268293,
          68.1916341463,
          68.4726097561,
          68.71043902439999,
          69.2596585366
         ],
         "yaxis": "y"
        },
        {
         "hovertemplate": "Country Name=Tunisia<br>Year=%{x}<br>value=%{y}<extra></extra>",
         "legendgroup": "Tunisia",
         "line": {
          "color": "#B6E880",
          "dash": "solid"
         },
         "marker": {
          "symbol": "circle"
         },
         "mode": "lines",
         "name": "Tunisia",
         "showlegend": true,
         "type": "scattergl",
         "x": [
          1962,
          1967,
          1972,
          1977,
          1982,
          1987,
          1992,
          1997,
          2002,
          2007
         ],
         "xaxis": "x",
         "y": [
          43.3416829268,
          47.80051219510001,
          53.4502439024,
          58.9367317073,
          63.8036585366,
          67.0230731707,
          70.756097561,
          71.9024390244,
          73,
          74.2024390244
         ],
         "yaxis": "y"
        },
        {
         "hovertemplate": "Country Name=Turkey<br>Year=%{x}<br>value=%{y}<extra></extra>",
         "legendgroup": "Turkey",
         "line": {
          "color": "#FF97FF",
          "dash": "solid"
         },
         "marker": {
          "symbol": "circle"
         },
         "mode": "lines",
         "name": "Turkey",
         "showlegend": true,
         "type": "scattergl",
         "x": [
          1962,
          1967,
          1972,
          1977,
          1982,
          1987,
          1992,
          1997,
          2002,
          2007
         ],
         "xaxis": "x",
         "y": [
          46.8367073171,
          50.38360975609999,
          53.4751219512,
          56.7186829268,
          59.9464634146,
          62.7875121951,
          65.3002195122,
          68.19968292680001,
          71.0819756098,
          73.1770731707
         ],
         "yaxis": "y"
        },
        {
         "hovertemplate": "Country Name=Turkmenistan<br>Year=%{x}<br>value=%{y}<extra></extra>",
         "legendgroup": "Turkmenistan",
         "line": {
          "color": "#FECB52",
          "dash": "solid"
         },
         "marker": {
          "symbol": "circle"
         },
         "mode": "lines",
         "name": "Turkmenistan",
         "showlegend": true,
         "type": "scattergl",
         "x": [
          1962,
          1967,
          1972,
          1977,
          1982,
          1987,
          1992,
          1997,
          2002,
          2007
         ],
         "xaxis": "x",
         "y": [
          55.287195122,
          57.3252926829,
          58.903804878,
          60.0316341463,
          61.4780731707,
          62.57443902439999,
          62.7061463415,
          63.4001219512,
          64.13760975609999,
          64.6388292683
         ],
         "yaxis": "y"
        },
        {
         "hovertemplate": "Country Name=Uganda<br>Year=%{x}<br>value=%{y}<extra></extra>",
         "legendgroup": "Uganda",
         "line": {
          "color": "#636efa",
          "dash": "solid"
         },
         "marker": {
          "symbol": "circle"
         },
         "mode": "lines",
         "name": "Uganda",
         "showlegend": true,
         "type": "scattergl",
         "x": [
          1962,
          1967,
          1972,
          1977,
          1982,
          1987,
          1992,
          1997,
          2002,
          2007
         ],
         "xaxis": "x",
         "y": [
          45.1470487805,
          47.8535365854,
          49.1331219512,
          49.3461219512,
          48.8025121951,
          46.6467804878,
          44.2392926829,
          44.3188780488,
          48.4755853659,
          53.6541463415
         ],
         "yaxis": "y"
        },
        {
         "hovertemplate": "Country Name=Ukraine<br>Year=%{x}<br>value=%{y}<extra></extra>",
         "legendgroup": "Ukraine",
         "line": {
          "color": "#EF553B",
          "dash": "solid"
         },
         "marker": {
          "symbol": "circle"
         },
         "mode": "lines",
         "name": "Ukraine",
         "showlegend": true,
         "type": "scattergl",
         "x": [
          1962,
          1967,
          1972,
          1977,
          1982,
          1987,
          1992,
          1997,
          2002,
          2007
         ],
         "xaxis": "x",
         "y": [
          69.146097561,
          70.1611219512,
          70.09085365850001,
          69.2534390244,
          68.9012439024,
          70.4951219512,
          69.0682926829,
          67.2953658537,
          68.2756097561,
          68.222195122
         ],
         "yaxis": "y"
        },
        {
         "hovertemplate": "Country Name=United Arab Emirates<br>Year=%{x}<br>value=%{y}<extra></extra>",
         "legendgroup": "United Arab Emirates",
         "line": {
          "color": "#00cc96",
          "dash": "solid"
         },
         "marker": {
          "symbol": "circle"
         },
         "mode": "lines",
         "name": "United Arab Emirates",
         "showlegend": true,
         "type": "scattergl",
         "x": [
          1962,
          1967,
          1972,
          1977,
          1982,
          1987,
          1992,
          1997,
          2002,
          2007
         ],
         "xaxis": "x",
         "y": [
          54.327,
          59.3404634146,
          63.3663170732,
          66.454,
          68.884097561,
          70.77812195119998,
          72.2964146341,
          73.6526585366,
          74.9682682927,
          76.1111707317
         ],
         "yaxis": "y"
        },
        {
         "hovertemplate": "Country Name=United Kingdom<br>Year=%{x}<br>value=%{y}<extra></extra>",
         "legendgroup": "United Kingdom",
         "line": {
          "color": "#ab63fa",
          "dash": "solid"
         },
         "marker": {
          "symbol": "circle"
         },
         "mode": "lines",
         "name": "United Kingdom",
         "showlegend": true,
         "type": "scattergl",
         "x": [
          1962,
          1967,
          1972,
          1977,
          1982,
          1987,
          1992,
          1997,
          2002,
          2007
         ],
         "xaxis": "x",
         "y": [
          70.9268292683,
          72.12439024390001,
          72.12439024390001,
          73.2243902439,
          74.1780487805,
          75.28048780489999,
          76.4341463415,
          77.2109756098,
          78.143902439,
          79.4487804878
         ],
         "yaxis": "y"
        },
        {
         "hovertemplate": "Country Name=United States<br>Year=%{x}<br>value=%{y}<extra></extra>",
         "legendgroup": "United States",
         "line": {
          "color": "#FFA15A",
          "dash": "solid"
         },
         "marker": {
          "symbol": "circle"
         },
         "mode": "lines",
         "name": "United States",
         "showlegend": true,
         "type": "scattergl",
         "x": [
          1962,
          1967,
          1972,
          1977,
          1982,
          1987,
          1992,
          1997,
          2002,
          2007
         ],
         "xaxis": "x",
         "y": [
          70.1195121951,
          70.5609756098,
          71.15609756100001,
          73.256097561,
          74.3609756098,
          74.7658536585,
          75.6170731707,
          76.4292682927,
          76.9365853659,
          77.987804878
         ],
         "yaxis": "y"
        },
        {
         "hovertemplate": "Country Name=Upper middle income<br>Year=%{x}<br>value=%{y}<extra></extra>",
         "legendgroup": "Upper middle income",
         "line": {
          "color": "#19d3f3",
          "dash": "solid"
         },
         "marker": {
          "symbol": "circle"
         },
         "mode": "lines",
         "name": "Upper middle income",
         "showlegend": true,
         "type": "scattergl",
         "x": [
          1962,
          1967,
          1972,
          1977,
          1982,
          1987,
          1992,
          1997,
          2002,
          2007
         ],
         "xaxis": "x",
         "y": [
          50.6596427316,
          56.447874889,
          61.3888470623,
          64.2206388498,
          66.120794746,
          67.6729393899,
          68.5693888367,
          69.7323372559,
          71.2321677416,
          72.7812540165
         ],
         "yaxis": "y"
        },
        {
         "hovertemplate": "Country Name=Uruguay<br>Year=%{x}<br>value=%{y}<extra></extra>",
         "legendgroup": "Uruguay",
         "line": {
          "color": "#FF6692",
          "dash": "solid"
         },
         "marker": {
          "symbol": "circle"
         },
         "mode": "lines",
         "name": "Uruguay",
         "showlegend": true,
         "type": "scattergl",
         "x": [
          1962,
          1967,
          1972,
          1977,
          1982,
          1987,
          1992,
          1997,
          2002,
          2007
         ],
         "xaxis": "x",
         "y": [
          68.29663414630001,
          68.6455121951,
          68.795902439,
          69.5298536585,
          70.8316097561,
          71.99756097560001,
          72.906804878,
          74.005,
          75.09556097560001,
          75.9510243902
         ],
         "yaxis": "y"
        },
        {
         "hovertemplate": "Country Name=Uzbekistan<br>Year=%{x}<br>value=%{y}<extra></extra>",
         "legendgroup": "Uzbekistan",
         "line": {
          "color": "#B6E880",
          "dash": "solid"
         },
         "marker": {
          "symbol": "circle"
         },
         "mode": "lines",
         "name": "Uzbekistan",
         "showlegend": true,
         "type": "scattergl",
         "x": [
          1962,
          1967,
          1972,
          1977,
          1982,
          1987,
          1992,
          1997,
          2002,
          2007
         ],
         "xaxis": "x",
         "y": [
          59.713024390200005,
          61.7441219512,
          63.3203414634,
          64.4426829268,
          65.9221219512,
          67.0025121951,
          66.35926829270001,
          66.5711219512,
          67.1083658537,
          67.5312195122
         ],
         "yaxis": "y"
        },
        {
         "hovertemplate": "Country Name=Vanuatu<br>Year=%{x}<br>value=%{y}<extra></extra>",
         "legendgroup": "Vanuatu",
         "line": {
          "color": "#FF97FF",
          "dash": "solid"
         },
         "marker": {
          "symbol": "circle"
         },
         "mode": "lines",
         "name": "Vanuatu",
         "showlegend": true,
         "type": "scattergl",
         "x": [
          1962,
          1967,
          1972,
          1977,
          1982,
          1987,
          1992,
          1997,
          2002,
          2007
         ],
         "xaxis": "x",
         "y": [
          47.688195122,
          50.6818292683,
          53.6794390244,
          56.70309756100001,
          59.6648780488,
          61.9146341463,
          64.1034146341,
          66.330097561,
          68.2999512195,
          69.9487317073
         ],
         "yaxis": "y"
        },
        {
         "hovertemplate": "Country Name=Venezuela, RB<br>Year=%{x}<br>value=%{y}<extra></extra>",
         "legendgroup": "Venezuela, RB",
         "line": {
          "color": "#FECB52",
          "dash": "solid"
         },
         "marker": {
          "symbol": "circle"
         },
         "mode": "lines",
         "name": "Venezuela, RB",
         "showlegend": true,
         "type": "scattergl",
         "x": [
          1962,
          1967,
          1972,
          1977,
          1982,
          1987,
          1992,
          1997,
          2002,
          2007
         ],
         "xaxis": "x",
         "y": [
          60.4303170732,
          63.1118292683,
          65.5621463415,
          67.33619512199999,
          68.6445365854,
          69.4382195122,
          70.1880243902,
          71.5122682927,
          72.7752682927,
          73.38890243899999
         ],
         "yaxis": "y"
        },
        {
         "hovertemplate": "Country Name=Vietnam<br>Year=%{x}<br>value=%{y}<extra></extra>",
         "legendgroup": "Vietnam",
         "line": {
          "color": "#636efa",
          "dash": "solid"
         },
         "marker": {
          "symbol": "circle"
         },
         "mode": "lines",
         "name": "Vietnam",
         "showlegend": true,
         "type": "scattergl",
         "x": [
          1962,
          1967,
          1972,
          1977,
          1982,
          1987,
          1992,
          1997,
          2002,
          2007
         ],
         "xaxis": "x",
         "y": [
          60.4105365854,
          61.8420487805,
          59.0216097561,
          64.5267073171,
          68.09387804880001,
          69.50958536590001,
          70.9954634146,
          72.4035121951,
          73.5765609756,
          74.48385365850001
         ],
         "yaxis": "y"
        },
        {
         "hovertemplate": "Country Name=Virgin Islands<br>Year=%{x}<br>value=%{y}<extra></extra>",
         "legendgroup": "Virgin Islands",
         "line": {
          "color": "#EF553B",
          "dash": "solid"
         },
         "marker": {
          "symbol": "circle"
         },
         "mode": "lines",
         "name": "Virgin Islands",
         "showlegend": true,
         "type": "scattergl",
         "x": [
          1962,
          1967,
          1972,
          1977,
          1982,
          1987,
          1992,
          1997,
          2002,
          2007
         ],
         "xaxis": "x",
         "y": [
          64.4625609756,
          66.4624634146,
          68.58056097560001,
          70.49092682930001,
          72.03646341460002,
          73.7759512195,
          75.4005121951,
          76.8025609756,
          78.0243902439,
          78.8243902439
         ],
         "yaxis": "y"
        },
        {
         "hovertemplate": "Country Name=World<br>Year=%{x}<br>value=%{y}<extra></extra>",
         "legendgroup": "World",
         "line": {
          "color": "#00cc96",
          "dash": "solid"
         },
         "marker": {
          "symbol": "circle"
         },
         "mode": "lines",
         "name": "World",
         "showlegend": true,
         "type": "scattergl",
         "x": [
          1962,
          1967,
          1972,
          1977,
          1982,
          1987,
          1992,
          1997,
          2002,
          2007
         ],
         "xaxis": "x",
         "y": [
          53.4048904594,
          56.7345649354,
          59.5677386278,
          61.7970686012,
          63.46122939560001,
          64.7668539595,
          65.738976415,
          66.85742234279999,
          68.1584411646,
          69.6418542733
         ],
         "yaxis": "y"
        },
        {
         "hovertemplate": "Country Name=Yemen, Rep.<br>Year=%{x}<br>value=%{y}<extra></extra>",
         "legendgroup": "Yemen, Rep.",
         "line": {
          "color": "#ab63fa",
          "dash": "solid"
         },
         "marker": {
          "symbol": "circle"
         },
         "mode": "lines",
         "name": "Yemen, Rep.",
         "showlegend": true,
         "type": "scattergl",
         "x": [
          1962,
          1967,
          1972,
          1977,
          1982,
          1987,
          1992,
          1997,
          2002,
          2007
         ],
         "xaxis": "x",
         "y": [
          34.7395609756,
          38.420195122,
          42.8548292683,
          47.5404634146,
          52.4927073171,
          56.35673170729999,
          58.4186341463,
          59.7479756098,
          60.88800000000001,
          61.954804878
         ],
         "yaxis": "y"
        },
        {
         "hovertemplate": "Country Name=Zambia<br>Year=%{x}<br>value=%{y}<extra></extra>",
         "legendgroup": "Zambia",
         "line": {
          "color": "#FFA15A",
          "dash": "solid"
         },
         "marker": {
          "symbol": "circle"
         },
         "mode": "lines",
         "name": "Zambia",
         "showlegend": true,
         "type": "scattergl",
         "x": [
          1962,
          1967,
          1972,
          1977,
          1982,
          1987,
          1992,
          1997,
          2002,
          2007
         ],
         "xaxis": "x",
         "y": [
          45.8536585366,
          47.6814634146,
          49.9553414634,
          51.5481463415,
          50.786,
          46.9363658537,
          43.0046097561,
          42.158195122,
          45.3066585366,
          52.4771463415
         ],
         "yaxis": "y"
        },
        {
         "hovertemplate": "Country Name=Zimbabwe<br>Year=%{x}<br>value=%{y}<extra></extra>",
         "legendgroup": "Zimbabwe",
         "line": {
          "color": "#19d3f3",
          "dash": "solid"
         },
         "marker": {
          "symbol": "circle"
         },
         "mode": "lines",
         "name": "Zimbabwe",
         "showlegend": true,
         "type": "scattergl",
         "x": [
          1962,
          1967,
          1972,
          1977,
          1982,
          1987,
          1992,
          1997,
          2002,
          2007
         ],
         "xaxis": "x",
         "y": [
          52.277902439,
          53.9454390244,
          55.563097561000006,
          57.6513658537,
          60.60551219510001,
          61.753804878,
          56.4919756098,
          46.065902439,
          40.6791463415,
          44.1777560976
         ],
         "yaxis": "y"
        }
       ],
       "layout": {
        "legend": {
         "title": {
          "text": "Country Name"
         },
         "tracegroupgap": 0
        },
        "margin": {
         "t": 60
        },
        "template": {
         "data": {
          "bar": [
           {
            "error_x": {
             "color": "#2a3f5f"
            },
            "error_y": {
             "color": "#2a3f5f"
            },
            "marker": {
             "line": {
              "color": "#E5ECF6",
              "width": 0.5
             },
             "pattern": {
              "fillmode": "overlay",
              "size": 10,
              "solidity": 0.2
             }
            },
            "type": "bar"
           }
          ],
          "barpolar": [
           {
            "marker": {
             "line": {
              "color": "#E5ECF6",
              "width": 0.5
             },
             "pattern": {
              "fillmode": "overlay",
              "size": 10,
              "solidity": 0.2
             }
            },
            "type": "barpolar"
           }
          ],
          "carpet": [
           {
            "aaxis": {
             "endlinecolor": "#2a3f5f",
             "gridcolor": "white",
             "linecolor": "white",
             "minorgridcolor": "white",
             "startlinecolor": "#2a3f5f"
            },
            "baxis": {
             "endlinecolor": "#2a3f5f",
             "gridcolor": "white",
             "linecolor": "white",
             "minorgridcolor": "white",
             "startlinecolor": "#2a3f5f"
            },
            "type": "carpet"
           }
          ],
          "choropleth": [
           {
            "colorbar": {
             "outlinewidth": 0,
             "ticks": ""
            },
            "type": "choropleth"
           }
          ],
          "contour": [
           {
            "colorbar": {
             "outlinewidth": 0,
             "ticks": ""
            },
            "colorscale": [
             [
              0,
              "#0d0887"
             ],
             [
              0.1111111111111111,
              "#46039f"
             ],
             [
              0.2222222222222222,
              "#7201a8"
             ],
             [
              0.3333333333333333,
              "#9c179e"
             ],
             [
              0.4444444444444444,
              "#bd3786"
             ],
             [
              0.5555555555555556,
              "#d8576b"
             ],
             [
              0.6666666666666666,
              "#ed7953"
             ],
             [
              0.7777777777777778,
              "#fb9f3a"
             ],
             [
              0.8888888888888888,
              "#fdca26"
             ],
             [
              1,
              "#f0f921"
             ]
            ],
            "type": "contour"
           }
          ],
          "contourcarpet": [
           {
            "colorbar": {
             "outlinewidth": 0,
             "ticks": ""
            },
            "type": "contourcarpet"
           }
          ],
          "heatmap": [
           {
            "colorbar": {
             "outlinewidth": 0,
             "ticks": ""
            },
            "colorscale": [
             [
              0,
              "#0d0887"
             ],
             [
              0.1111111111111111,
              "#46039f"
             ],
             [
              0.2222222222222222,
              "#7201a8"
             ],
             [
              0.3333333333333333,
              "#9c179e"
             ],
             [
              0.4444444444444444,
              "#bd3786"
             ],
             [
              0.5555555555555556,
              "#d8576b"
             ],
             [
              0.6666666666666666,
              "#ed7953"
             ],
             [
              0.7777777777777778,
              "#fb9f3a"
             ],
             [
              0.8888888888888888,
              "#fdca26"
             ],
             [
              1,
              "#f0f921"
             ]
            ],
            "type": "heatmap"
           }
          ],
          "heatmapgl": [
           {
            "colorbar": {
             "outlinewidth": 0,
             "ticks": ""
            },
            "colorscale": [
             [
              0,
              "#0d0887"
             ],
             [
              0.1111111111111111,
              "#46039f"
             ],
             [
              0.2222222222222222,
              "#7201a8"
             ],
             [
              0.3333333333333333,
              "#9c179e"
             ],
             [
              0.4444444444444444,
              "#bd3786"
             ],
             [
              0.5555555555555556,
              "#d8576b"
             ],
             [
              0.6666666666666666,
              "#ed7953"
             ],
             [
              0.7777777777777778,
              "#fb9f3a"
             ],
             [
              0.8888888888888888,
              "#fdca26"
             ],
             [
              1,
              "#f0f921"
             ]
            ],
            "type": "heatmapgl"
           }
          ],
          "histogram": [
           {
            "marker": {
             "pattern": {
              "fillmode": "overlay",
              "size": 10,
              "solidity": 0.2
             }
            },
            "type": "histogram"
           }
          ],
          "histogram2d": [
           {
            "colorbar": {
             "outlinewidth": 0,
             "ticks": ""
            },
            "colorscale": [
             [
              0,
              "#0d0887"
             ],
             [
              0.1111111111111111,
              "#46039f"
             ],
             [
              0.2222222222222222,
              "#7201a8"
             ],
             [
              0.3333333333333333,
              "#9c179e"
             ],
             [
              0.4444444444444444,
              "#bd3786"
             ],
             [
              0.5555555555555556,
              "#d8576b"
             ],
             [
              0.6666666666666666,
              "#ed7953"
             ],
             [
              0.7777777777777778,
              "#fb9f3a"
             ],
             [
              0.8888888888888888,
              "#fdca26"
             ],
             [
              1,
              "#f0f921"
             ]
            ],
            "type": "histogram2d"
           }
          ],
          "histogram2dcontour": [
           {
            "colorbar": {
             "outlinewidth": 0,
             "ticks": ""
            },
            "colorscale": [
             [
              0,
              "#0d0887"
             ],
             [
              0.1111111111111111,
              "#46039f"
             ],
             [
              0.2222222222222222,
              "#7201a8"
             ],
             [
              0.3333333333333333,
              "#9c179e"
             ],
             [
              0.4444444444444444,
              "#bd3786"
             ],
             [
              0.5555555555555556,
              "#d8576b"
             ],
             [
              0.6666666666666666,
              "#ed7953"
             ],
             [
              0.7777777777777778,
              "#fb9f3a"
             ],
             [
              0.8888888888888888,
              "#fdca26"
             ],
             [
              1,
              "#f0f921"
             ]
            ],
            "type": "histogram2dcontour"
           }
          ],
          "mesh3d": [
           {
            "colorbar": {
             "outlinewidth": 0,
             "ticks": ""
            },
            "type": "mesh3d"
           }
          ],
          "parcoords": [
           {
            "line": {
             "colorbar": {
              "outlinewidth": 0,
              "ticks": ""
             }
            },
            "type": "parcoords"
           }
          ],
          "pie": [
           {
            "automargin": true,
            "type": "pie"
           }
          ],
          "scatter": [
           {
            "marker": {
             "colorbar": {
              "outlinewidth": 0,
              "ticks": ""
             }
            },
            "type": "scatter"
           }
          ],
          "scatter3d": [
           {
            "line": {
             "colorbar": {
              "outlinewidth": 0,
              "ticks": ""
             }
            },
            "marker": {
             "colorbar": {
              "outlinewidth": 0,
              "ticks": ""
             }
            },
            "type": "scatter3d"
           }
          ],
          "scattercarpet": [
           {
            "marker": {
             "colorbar": {
              "outlinewidth": 0,
              "ticks": ""
             }
            },
            "type": "scattercarpet"
           }
          ],
          "scattergeo": [
           {
            "marker": {
             "colorbar": {
              "outlinewidth": 0,
              "ticks": ""
             }
            },
            "type": "scattergeo"
           }
          ],
          "scattergl": [
           {
            "marker": {
             "colorbar": {
              "outlinewidth": 0,
              "ticks": ""
             }
            },
            "type": "scattergl"
           }
          ],
          "scattermapbox": [
           {
            "marker": {
             "colorbar": {
              "outlinewidth": 0,
              "ticks": ""
             }
            },
            "type": "scattermapbox"
           }
          ],
          "scatterpolar": [
           {
            "marker": {
             "colorbar": {
              "outlinewidth": 0,
              "ticks": ""
             }
            },
            "type": "scatterpolar"
           }
          ],
          "scatterpolargl": [
           {
            "marker": {
             "colorbar": {
              "outlinewidth": 0,
              "ticks": ""
             }
            },
            "type": "scatterpolargl"
           }
          ],
          "scatterternary": [
           {
            "marker": {
             "colorbar": {
              "outlinewidth": 0,
              "ticks": ""
             }
            },
            "type": "scatterternary"
           }
          ],
          "surface": [
           {
            "colorbar": {
             "outlinewidth": 0,
             "ticks": ""
            },
            "colorscale": [
             [
              0,
              "#0d0887"
             ],
             [
              0.1111111111111111,
              "#46039f"
             ],
             [
              0.2222222222222222,
              "#7201a8"
             ],
             [
              0.3333333333333333,
              "#9c179e"
             ],
             [
              0.4444444444444444,
              "#bd3786"
             ],
             [
              0.5555555555555556,
              "#d8576b"
             ],
             [
              0.6666666666666666,
              "#ed7953"
             ],
             [
              0.7777777777777778,
              "#fb9f3a"
             ],
             [
              0.8888888888888888,
              "#fdca26"
             ],
             [
              1,
              "#f0f921"
             ]
            ],
            "type": "surface"
           }
          ],
          "table": [
           {
            "cells": {
             "fill": {
              "color": "#EBF0F8"
             },
             "line": {
              "color": "white"
             }
            },
            "header": {
             "fill": {
              "color": "#C8D4E3"
             },
             "line": {
              "color": "white"
             }
            },
            "type": "table"
           }
          ]
         },
         "layout": {
          "annotationdefaults": {
           "arrowcolor": "#2a3f5f",
           "arrowhead": 0,
           "arrowwidth": 1
          },
          "autotypenumbers": "strict",
          "coloraxis": {
           "colorbar": {
            "outlinewidth": 0,
            "ticks": ""
           }
          },
          "colorscale": {
           "diverging": [
            [
             0,
             "#8e0152"
            ],
            [
             0.1,
             "#c51b7d"
            ],
            [
             0.2,
             "#de77ae"
            ],
            [
             0.3,
             "#f1b6da"
            ],
            [
             0.4,
             "#fde0ef"
            ],
            [
             0.5,
             "#f7f7f7"
            ],
            [
             0.6,
             "#e6f5d0"
            ],
            [
             0.7,
             "#b8e186"
            ],
            [
             0.8,
             "#7fbc41"
            ],
            [
             0.9,
             "#4d9221"
            ],
            [
             1,
             "#276419"
            ]
           ],
           "sequential": [
            [
             0,
             "#0d0887"
            ],
            [
             0.1111111111111111,
             "#46039f"
            ],
            [
             0.2222222222222222,
             "#7201a8"
            ],
            [
             0.3333333333333333,
             "#9c179e"
            ],
            [
             0.4444444444444444,
             "#bd3786"
            ],
            [
             0.5555555555555556,
             "#d8576b"
            ],
            [
             0.6666666666666666,
             "#ed7953"
            ],
            [
             0.7777777777777778,
             "#fb9f3a"
            ],
            [
             0.8888888888888888,
             "#fdca26"
            ],
            [
             1,
             "#f0f921"
            ]
           ],
           "sequentialminus": [
            [
             0,
             "#0d0887"
            ],
            [
             0.1111111111111111,
             "#46039f"
            ],
            [
             0.2222222222222222,
             "#7201a8"
            ],
            [
             0.3333333333333333,
             "#9c179e"
            ],
            [
             0.4444444444444444,
             "#bd3786"
            ],
            [
             0.5555555555555556,
             "#d8576b"
            ],
            [
             0.6666666666666666,
             "#ed7953"
            ],
            [
             0.7777777777777778,
             "#fb9f3a"
            ],
            [
             0.8888888888888888,
             "#fdca26"
            ],
            [
             1,
             "#f0f921"
            ]
           ]
          },
          "colorway": [
           "#636efa",
           "#EF553B",
           "#00cc96",
           "#ab63fa",
           "#FFA15A",
           "#19d3f3",
           "#FF6692",
           "#B6E880",
           "#FF97FF",
           "#FECB52"
          ],
          "font": {
           "color": "#2a3f5f"
          },
          "geo": {
           "bgcolor": "white",
           "lakecolor": "white",
           "landcolor": "#E5ECF6",
           "showlakes": true,
           "showland": true,
           "subunitcolor": "white"
          },
          "hoverlabel": {
           "align": "left"
          },
          "hovermode": "closest",
          "mapbox": {
           "style": "light"
          },
          "paper_bgcolor": "white",
          "plot_bgcolor": "#E5ECF6",
          "polar": {
           "angularaxis": {
            "gridcolor": "white",
            "linecolor": "white",
            "ticks": ""
           },
           "bgcolor": "#E5ECF6",
           "radialaxis": {
            "gridcolor": "white",
            "linecolor": "white",
            "ticks": ""
           }
          },
          "scene": {
           "xaxis": {
            "backgroundcolor": "#E5ECF6",
            "gridcolor": "white",
            "gridwidth": 2,
            "linecolor": "white",
            "showbackground": true,
            "ticks": "",
            "zerolinecolor": "white"
           },
           "yaxis": {
            "backgroundcolor": "#E5ECF6",
            "gridcolor": "white",
            "gridwidth": 2,
            "linecolor": "white",
            "showbackground": true,
            "ticks": "",
            "zerolinecolor": "white"
           },
           "zaxis": {
            "backgroundcolor": "#E5ECF6",
            "gridcolor": "white",
            "gridwidth": 2,
            "linecolor": "white",
            "showbackground": true,
            "ticks": "",
            "zerolinecolor": "white"
           }
          },
          "shapedefaults": {
           "line": {
            "color": "#2a3f5f"
           }
          },
          "ternary": {
           "aaxis": {
            "gridcolor": "white",
            "linecolor": "white",
            "ticks": ""
           },
           "baxis": {
            "gridcolor": "white",
            "linecolor": "white",
            "ticks": ""
           },
           "bgcolor": "#E5ECF6",
           "caxis": {
            "gridcolor": "white",
            "linecolor": "white",
            "ticks": ""
           }
          },
          "title": {
           "x": 0.05
          },
          "xaxis": {
           "automargin": true,
           "gridcolor": "white",
           "linecolor": "white",
           "ticks": "",
           "title": {
            "standoff": 15
           },
           "zerolinecolor": "white",
           "zerolinewidth": 2
          },
          "yaxis": {
           "automargin": true,
           "gridcolor": "white",
           "linecolor": "white",
           "ticks": "",
           "title": {
            "standoff": 15
           },
           "zerolinecolor": "white",
           "zerolinewidth": 2
          }
         }
        },
        "xaxis": {
         "anchor": "y",
         "domain": [
          0,
          1
         ],
         "title": {
          "text": "Year"
         }
        },
        "yaxis": {
         "anchor": "x",
         "domain": [
          0,
          1
         ],
         "title": {
          "text": "Energy consumption (Kg)"
         }
        }
       }
      }
     },
     "metadata": {}
    }
   ],
   "metadata": {}
  },
  {
   "cell_type": "markdown",
   "source": [],
   "metadata": {}
  }
 ]
}