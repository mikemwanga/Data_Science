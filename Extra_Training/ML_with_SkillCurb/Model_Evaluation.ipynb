{
 "cells": [
  {
   "cell_type": "markdown",
   "metadata": {},
   "source": [
    "# Model Evaluation\n",
    "\n",
    "## Cross Validation\n",
    "You never know how a model performs until its tested with real world data. We must show that the machine got the correct pattern from the data and not too much noise. CV helps estimate performance of model. \n",
    "\n",
    "Datasets are split into training and testing data. The training data is split into CV training set and CV testing set. \n",
    "\n",
    "A common type of CV is K-Fold cross validation which partitions the dataset into k number of subset called folds. Model is tested against all the folds sets and average accuracy determined.\n",
    "\n",
    "## Accuracy and Precision\n",
    "Accuracy - closeness of the measure of value to specific value.\n",
    "Precission - closeness of the measure of value to each other. Variation between each parts.\n"
   ]
  }
 ],
 "metadata": {
  "interpreter": {
   "hash": "3f7b666644959128e58c2485da14ecd40dd6c2eec2453ce73327d475809eba14"
  },
  "kernelspec": {
   "display_name": "Python 3 (ipykernel)",
   "language": "python",
   "name": "python3"
  },
  "language_info": {
   "codemirror_mode": {
    "name": "ipython",
    "version": 3
   },
   "file_extension": ".py",
   "mimetype": "text/x-python",
   "name": "python",
   "nbconvert_exporter": "python",
   "pygments_lexer": "ipython3",
   "version": "3.9.5"
  }
 },
 "nbformat": 4,
 "nbformat_minor": 2
}
